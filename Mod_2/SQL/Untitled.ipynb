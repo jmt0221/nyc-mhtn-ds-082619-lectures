{
 "cells": [
  {
   "cell_type": "code",
   "execution_count": null,
   "metadata": {},
   "outputs": [],
   "source": [
    "Justin = {\"name\": 'Justin Tennenbaum',\n",
    "\"birthdate\": '02-21-1995',\n",
    "\"siblings\": 2,\n",
    "\"Birthplace\": 'New Brunswick, NJ',\n",
    "\"yearsinnyc\": 24,\n",
    "\"favoritefood\":'Ribs'}"
   ]
  }
 ],
 "metadata": {
  "kernelspec": {
   "display_name": "learn-env",
   "language": "python",
   "name": "learn-env"
  },
  "language_info": {
   "codemirror_mode": {
    "name": "ipython",
    "version": 3
   },
   "file_extension": ".py",
   "mimetype": "text/x-python",
   "name": "python",
   "nbconvert_exporter": "python",
   "pygments_lexer": "ipython3",
   "version": "3.7.4"
  }
 },
 "nbformat": 4,
 "nbformat_minor": 2
}
