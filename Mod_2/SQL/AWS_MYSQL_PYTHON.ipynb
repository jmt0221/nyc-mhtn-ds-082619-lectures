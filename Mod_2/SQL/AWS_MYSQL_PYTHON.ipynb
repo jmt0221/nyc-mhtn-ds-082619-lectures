{
 "cells": [
  {
   "cell_type": "markdown",
   "metadata": {},
   "source": [
    "# Combining Python, SQL DBs and AWS"
   ]
  },
  {
   "cell_type": "markdown",
   "metadata": {},
   "source": [
    "## Aim: Create a RDB instance on AWS, connect to it through python, and execute queries.  \n"
   ]
  },
  {
   "cell_type": "markdown",
   "metadata": {},
   "source": [
    "## Create an instance on AWS  \n",
    "    \n",
    "https://aws.amazon.com/getting-started/tutorials/create-mysql-db/"
   ]
  },
  {
   "cell_type": "markdown",
   "metadata": {},
   "source": [
    "##  Using MYSQLWorkbench\n",
    "\n",
    "Before we complicate things with using Python, we want to use MYSQLWorkbench to make sure we set up our AWS server correctly and can connect to it.  \n",
    "\n",
    "- Create a connection to the AWS server\n",
    "- Execute a simple create table query\n",
    "- Drop the table\n"
   ]
  },
  {
   "cell_type": "markdown",
   "metadata": {},
   "source": [
    "# Using Python with MYSQL DB"
   ]
  },
  {
   "cell_type": "code",
   "execution_count": 2,
   "metadata": {},
   "outputs": [
    {
     "name": "stdout",
     "output_type": "stream",
     "text": [
      "alabaster==0.7.12\n",
      "anaconda-client==1.7.2\n",
      "anaconda-navigator==1.9.7\n",
      "anaconda-project==0.8.2\n",
      "appnope==0.1.0\n",
      "appscript==1.0.1\n",
      "asn1crypto==0.24.0\n",
      "astroid==2.2.5\n",
      "astropy==3.1.2\n",
      "atomicwrites==1.3.0\n",
      "attrs==19.1.0\n",
      "Babel==2.6.0\n",
      "backcall==0.1.0\n",
      "backports.os==0.1.1\n",
      "backports.shutil-get-terminal-size==1.0.0\n",
      "beautifulsoup4==4.7.1\n",
      "bitarray==0.8.3\n",
      "bkcharts==0.2\n",
      "bleach==3.1.0\n",
      "bokeh==1.0.4\n",
      "boto==2.49.0\n",
      "Bottleneck==1.2.1\n",
      "certifi==2019.3.9\n",
      "cffi==1.12.2\n",
      "chardet==3.0.4\n",
      "Click==7.0\n",
      "cloudpickle==0.8.0\n",
      "clyent==1.2.2\n",
      "colorama==0.4.1\n",
      "conda==4.7.11\n",
      "conda-build==3.17.8\n",
      "conda-package-handling==1.3.11\n",
      "conda-verify==3.1.1\n",
      "contextlib2==0.5.5\n",
      "cryptography==2.6.1\n",
      "cycler==0.10.0\n",
      "Cython==0.29.6\n",
      "cytoolz==0.9.0.1\n",
      "dask==1.1.4\n",
      "decorator==4.4.0\n",
      "defusedxml==0.5.0\n",
      "distributed==1.26.0\n",
      "docutils==0.14\n",
      "entrypoints==0.3\n",
      "et-xmlfile==1.0.1\n",
      "fastcache==1.0.2\n",
      "filelock==3.0.10\n",
      "Flask==1.0.2\n",
      "future==0.17.1\n",
      "gevent==1.4.0\n",
      "glob2==0.6\n",
      "gmpy2==2.0.8\n",
      "greenlet==0.4.15\n",
      "h5py==2.9.0\n",
      "heapdict==1.0.0\n",
      "html5lib==1.0.1\n",
      "idna==2.8\n",
      "imageio==2.5.0\n",
      "imagesize==1.1.0\n",
      "importlib-metadata==0.0.0\n",
      "ipykernel==5.1.0\n",
      "ipython==7.4.0\n",
      "ipython-genutils==0.2.0\n",
      "ipywidgets==7.4.2\n",
      "isort==4.3.16\n",
      "itsdangerous==1.1.0\n",
      "jdcal==1.4\n",
      "jedi==0.13.3\n",
      "Jinja2==2.10\n",
      "jsonschema==3.0.1\n",
      "jupyter==1.0.0\n",
      "jupyter-client==5.2.4\n",
      "jupyter-console==6.0.0\n",
      "jupyter-core==4.4.0\n",
      "jupyterlab==0.35.4\n",
      "jupyterlab-server==0.2.0\n",
      "jupyterthemes==0.20.0\n",
      "keyring==18.0.0\n",
      "kiwisolver==1.0.1\n",
      "lazy-object-proxy==1.3.1\n",
      "lesscpy==0.13.0\n",
      "libarchive-c==2.8\n",
      "lief==0.9.0\n",
      "llvmlite==0.28.0\n",
      "locket==0.2.0\n",
      "lxml==4.3.2\n",
      "MarkupSafe==1.1.1\n",
      "matplotlib==3.0.3\n",
      "mccabe==0.6.1\n",
      "mistune==0.8.4\n",
      "mkl-fft==1.0.10\n",
      "mkl-random==1.0.2\n",
      "more-itertools==6.0.0\n",
      "mpmath==1.1.0\n",
      "msgpack==0.6.1\n",
      "multipledispatch==0.6.0\n",
      "mysql-connector-python==8.0.17\n",
      "navigator-updater==0.2.1\n",
      "nbconvert==5.4.1\n",
      "nbformat==4.4.0\n",
      "networkx==2.2\n",
      "nltk==3.4\n",
      "nose==1.3.7\n",
      "notebook==5.7.8\n",
      "numba==0.43.1\n",
      "numexpr==2.6.9\n",
      "numpy==1.16.2\n",
      "numpydoc==0.8.0\n",
      "olefile==0.46\n",
      "openpyxl==2.6.1\n",
      "packaging==19.0\n",
      "pandas==0.24.2\n",
      "pandocfilters==1.4.2\n",
      "parso==0.3.4\n",
      "partd==0.3.10\n",
      "path.py==11.5.0\n",
      "pathlib2==2.3.3\n",
      "patsy==0.5.1\n",
      "pep8==1.7.1\n",
      "pexpect==4.6.0\n",
      "pickleshare==0.7.5\n",
      "Pillow==5.4.1\n",
      "pkginfo==1.5.0.1\n",
      "pluggy==0.9.0\n",
      "ply==3.11\n",
      "prometheus-client==0.6.0\n",
      "prompt-toolkit==2.0.9\n",
      "protobuf==3.9.1\n",
      "psutil==5.6.1\n",
      "ptyprocess==0.6.0\n",
      "py==1.8.0\n",
      "pycodestyle==2.5.0\n",
      "pycosat==0.6.3\n",
      "pycparser==2.19\n",
      "pycrypto==2.6.1\n",
      "pycurl==7.43.0.2\n",
      "pyflakes==2.1.1\n",
      "Pygments==2.3.1\n",
      "pylint==2.3.1\n",
      "pyodbc==4.0.26\n",
      "pyOpenSSL==19.0.0\n",
      "pyparsing==2.3.1\n",
      "pyrsistent==0.14.11\n",
      "PySocks==1.6.8\n",
      "pytest==4.3.1\n",
      "pytest-arraydiff==0.3\n",
      "pytest-astropy==0.5.0\n",
      "pytest-doctestplus==0.3.0\n",
      "pytest-openfiles==0.3.2\n",
      "pytest-remotedata==0.3.1\n",
      "python-dateutil==2.8.0\n",
      "pytz==2018.9\n",
      "PyWavelets==1.0.2\n",
      "PyYAML==5.1\n",
      "pyzmq==18.0.0\n",
      "QtAwesome==0.5.7\n",
      "qtconsole==4.4.3\n",
      "QtPy==1.7.0\n",
      "requests==2.21.0\n",
      "rope==0.12.0\n",
      "ruamel-yaml==0.15.46\n",
      "scikit-image==0.14.2\n",
      "scikit-learn==0.20.3\n",
      "scipy==1.2.1\n",
      "seaborn==0.9.0\n",
      "Send2Trash==1.5.0\n",
      "simplegeneric==0.8.1\n",
      "singledispatch==3.4.0.3\n",
      "six==1.12.0\n",
      "snowballstemmer==1.2.1\n",
      "sortedcollections==1.1.2\n",
      "sortedcontainers==2.1.0\n",
      "soupsieve==1.8\n",
      "Sphinx==1.8.5\n",
      "sphinxcontrib-websupport==1.1.0\n",
      "spyder==3.3.3\n",
      "spyder-kernels==0.4.2\n",
      "SQLAlchemy==1.3.1\n",
      "statsmodels==0.9.0\n",
      "sympy==1.3\n",
      "tables==3.5.1\n",
      "tblib==1.3.2\n",
      "terminado==0.8.1\n",
      "testpath==0.4.2\n",
      "toolz==0.9.0\n",
      "tornado==6.0.2\n",
      "tqdm==4.31.1\n",
      "traitlets==4.3.2\n",
      "unicodecsv==0.14.1\n",
      "urllib3==1.24.1\n",
      "wcwidth==0.1.7\n",
      "webencodings==0.5.1\n",
      "Werkzeug==0.14.1\n",
      "widgetsnbextension==3.4.2\n",
      "wrapt==1.11.1\n",
      "wurlitzer==1.0.2\n",
      "xlrd==1.2.0\n",
      "XlsxWriter==1.1.5\n",
      "xlwings==0.15.4\n",
      "xlwt==1.3.0\n",
      "zict==0.1.4\n",
      "zipp==0.3.3\n"
     ]
    }
   ],
   "source": [
    "!pip freeze"
   ]
  },
  {
   "cell_type": "code",
   "execution_count": 3,
   "metadata": {},
   "outputs": [
    {
     "name": "stdout",
     "output_type": "stream",
     "text": [
      "Collecting mysql-connector-python-rf\n",
      "\u001b[?25l  Downloading https://files.pythonhosted.org/packages/21/79/2ff01ab7aa08db3a16b70b990c579c1024c6b2a734263cc7513a758867de/mysql-connector-python-rf-2.2.2.tar.gz (11.9MB)\n",
      "\u001b[K     |████████████████████████████████| 11.9MB 16.7MB/s eta 0:00:01\n",
      "\u001b[?25hBuilding wheels for collected packages: mysql-connector-python-rf\n",
      "  Building wheel for mysql-connector-python-rf (setup.py) ... \u001b[?25ldone\n",
      "\u001b[?25h  Created wheel for mysql-connector-python-rf: filename=mysql_connector_python_rf-2.2.2-cp37-cp37m-macosx_10_7_x86_64.whl size=249463 sha256=970a67f6ef34630e57c9659e950ad46a7268d83ef6d39314f56b5c3a59cabdf7\n",
      "  Stored in directory: /Users/justintennenbaum/Library/Caches/pip/wheels/87/58/fb/d95c84fad7e1bebfed324c13e107ebb08e1997c9226532859a\n",
      "Successfully built mysql-connector-python-rf\n",
      "Installing collected packages: mysql-connector-python-rf\n",
      "Successfully installed mysql-connector-python-rf-2.2.2\n"
     ]
    }
   ],
   "source": [
    "# make sure we have the package installed\n",
    "!pip install mysql-connector-python-rf"
   ]
  },
  {
   "cell_type": "code",
   "execution_count": 4,
   "metadata": {
    "scrolled": true
   },
   "outputs": [
    {
     "ename": "ModuleNotFoundError",
     "evalue": "No module named 'mysql'",
     "output_type": "error",
     "traceback": [
      "\u001b[0;31m---------------------------------------------------------------------------\u001b[0m",
      "\u001b[0;31mModuleNotFoundError\u001b[0m                       Traceback (most recent call last)",
      "\u001b[0;32m<ipython-input-4-18b8a3d61dc9>\u001b[0m in \u001b[0;36m<module>\u001b[0;34m\u001b[0m\n\u001b[1;32m      1\u001b[0m \u001b[0;31m## importing 'mysql.connector'\u001b[0m\u001b[0;34m\u001b[0m\u001b[0;34m\u001b[0m\u001b[0;34m\u001b[0m\u001b[0m\n\u001b[0;32m----> 2\u001b[0;31m \u001b[0;32mimport\u001b[0m \u001b[0mmysql\u001b[0m\u001b[0;34m.\u001b[0m\u001b[0mconnector\u001b[0m\u001b[0;34m\u001b[0m\u001b[0;34m\u001b[0m\u001b[0m\n\u001b[0m",
      "\u001b[0;31mModuleNotFoundError\u001b[0m: No module named 'mysql'"
     ]
    }
   ],
   "source": [
    "## importing 'mysql.connector' \n",
    "import mysql.connector"
   ]
  },
  {
   "cell_type": "code",
   "execution_count": 2,
   "metadata": {
    "collapsed": true
   },
   "outputs": [
    {
     "ename": "InterfaceError",
     "evalue": "2003: Can't connect to MySQL server on 'localhost:3306' (61 Connection refused)",
     "output_type": "error",
     "traceback": [
      "\u001b[0;31m---------------------------------------------------------------------------\u001b[0m",
      "\u001b[0;31mConnectionRefusedError\u001b[0m                    Traceback (most recent call last)",
      "\u001b[0;32m/anaconda3/lib/python3.7/site-packages/mysql/connector/network.py\u001b[0m in \u001b[0;36mopen_connection\u001b[0;34m(self)\u001b[0m\n\u001b[1;32m    508\u001b[0m             \u001b[0mself\u001b[0m\u001b[0;34m.\u001b[0m\u001b[0msock\u001b[0m\u001b[0;34m.\u001b[0m\u001b[0msettimeout\u001b[0m\u001b[0;34m(\u001b[0m\u001b[0mself\u001b[0m\u001b[0;34m.\u001b[0m\u001b[0m_connection_timeout\u001b[0m\u001b[0;34m)\u001b[0m\u001b[0;34m\u001b[0m\u001b[0;34m\u001b[0m\u001b[0m\n\u001b[0;32m--> 509\u001b[0;31m             \u001b[0mself\u001b[0m\u001b[0;34m.\u001b[0m\u001b[0msock\u001b[0m\u001b[0;34m.\u001b[0m\u001b[0mconnect\u001b[0m\u001b[0;34m(\u001b[0m\u001b[0msockaddr\u001b[0m\u001b[0;34m)\u001b[0m\u001b[0;34m\u001b[0m\u001b[0;34m\u001b[0m\u001b[0m\n\u001b[0m\u001b[1;32m    510\u001b[0m         \u001b[0;32mexcept\u001b[0m \u001b[0mIOError\u001b[0m \u001b[0;32mas\u001b[0m \u001b[0merr\u001b[0m\u001b[0;34m:\u001b[0m\u001b[0;34m\u001b[0m\u001b[0;34m\u001b[0m\u001b[0m\n",
      "\u001b[0;31mConnectionRefusedError\u001b[0m: [Errno 61] Connection refused",
      "\nDuring handling of the above exception, another exception occurred:\n",
      "\u001b[0;31mInterfaceError\u001b[0m                            Traceback (most recent call last)",
      "\u001b[0;32m<ipython-input-2-54831cc22989>\u001b[0m in \u001b[0;36m<module>\u001b[0;34m\u001b[0m\n\u001b[1;32m      8\u001b[0m     \u001b[0mhost\u001b[0m \u001b[0;34m=\u001b[0m \u001b[0;34m\"localhost\"\u001b[0m\u001b[0;34m,\u001b[0m\u001b[0;34m\u001b[0m\u001b[0;34m\u001b[0m\u001b[0m\n\u001b[1;32m      9\u001b[0m     \u001b[0muser\u001b[0m \u001b[0;34m=\u001b[0m \u001b[0;34m\"root\"\u001b[0m\u001b[0;34m,\u001b[0m\u001b[0;34m\u001b[0m\u001b[0;34m\u001b[0m\u001b[0m\n\u001b[0;32m---> 10\u001b[0;31m     \u001b[0mpasswd\u001b[0m \u001b[0;34m=\u001b[0m \u001b[0;34m\"dbms\"\u001b[0m\u001b[0;34m\u001b[0m\u001b[0;34m\u001b[0m\u001b[0m\n\u001b[0m\u001b[1;32m     11\u001b[0m )\n",
      "\u001b[0;32m/anaconda3/lib/python3.7/site-packages/mysql/connector/__init__.py\u001b[0m in \u001b[0;36mconnect\u001b[0;34m(*args, **kwargs)\u001b[0m\n\u001b[1;32m    177\u001b[0m         \u001b[0;32mreturn\u001b[0m \u001b[0mCMySQLConnection\u001b[0m\u001b[0;34m(\u001b[0m\u001b[0;34m*\u001b[0m\u001b[0margs\u001b[0m\u001b[0;34m,\u001b[0m \u001b[0;34m**\u001b[0m\u001b[0mkwargs\u001b[0m\u001b[0;34m)\u001b[0m\u001b[0;34m\u001b[0m\u001b[0;34m\u001b[0m\u001b[0m\n\u001b[1;32m    178\u001b[0m     \u001b[0;32melse\u001b[0m\u001b[0;34m:\u001b[0m\u001b[0;34m\u001b[0m\u001b[0;34m\u001b[0m\u001b[0m\n\u001b[0;32m--> 179\u001b[0;31m         \u001b[0;32mreturn\u001b[0m \u001b[0mMySQLConnection\u001b[0m\u001b[0;34m(\u001b[0m\u001b[0;34m*\u001b[0m\u001b[0margs\u001b[0m\u001b[0;34m,\u001b[0m \u001b[0;34m**\u001b[0m\u001b[0mkwargs\u001b[0m\u001b[0;34m)\u001b[0m\u001b[0;34m\u001b[0m\u001b[0;34m\u001b[0m\u001b[0m\n\u001b[0m\u001b[1;32m    180\u001b[0m \u001b[0mConnect\u001b[0m \u001b[0;34m=\u001b[0m \u001b[0mconnect\u001b[0m  \u001b[0;31m# pylint: disable=C0103\u001b[0m\u001b[0;34m\u001b[0m\u001b[0;34m\u001b[0m\u001b[0m\n\u001b[1;32m    181\u001b[0m \u001b[0;34m\u001b[0m\u001b[0m\n",
      "\u001b[0;32m/anaconda3/lib/python3.7/site-packages/mysql/connector/connection.py\u001b[0m in \u001b[0;36m__init__\u001b[0;34m(self, *args, **kwargs)\u001b[0m\n\u001b[1;32m     93\u001b[0m \u001b[0;34m\u001b[0m\u001b[0m\n\u001b[1;32m     94\u001b[0m         \u001b[0;32mif\u001b[0m \u001b[0mlen\u001b[0m\u001b[0;34m(\u001b[0m\u001b[0mkwargs\u001b[0m\u001b[0;34m)\u001b[0m \u001b[0;34m>\u001b[0m \u001b[0;36m0\u001b[0m\u001b[0;34m:\u001b[0m\u001b[0;34m\u001b[0m\u001b[0;34m\u001b[0m\u001b[0m\n\u001b[0;32m---> 95\u001b[0;31m             \u001b[0mself\u001b[0m\u001b[0;34m.\u001b[0m\u001b[0mconnect\u001b[0m\u001b[0;34m(\u001b[0m\u001b[0;34m**\u001b[0m\u001b[0mkwargs\u001b[0m\u001b[0;34m)\u001b[0m\u001b[0;34m\u001b[0m\u001b[0;34m\u001b[0m\u001b[0m\n\u001b[0m\u001b[1;32m     96\u001b[0m \u001b[0;34m\u001b[0m\u001b[0m\n\u001b[1;32m     97\u001b[0m     \u001b[0;32mdef\u001b[0m \u001b[0m_do_handshake\u001b[0m\u001b[0;34m(\u001b[0m\u001b[0mself\u001b[0m\u001b[0;34m)\u001b[0m\u001b[0;34m:\u001b[0m\u001b[0;34m\u001b[0m\u001b[0;34m\u001b[0m\u001b[0m\n",
      "\u001b[0;32m/anaconda3/lib/python3.7/site-packages/mysql/connector/abstracts.py\u001b[0m in \u001b[0;36mconnect\u001b[0;34m(self, **kwargs)\u001b[0m\n\u001b[1;32m    714\u001b[0m \u001b[0;34m\u001b[0m\u001b[0m\n\u001b[1;32m    715\u001b[0m         \u001b[0mself\u001b[0m\u001b[0;34m.\u001b[0m\u001b[0mdisconnect\u001b[0m\u001b[0;34m(\u001b[0m\u001b[0;34m)\u001b[0m\u001b[0;34m\u001b[0m\u001b[0;34m\u001b[0m\u001b[0m\n\u001b[0;32m--> 716\u001b[0;31m         \u001b[0mself\u001b[0m\u001b[0;34m.\u001b[0m\u001b[0m_open_connection\u001b[0m\u001b[0;34m(\u001b[0m\u001b[0;34m)\u001b[0m\u001b[0;34m\u001b[0m\u001b[0;34m\u001b[0m\u001b[0m\n\u001b[0m\u001b[1;32m    717\u001b[0m         \u001b[0mself\u001b[0m\u001b[0;34m.\u001b[0m\u001b[0m_post_connection\u001b[0m\u001b[0;34m(\u001b[0m\u001b[0;34m)\u001b[0m\u001b[0;34m\u001b[0m\u001b[0;34m\u001b[0m\u001b[0m\n\u001b[1;32m    718\u001b[0m \u001b[0;34m\u001b[0m\u001b[0m\n",
      "\u001b[0;32m/anaconda3/lib/python3.7/site-packages/mysql/connector/connection.py\u001b[0m in \u001b[0;36m_open_connection\u001b[0;34m(self)\u001b[0m\n\u001b[1;32m    204\u001b[0m         \u001b[0mself\u001b[0m\u001b[0;34m.\u001b[0m\u001b[0m_protocol\u001b[0m \u001b[0;34m=\u001b[0m \u001b[0mMySQLProtocol\u001b[0m\u001b[0;34m(\u001b[0m\u001b[0;34m)\u001b[0m\u001b[0;34m\u001b[0m\u001b[0;34m\u001b[0m\u001b[0m\n\u001b[1;32m    205\u001b[0m         \u001b[0mself\u001b[0m\u001b[0;34m.\u001b[0m\u001b[0m_socket\u001b[0m \u001b[0;34m=\u001b[0m \u001b[0mself\u001b[0m\u001b[0;34m.\u001b[0m\u001b[0m_get_connection\u001b[0m\u001b[0;34m(\u001b[0m\u001b[0;34m)\u001b[0m\u001b[0;34m\u001b[0m\u001b[0;34m\u001b[0m\u001b[0m\n\u001b[0;32m--> 206\u001b[0;31m         \u001b[0mself\u001b[0m\u001b[0;34m.\u001b[0m\u001b[0m_socket\u001b[0m\u001b[0;34m.\u001b[0m\u001b[0mopen_connection\u001b[0m\u001b[0;34m(\u001b[0m\u001b[0;34m)\u001b[0m\u001b[0;34m\u001b[0m\u001b[0;34m\u001b[0m\u001b[0m\n\u001b[0m\u001b[1;32m    207\u001b[0m         \u001b[0mself\u001b[0m\u001b[0;34m.\u001b[0m\u001b[0m_do_handshake\u001b[0m\u001b[0;34m(\u001b[0m\u001b[0;34m)\u001b[0m\u001b[0;34m\u001b[0m\u001b[0;34m\u001b[0m\u001b[0m\n\u001b[1;32m    208\u001b[0m         self._do_auth(self._user, self._password,\n",
      "\u001b[0;32m/anaconda3/lib/python3.7/site-packages/mysql/connector/network.py\u001b[0m in \u001b[0;36mopen_connection\u001b[0;34m(self)\u001b[0m\n\u001b[1;32m    510\u001b[0m         \u001b[0;32mexcept\u001b[0m \u001b[0mIOError\u001b[0m \u001b[0;32mas\u001b[0m \u001b[0merr\u001b[0m\u001b[0;34m:\u001b[0m\u001b[0;34m\u001b[0m\u001b[0;34m\u001b[0m\u001b[0m\n\u001b[1;32m    511\u001b[0m             raise errors.InterfaceError(\n\u001b[0;32m--> 512\u001b[0;31m                 errno=2003, values=(self.get_address(), _strioerror(err)))\n\u001b[0m\u001b[1;32m    513\u001b[0m         \u001b[0;32mexcept\u001b[0m \u001b[0mException\u001b[0m \u001b[0;32mas\u001b[0m \u001b[0merr\u001b[0m\u001b[0;34m:\u001b[0m\u001b[0;34m\u001b[0m\u001b[0;34m\u001b[0m\u001b[0m\n\u001b[1;32m    514\u001b[0m             \u001b[0;32mraise\u001b[0m \u001b[0merrors\u001b[0m\u001b[0;34m.\u001b[0m\u001b[0mOperationalError\u001b[0m\u001b[0;34m(\u001b[0m\u001b[0mstr\u001b[0m\u001b[0;34m(\u001b[0m\u001b[0merr\u001b[0m\u001b[0;34m)\u001b[0m\u001b[0;34m)\u001b[0m\u001b[0;34m\u001b[0m\u001b[0;34m\u001b[0m\u001b[0m\n",
      "\u001b[0;31mInterfaceError\u001b[0m: 2003: Can't connect to MySQL server on 'localhost:3306' (61 Connection refused)"
     ]
    }
   ],
   "source": [
    "## Connecting to the database\n",
    "\n",
    "## connecting to the database using 'connect()' method\n",
    "## it takes 3 required parameters 'host', 'user', 'passwd'\n",
    "cnx = mysql.connector .connect(\n",
    "    host = \"localhost\",\n",
    "    user = \"root\",\n",
    "    passwd = \"dbms\"\n",
    ")"
   ]
  },
  {
   "cell_type": "markdown",
   "metadata": {},
   "source": [
    "### Documentation:\n",
    "\n",
    "https://dev.mysql.com/doc/connector-python/en/connector-python-connectargs.html"
   ]
  },
  {
   "cell_type": "markdown",
   "metadata": {},
   "source": [
    "## Using a config File:\n",
    "\n",
    "You do not want to make your credentials viewable to everyone who might see this file.  So instead of explicity stating your credentials, we want to import them from another file.  "
   ]
  },
  {
   "cell_type": "code",
   "execution_count": 3,
   "metadata": {},
   "outputs": [],
   "source": [
    "import config"
   ]
  },
  {
   "cell_type": "code",
   "execution_count": null,
   "metadata": {},
   "outputs": [],
   "source": [
    "config.pw_example"
   ]
  },
  {
   "cell_type": "code",
   "execution_count": 5,
   "metadata": {},
   "outputs": [
    {
     "name": "stdout",
     "output_type": "stream",
     "text": [
      "<mysql.connector.connection.MySQLConnection object at 0x112aebe80>\n"
     ]
    }
   ],
   "source": [
    "## Connecting to the database\n",
    "\n",
    "## connecting to the database using 'connect()' method\n",
    "## it takes 3 required parameters 'host', 'user', 'passwd'\n",
    "cnx = mysql.connector .connect(\n",
    "    host = config.host,\n",
    "    user = config.user,\n",
    "    passwd = config.password\n",
    ")\n",
    "\n",
    "print(cnx) # it will print a connection object if everything is fine\n"
   ]
  },
  {
   "cell_type": "code",
   "execution_count": 6,
   "metadata": {},
   "outputs": [],
   "source": [
    "cursor = cnx.cursor()"
   ]
  },
  {
   "cell_type": "markdown",
   "metadata": {},
   "source": [
    "## Creating DB"
   ]
  },
  {
   "cell_type": "code",
   "execution_count": 7,
   "metadata": {},
   "outputs": [],
   "source": [
    "import mysql.connector\n",
    "from mysql.connector import errorcode"
   ]
  },
  {
   "cell_type": "code",
   "execution_count": 8,
   "metadata": {},
   "outputs": [],
   "source": [
    "db_name = 'employees'"
   ]
  },
  {
   "cell_type": "code",
   "execution_count": 9,
   "metadata": {},
   "outputs": [],
   "source": [
    "def create_database(cursor, database):\n",
    "    try:\n",
    "        cursor.execute(\n",
    "            \"CREATE DATABASE {} DEFAULT CHARACTER SET 'utf8'\".format(database))\n",
    "    except mysql.connector.Error as err:\n",
    "        print(\"Failed creating database: {}\".format(err))\n",
    "        exit(1)\n",
    "\n",
    "try:\n",
    "    cursor.execute(\"USE {}\".format(db_name))\n",
    "except mysql.connector.Error as err:\n",
    "    print(\"Database {} does not exists.\".format(db_name))\n",
    "    if err.errno == errorcode.ER_BAD_DB_ERROR:\n",
    "        create_database(cursor, db_name)\n",
    "        print(\"Database {} created successfully.\".format(db_name))\n",
    "        cnx.database = db_name\n",
    "    else:\n",
    "        print(err)\n",
    "        exit(1)"
   ]
  },
  {
   "cell_type": "markdown",
   "metadata": {},
   "source": [
    "### Creating tables"
   ]
  },
  {
   "cell_type": "code",
   "execution_count": 16,
   "metadata": {},
   "outputs": [],
   "source": [
    "DB_NAME = 'employees'\n",
    "\n",
    "TABLES = {}\n",
    "TABLES['employees'] = (\n",
    "    \"CREATE TABLE employees (\"\n",
    "    \"  emp_no int(11) NOT NULL AUTO_INCREMENT,\"\n",
    "    \"  birth_date date NOT NULL,\"\n",
    "    \"  first_name varchar(14) NOT NULL,\"\n",
    "    \"  last_name varchar(16) NOT NULL,\"\n",
    "    \"  gender enum('M','F') NOT NULL,\"\n",
    "    \"  hire_date date NOT NULL,\"\n",
    "    \"  PRIMARY KEY (emp_no)\"\n",
    "    \") ENGINE=InnoDB\")\n",
    "\n",
    "TABLES['departments'] = (\n",
    "    \"CREATE TABLE departments (\"\n",
    "    \"  dept_no char(4) NOT NULL,\"\n",
    "    \"  dept_name varchar(40) NOT NULL,\"\n",
    "    \"  PRIMARY KEY (dept_no), UNIQUE KEY dept_name (dept_name)\"\n",
    "    \") ENGINE=InnoDB\")\n",
    "\n",
    "TABLES['salaries'] = (\n",
    "    \"CREATE TABLE salaries (\"\n",
    "    \"  emp_no int(11) NOT NULL,\"\n",
    "    \"  salary int(11) NOT NULL,\"\n",
    "    \"  from_date date NOT NULL,\"\n",
    "    \"  to_date date NOT NULL,\"\n",
    "    \"  PRIMARY KEY (emp_no,from_date), KEY emp_no (emp_no),\"\n",
    "    \"  CONSTRAINT salaries_ibfk_1 FOREIGN KEY (emp_no) \"\n",
    "    \"     REFERENCES employees (emp_no) ON DELETE CASCADE\"\n",
    "    \") ENGINE=InnoDB\")\n",
    "\n",
    "TABLES['dept_emp'] = (\n",
    "    \"CREATE TABLE dept_emp (\"\n",
    "    \"  emp_no int(11) NOT NULL,\"\n",
    "    \"  dept_no char(4) NOT NULL,\"\n",
    "    \"  from_date date NOT NULL,\"\n",
    "    \"  to_date date NOT NULL,\"\n",
    "    \"  PRIMARY KEY (emp_no,dept_no), KEY emp_no (emp_no),\"\n",
    "    \"  KEY dept_no (dept_no),\"\n",
    "    \"  CONSTRAINT dept_emp_ibfk_1 FOREIGN KEY (emp_no) \"\n",
    "    \"     REFERENCES employees (emp_no) ON DELETE CASCADE,\"\n",
    "    \"  CONSTRAINT dept_emp_ibfk_2 FOREIGN KEY (dept_no) \"\n",
    "    \"     REFERENCES departments (dept_no) ON DELETE CASCADE\"\n",
    "    \") ENGINE=InnoDB\")\n",
    "\n",
    "TABLES['dept_manager'] = (\n",
    "    \"  CREATE TABLE dept_manager (\"\n",
    "    \"  dept_no char(4) NOT NULL,\"\n",
    "    \"  emp_no int(11) NOT NULL,\"\n",
    "    \"  from_date date NOT NULL,\"\n",
    "    \"  to_date date NOT NULL,\"\n",
    "    \"  PRIMARY KEY (emp_no,dept_no),\"\n",
    "    \"  KEY emp_no (emp_no),\"\n",
    "    \"  KEY dept_no (dept_no),\"\n",
    "    \"  CONSTRAINT dept_manager_ibfk_1 FOREIGN KEY (emp_no) \"\n",
    "    \"     REFERENCES employees (emp_no) ON DELETE CASCADE,\"\n",
    "    \"  CONSTRAINT dept_manager_ibfk_2 FOREIGN KEY (dept_no) \"\n",
    "    \"     REFERENCES departments (dept_no) ON DELETE CASCADE\"\n",
    "    \") ENGINE=InnoDB\")\n",
    "\n",
    "TABLES['titles'] = (\n",
    "    \"CREATE TABLE titles (\"\n",
    "    \"  emp_no int(11) NOT NULL,\"\n",
    "    \"  title varchar(50) NOT NULL,\"\n",
    "    \"  from_date date NOT NULL,\"\n",
    "    \"  to_date date DEFAULT NULL,\"\n",
    "    \"  PRIMARY KEY (emp_no,title,from_date), KEY emp_no (emp_no),\"\n",
    "    \"  CONSTRAINT titles_ibfk_1 FOREIGN KEY (emp_no)\"\n",
    "    \"     REFERENCES employees (emp_no) ON DELETE CASCADE\"\n",
    "    \") ENGINE=InnoDB\")"
   ]
  },
  {
   "cell_type": "code",
   "execution_count": 17,
   "metadata": {},
   "outputs": [
    {
     "data": {
      "text/plain": [
       "\"CREATE TABLE employees (  emp_no int(11) NOT NULL AUTO_INCREMENT,  birth_date date NOT NULL,  first_name varchar(14) NOT NULL,  last_name varchar(16) NOT NULL,  gender enum('M','F') NOT NULL,  hire_date date NOT NULL,  PRIMARY KEY (emp_no)) ENGINE=InnoDB\""
      ]
     },
     "execution_count": 17,
     "metadata": {},
     "output_type": "execute_result"
    }
   ],
   "source": [
    "TABLES['employees']"
   ]
  },
  {
   "cell_type": "code",
   "execution_count": 18,
   "metadata": {},
   "outputs": [],
   "source": [
    "cnx = mysql.connector.connect(\n",
    "    host = config.host,\n",
    "    user = config.user,\n",
    "    passwd = config.password,\n",
    "    database = DB_NAME\n",
    ")\n",
    "cursor = cnx.cursor()"
   ]
  },
  {
   "cell_type": "code",
   "execution_count": 19,
   "metadata": {},
   "outputs": [
    {
     "name": "stdout",
     "output_type": "stream",
     "text": [
      "Creating table employees: already exists.\n",
      "Creating table departments: OK\n",
      "Creating table salaries: OK\n",
      "Creating table dept_emp: OK\n",
      "Creating table dept_manager: OK\n",
      "Creating table titles: OK\n"
     ]
    }
   ],
   "source": [
    "for table_name in TABLES:\n",
    "    table_description = TABLES[table_name]\n",
    "    try:\n",
    "        print(\"Creating table {}: \".format(table_name), end='')\n",
    "        cursor.execute(table_description)\n",
    "    except mysql.connector.Error as err:\n",
    "        if err.errno == errorcode.ER_TABLE_EXISTS_ERROR:\n",
    "            print(\"already exists.\")\n",
    "        else:\n",
    "            print(err.msg)\n",
    "    else:\n",
    "        print(\"OK\")\n",
    "\n",
    "cursor.close()\n",
    "cnx.close()"
   ]
  },
  {
   "cell_type": "markdown",
   "metadata": {},
   "source": [
    "## Inserting Data"
   ]
  },
  {
   "cell_type": "code",
   "execution_count": 21,
   "metadata": {},
   "outputs": [],
   "source": [
    "from datetime import date, datetime, timedelta\n",
    "\n",
    "#since we closed the connection, we need to reinstatiate it\n",
    "cnx = mysql.connector.connect(\n",
    "    host = config.host,\n",
    "    user = config.user,\n",
    "    passwd = config.password,\n",
    "    database = DB_NAME\n",
    ")\n",
    "cursor = cnx.cursor()\n",
    "\n",
    "tomorrow = datetime.now().date() + timedelta(days=1)\n",
    "\n",
    "add_employee = (\"INSERT INTO employees \"\n",
    "               \"(first_name, last_name, hire_date, gender, birth_date) \"\n",
    "               \"VALUES (%s, %s, %s, %s, %s)\")\n",
    "add_salary = (\"INSERT INTO salaries \"\n",
    "              \"(emp_no, salary, from_date, to_date) \"\n",
    "              \"VALUES (%(emp_no)s, %(salary)s, %(from_date)s, %(to_date)s)\")\n",
    "\n",
    "data_employee = ('Geert', 'Vanderkelen', tomorrow, 'M', date(1977, 6, 14))\n",
    "\n"
   ]
  },
  {
   "cell_type": "code",
   "execution_count": null,
   "metadata": {},
   "outputs": [],
   "source": [
    "# Insert new employee\n",
    "cursor.execute(add_employee, data_employee)\n",
    "emp_no = cursor.lastrowid\n",
    "\n",
    "# Insert salary information\n",
    "data_salary = {\n",
    "  'emp_no': emp_no,\n",
    "  'salary': 50000,\n",
    "  'from_date': tomorrow,\n",
    "  'to_date': date(9999, 1, 1),\n",
    "}\n",
    "cursor.execute(add_salary, data_salary)\n",
    "\n",
    "# Make sure data is committed to the database\n",
    "cnx.commit()\n",
    "\n",
    "cursor.close()\n",
    "cnx.close()"
   ]
  },
  {
   "cell_type": "markdown",
   "metadata": {},
   "source": [
    "## Insert Many"
   ]
  },
  {
   "cell_type": "markdown",
   "metadata": {},
   "source": [
    "cursor.executemany(operation, seq_of_params)"
   ]
  },
  {
   "cell_type": "code",
   "execution_count": null,
   "metadata": {},
   "outputs": [],
   "source": [
    "cnx = mysql.connector.connect(\n",
    "    host = config.host,\n",
    "    user = config.user,\n",
    "    passwd = config.password,\n",
    "    database = DB_NAME\n",
    ")\n",
    "cursor = cnx.cursor()"
   ]
  },
  {
   "cell_type": "code",
   "execution_count": null,
   "metadata": {},
   "outputs": [],
   "source": [
    "data = [\n",
    "  ('Jane', date(2005, 2, 12)),\n",
    "  ('Joe', date(2006, 5, 23)),\n",
    "  ('John', date(2010, 10, 3)),\n",
    "]\n",
    "stmt = \"INSERT INTO employees (first_name, hire_date) VALUES (%s, %s)\"\n",
    "cursor.executemany(stmt, data)"
   ]
  },
  {
   "cell_type": "markdown",
   "metadata": {},
   "source": [
    "## Quyerying the DB"
   ]
  },
  {
   "cell_type": "code",
   "execution_count": null,
   "metadata": {},
   "outputs": [],
   "source": [
    "cnx = mysql.connector.connect(\n",
    "    host = config.host,\n",
    "    user = config.user,\n",
    "    passwd = config.password,\n",
    "    database = DB_NAME\n",
    ")\n",
    "cursor = cnx.cursor()"
   ]
  },
  {
   "cell_type": "code",
   "execution_count": null,
   "metadata": {},
   "outputs": [],
   "source": [
    "\n",
    "query = (\"SELECT first_name, last_name, hire_date FROM employees \"\n",
    "         \"WHERE hire_date BETWEEN %s AND %s\")\n",
    "\n",
    "hire_start = datetime.date(1999, 1, 1)\n",
    "hire_end = datetime.date(1999, 12, 31)\n",
    "\n",
    "cursor.execute(query, (hire_start, hire_end))\n",
    "\n",
    "for (first_name, last_name, hire_date) in cursor:\n",
    "  print(\"{}, {} was hired on {:%d %b %Y}\".format(\n",
    "    last_name, first_name, hire_date))\n",
    "\n",
    "cursor.close()\n",
    "cnx.close()"
   ]
  },
  {
   "cell_type": "markdown",
   "metadata": {},
   "source": [
    "\n",
    "# Picking up from yesterday"
   ]
  },
  {
   "cell_type": "markdown",
   "metadata": {},
   "source": [
    "## Select Statements\n",
    "\n",
    "Select statements is the primary type of query you will write, as this is how we write q query to pull data back from a db\n",
    "\n",
    "\n",
    "https://www.codecademy.com/articles/sql-commands\n",
    "\n",
    "### SELECT\n",
    "SELECT chooses the fields that you want displayed in your chart. This is the specific piece of information that you want to pull from your database.\n",
    "\n",
    "**Syntax**\n",
    "\n",
    "`SELECT first_name, last_name;`\n",
    "\n",
    "Select * will pull back every column in the table\n",
    "\n",
    "\n",
    " ### FROM\n",
    "FROM pinpoints the table that you want to pull the data from. \n",
    "\n",
    "**Syntax** \n",
    "`SELECT first_name, last_name\n",
    " FROM table;`\n",
    "\n",
    "### WHERE\n",
    "WHERE allows you to filter your query to be more specific. You  set up a conditional to filter your data\n",
    "\n",
    "**syntax**\n",
    "\n",
    "`SELECT first_name, last_name\n",
    "FROM table\n",
    "WHERE column = value`\n",
    "\n",
    "### AND\n",
    "AND allows you to add additional criteria to your WHERE statement. \n",
    "\n",
    "\n",
    "**Syntax**\n",
    "\n",
    "`SELECT\n",
    "     first_name, last_name\n",
    "FROM\n",
    "     table\n",
    "WHERE\n",
    "     column = value\n",
    "AND\n",
    "     column BETWEEN value AND value;`\n",
    "\n",
    "\n",
    "### ORDER BY\n",
    "\n",
    "Your ORDER BY clause will allow you to sort by any of the fields that you have specified in the SELECT statement. \n",
    "\n",
    "**Syntax**\n",
    "\n",
    "`SELECT\n",
    "     first_name, last_name\n",
    "FROM\n",
    "     table\n",
    "WHERE\n",
    "     column = value\n",
    "AND\n",
    "     column BETWEEN value AND value\n",
    "ORDER BY\n",
    "     column;`\n",
    "\n",
    "\n",
    "\n",
    "\n",
    "\n",
    "\n",
    "### GROUP BY\n",
    "\"GROUP BY\" is similar to the function in pandas where it will aggregate data that has similarities.\n",
    "\n",
    "Here is your SQL query:\n",
    "\n",
    "**Syntax**\n",
    "\n",
    "`SELECT\n",
    "     first_name, COUNT(last_name)\n",
    "FROM\n",
    "     table\n",
    "WHERE\n",
    "     column = value\n",
    "AND\n",
    "     column BETWEEN value AND value\n",
    "GROUP BY\n",
    "     column;`\n",
    "\n",
    "\n",
    "\n",
    "\n",
    "### LIMIT\n",
    "Depending on the amount of data you have in your database, it may take a long time to run the queries. It can be frustrating if you find yourself waiting a long time to run a query that you didn't really want to begin with. If you want to test our query, the LIMIT function is a great one to use because it allows you to limit the number of results you get.\n",
    "\n",
    "**Syntax**\n",
    "\n",
    "`SELECT\n",
    "     first_name, COUNT(last_name)\n",
    "FROM\n",
    "     table\n",
    "WHERE\n",
    "     column = value\n",
    "AND\n",
    "     column BETWEEN value AND value\n",
    "GROUP BY\n",
    "     column\n",
    "LIMIT\n",
    "     100;`"
   ]
  },
  {
   "cell_type": "markdown",
   "metadata": {},
   "source": [
    "## Applied: Working with our student data"
   ]
  },
  {
   "cell_type": "markdown",
   "metadata": {},
   "source": [
    "### Import our student data"
   ]
  },
  {
   "cell_type": "code",
   "execution_count": 1,
   "metadata": {},
   "outputs": [],
   "source": [
    "import json\n",
    "\n",
    "f=open('students.json','r')\n",
    "data=json.load(f)"
   ]
  },
  {
   "cell_type": "markdown",
   "metadata": {},
   "source": [
    "### Create a connection and cursor to AWS db"
   ]
  },
  {
   "cell_type": "code",
   "execution_count": null,
   "metadata": {},
   "outputs": [],
   "source": [
    "# "
   ]
  },
  {
   "cell_type": "markdown",
   "metadata": {},
   "source": [
    "### Create a table for our student info"
   ]
  },
  {
   "cell_type": "code",
   "execution_count": 3,
   "metadata": {},
   "outputs": [],
   "source": [
    "\n",
    "create_query = \"\"\"\n",
    "CREATE TABLE class_info (\n",
    "name TEXT NOT NULL,\n",
    "dob TEXT,\n",
    "siblings REAL,\n",
    "birthplace TEXT,\n",
    "yearinnyc REAL,\n",
    "favoritefood TEXT\n",
    ");\n",
    "\"\"\""
   ]
  },
  {
   "cell_type": "markdown",
   "metadata": {},
   "source": [
    "### Insert the student data into the table"
   ]
  },
  {
   "cell_type": "code",
   "execution_count": 5,
   "metadata": {},
   "outputs": [
    {
     "name": "stdout",
     "output_type": "stream",
     "text": [
      "Amora Sun\n",
      "Alec Ryman\n",
      "Catherine Wolk\n",
      "Christopher Park\n",
      "Eric Landstein\n",
      "Jaden\n",
      "James Moody\n",
      "John Americk Canque\n",
      "Justin Tennenbaum\n",
      "Karolina Jozefowicz\n",
      "Kathrin Verestoun\n",
      "Kevin Sun\n",
      "Kyle Baranko\n",
      "mark cleverley\n",
      "Matt Oliver\n",
      "Michelle Venables\n",
      "Paul E. Kruger\n",
      "Quan Nguyen\n",
      "Rebecca\n",
      "Reuben Kavalov\n",
      "Sarah Smith\n",
      "Taylor Appel\n",
      "['name', 'DOB', 'siblings', 'Birthplace', 'yearinnyc', 'favoritefood', 'birthdate', 'yearsinnyc', 'Favoritefood', 'birthplace']\n"
     ]
    }
   ],
   "source": [
    "#\n",
    "keys_list = []\n",
    "for student in data:\n",
    "    print(student['name'])\n",
    "    keys = student.keys()\n",
    "    for word in keys:\n",
    "        if word not in keys_list:\n",
    "            keys_list.append(word)\n",
    "print (keys_list)"
   ]
  },
  {
   "cell_type": "code",
   "execution_count": null,
   "metadata": {},
   "outputs": [],
   "source": [
    "students_list = []\n",
    "    \n",
    "for student in data:\n",
    "\n",
    "    student_tuple= (student['name'], student['birthdate'],\n",
    "                   student['siblings'], student['birthplace'],\n",
    "                   student['yearsinnyc'], student['favoritefood'])\n",
    "    students_list.append(student_tuple)"
   ]
  },
  {
   "cell_type": "markdown",
   "metadata": {},
   "source": [
    "### Write queries to answer the following questions:\n",
    "\n",
    "**Questions**\n",
    "- Which student was born closest to the cohort's graduation date?\n",
    "- Which student has the most siblings?\n",
    "- How many students are only children?\n",
    "- Which 3 students have lived in NYC the shortest amount of time?\n",
    "- How many students are native New Yorkers?\n",
    "- Do any two students have the same favorite food?"
   ]
  },
  {
   "cell_type": "code",
   "execution_count": null,
   "metadata": {},
   "outputs": [],
   "source": []
  }
 ],
 "metadata": {
  "kernelspec": {
   "display_name": "Python 3",
   "language": "python",
   "name": "python3"
  },
  "language_info": {
   "codemirror_mode": {
    "name": "ipython",
    "version": 3
   },
   "file_extension": ".py",
   "mimetype": "text/x-python",
   "name": "python",
   "nbconvert_exporter": "python",
   "pygments_lexer": "ipython3",
   "version": "3.7.4"
  }
 },
 "nbformat": 4,
 "nbformat_minor": 2
}
