{
 "cells": [
  {
   "cell_type": "markdown",
   "metadata": {},
   "source": [
    "# Combining Python, SQL DBs and AWS"
   ]
  },
  {
   "cell_type": "markdown",
   "metadata": {},
   "source": [
    "## Aim: Create a RDB instance on AWS, connect to it through python, and execute queries.  \n"
   ]
  },
  {
   "cell_type": "markdown",
   "metadata": {},
   "source": [
    "## Create an instance on AWS  \n",
    "    \n",
    "https://aws.amazon.com/getting-started/tutorials/create-mysql-db/"
   ]
  },
  {
   "cell_type": "markdown",
   "metadata": {},
   "source": [
    "##  Using MYSQLWorkbench\n",
    "\n",
    "Before we complicate things with using Python, we want to use MYSQLWorkbench to make sure we set up our AWS server correctly and can connect to it.  \n",
    "\n",
    "- Create a connection to the AWS server\n",
    "- Execute a simple create table query\n",
    "- Drop the table\n"
   ]
  },
  {
   "cell_type": "markdown",
   "metadata": {},
   "source": [
    "# Using Python with MYSQL DB"
   ]
  },
  {
   "cell_type": "code",
   "execution_count": null,
   "metadata": {},
   "outputs": [],
   "source": []
  },
  {
   "cell_type": "code",
   "execution_count": null,
   "metadata": {
    "scrolled": true
   },
   "outputs": [],
   "source": []
  },
  {
   "cell_type": "code",
   "execution_count": null,
   "metadata": {},
   "outputs": [],
   "source": []
  },
  {
   "cell_type": "code",
   "execution_count": 17,
   "metadata": {
    "scrolled": true
   },
   "outputs": [],
   "source": [
    "## importing 'mysql.connector' \n",
    "import mysql.connector"
   ]
  },
  {
   "cell_type": "code",
   "execution_count": 18,
   "metadata": {},
   "outputs": [
    {
     "ename": "DatabaseError",
     "evalue": "2003 (HY000): Can't connect to MySQL server on 'localhost' (61)",
     "output_type": "error",
     "traceback": [
      "\u001b[0;31m---------------------------------------------------------------------------\u001b[0m",
      "\u001b[0;31mMySQLInterfaceError\u001b[0m                       Traceback (most recent call last)",
      "\u001b[0;32m/anaconda3/lib/python3.7/site-packages/mysql/connector/connection_cext.py\u001b[0m in \u001b[0;36m_open_connection\u001b[0;34m(self)\u001b[0m\n\u001b[1;32m    199\u001b[0m         \u001b[0;32mtry\u001b[0m\u001b[0;34m:\u001b[0m\u001b[0;34m\u001b[0m\u001b[0;34m\u001b[0m\u001b[0m\n\u001b[0;32m--> 200\u001b[0;31m             \u001b[0mself\u001b[0m\u001b[0;34m.\u001b[0m\u001b[0m_cmysql\u001b[0m\u001b[0;34m.\u001b[0m\u001b[0mconnect\u001b[0m\u001b[0;34m(\u001b[0m\u001b[0;34m**\u001b[0m\u001b[0mcnx_kwargs\u001b[0m\u001b[0;34m)\u001b[0m\u001b[0;34m\u001b[0m\u001b[0;34m\u001b[0m\u001b[0m\n\u001b[0m\u001b[1;32m    201\u001b[0m         \u001b[0;32mexcept\u001b[0m \u001b[0mMySQLInterfaceError\u001b[0m \u001b[0;32mas\u001b[0m \u001b[0mexc\u001b[0m\u001b[0;34m:\u001b[0m\u001b[0;34m\u001b[0m\u001b[0;34m\u001b[0m\u001b[0m\n",
      "\u001b[0;31mMySQLInterfaceError\u001b[0m: Can't connect to MySQL server on 'localhost' (61)",
      "\nDuring handling of the above exception, another exception occurred:\n",
      "\u001b[0;31mDatabaseError\u001b[0m                             Traceback (most recent call last)",
      "\u001b[0;32m<ipython-input-18-10f6d7a157fd>\u001b[0m in \u001b[0;36m<module>\u001b[0;34m\u001b[0m\n\u001b[1;32m      6\u001b[0m     \u001b[0mhost\u001b[0m \u001b[0;34m=\u001b[0m \u001b[0;34m\"localhost\"\u001b[0m\u001b[0;34m,\u001b[0m\u001b[0;34m\u001b[0m\u001b[0;34m\u001b[0m\u001b[0m\n\u001b[1;32m      7\u001b[0m     \u001b[0muser\u001b[0m \u001b[0;34m=\u001b[0m \u001b[0;34m\"root\"\u001b[0m\u001b[0;34m,\u001b[0m\u001b[0;34m\u001b[0m\u001b[0;34m\u001b[0m\u001b[0m\n\u001b[0;32m----> 8\u001b[0;31m     \u001b[0mpasswd\u001b[0m \u001b[0;34m=\u001b[0m \u001b[0;34m\"dbms\"\u001b[0m\u001b[0;34m\u001b[0m\u001b[0;34m\u001b[0m\u001b[0m\n\u001b[0m\u001b[1;32m      9\u001b[0m )\n",
      "\u001b[0;32m/anaconda3/lib/python3.7/site-packages/mysql/connector/__init__.py\u001b[0m in \u001b[0;36mconnect\u001b[0;34m(*args, **kwargs)\u001b[0m\n\u001b[1;32m    170\u001b[0m \u001b[0;34m\u001b[0m\u001b[0m\n\u001b[1;32m    171\u001b[0m     \u001b[0;32mif\u001b[0m \u001b[0mHAVE_CEXT\u001b[0m \u001b[0;32mand\u001b[0m \u001b[0;32mnot\u001b[0m \u001b[0muse_pure\u001b[0m\u001b[0;34m:\u001b[0m\u001b[0;34m\u001b[0m\u001b[0;34m\u001b[0m\u001b[0m\n\u001b[0;32m--> 172\u001b[0;31m         \u001b[0;32mreturn\u001b[0m \u001b[0mCMySQLConnection\u001b[0m\u001b[0;34m(\u001b[0m\u001b[0;34m*\u001b[0m\u001b[0margs\u001b[0m\u001b[0;34m,\u001b[0m \u001b[0;34m**\u001b[0m\u001b[0mkwargs\u001b[0m\u001b[0;34m)\u001b[0m\u001b[0;34m\u001b[0m\u001b[0;34m\u001b[0m\u001b[0m\n\u001b[0m\u001b[1;32m    173\u001b[0m     \u001b[0;32mreturn\u001b[0m \u001b[0mMySQLConnection\u001b[0m\u001b[0;34m(\u001b[0m\u001b[0;34m*\u001b[0m\u001b[0margs\u001b[0m\u001b[0;34m,\u001b[0m \u001b[0;34m**\u001b[0m\u001b[0mkwargs\u001b[0m\u001b[0;34m)\u001b[0m\u001b[0;34m\u001b[0m\u001b[0;34m\u001b[0m\u001b[0m\n\u001b[1;32m    174\u001b[0m \u001b[0mConnect\u001b[0m \u001b[0;34m=\u001b[0m \u001b[0mconnect\u001b[0m  \u001b[0;31m# pylint: disable=C0103\u001b[0m\u001b[0;34m\u001b[0m\u001b[0;34m\u001b[0m\u001b[0m\n",
      "\u001b[0;32m/anaconda3/lib/python3.7/site-packages/mysql/connector/connection_cext.py\u001b[0m in \u001b[0;36m__init__\u001b[0;34m(self, **kwargs)\u001b[0m\n\u001b[1;32m     78\u001b[0m \u001b[0;34m\u001b[0m\u001b[0m\n\u001b[1;32m     79\u001b[0m         \u001b[0;32mif\u001b[0m \u001b[0mkwargs\u001b[0m\u001b[0;34m:\u001b[0m\u001b[0;34m\u001b[0m\u001b[0;34m\u001b[0m\u001b[0m\n\u001b[0;32m---> 80\u001b[0;31m             \u001b[0mself\u001b[0m\u001b[0;34m.\u001b[0m\u001b[0mconnect\u001b[0m\u001b[0;34m(\u001b[0m\u001b[0;34m**\u001b[0m\u001b[0mkwargs\u001b[0m\u001b[0;34m)\u001b[0m\u001b[0;34m\u001b[0m\u001b[0;34m\u001b[0m\u001b[0m\n\u001b[0m\u001b[1;32m     81\u001b[0m \u001b[0;34m\u001b[0m\u001b[0m\n\u001b[1;32m     82\u001b[0m     \u001b[0;32mdef\u001b[0m \u001b[0m_add_default_conn_attrs\u001b[0m\u001b[0;34m(\u001b[0m\u001b[0mself\u001b[0m\u001b[0;34m)\u001b[0m\u001b[0;34m:\u001b[0m\u001b[0;34m\u001b[0m\u001b[0;34m\u001b[0m\u001b[0m\n",
      "\u001b[0;32m/anaconda3/lib/python3.7/site-packages/mysql/connector/abstracts.py\u001b[0m in \u001b[0;36mconnect\u001b[0;34m(self, **kwargs)\u001b[0m\n\u001b[1;32m    778\u001b[0m \u001b[0;34m\u001b[0m\u001b[0m\n\u001b[1;32m    779\u001b[0m         \u001b[0mself\u001b[0m\u001b[0;34m.\u001b[0m\u001b[0mdisconnect\u001b[0m\u001b[0;34m(\u001b[0m\u001b[0;34m)\u001b[0m\u001b[0;34m\u001b[0m\u001b[0;34m\u001b[0m\u001b[0m\n\u001b[0;32m--> 780\u001b[0;31m         \u001b[0mself\u001b[0m\u001b[0;34m.\u001b[0m\u001b[0m_open_connection\u001b[0m\u001b[0;34m(\u001b[0m\u001b[0;34m)\u001b[0m\u001b[0;34m\u001b[0m\u001b[0;34m\u001b[0m\u001b[0m\n\u001b[0m\u001b[1;32m    781\u001b[0m         \u001b[0mself\u001b[0m\u001b[0;34m.\u001b[0m\u001b[0m_post_connection\u001b[0m\u001b[0;34m(\u001b[0m\u001b[0;34m)\u001b[0m\u001b[0;34m\u001b[0m\u001b[0;34m\u001b[0m\u001b[0m\n\u001b[1;32m    782\u001b[0m \u001b[0;34m\u001b[0m\u001b[0m\n",
      "\u001b[0;32m/anaconda3/lib/python3.7/site-packages/mysql/connector/connection_cext.py\u001b[0m in \u001b[0;36m_open_connection\u001b[0;34m(self)\u001b[0m\n\u001b[1;32m    201\u001b[0m         \u001b[0;32mexcept\u001b[0m \u001b[0mMySQLInterfaceError\u001b[0m \u001b[0;32mas\u001b[0m \u001b[0mexc\u001b[0m\u001b[0;34m:\u001b[0m\u001b[0;34m\u001b[0m\u001b[0;34m\u001b[0m\u001b[0m\n\u001b[1;32m    202\u001b[0m             raise errors.get_mysql_exception(msg=exc.msg, errno=exc.errno,\n\u001b[0;32m--> 203\u001b[0;31m                                              sqlstate=exc.sqlstate)\n\u001b[0m\u001b[1;32m    204\u001b[0m         \u001b[0mself\u001b[0m\u001b[0;34m.\u001b[0m\u001b[0m_do_handshake\u001b[0m\u001b[0;34m(\u001b[0m\u001b[0;34m)\u001b[0m\u001b[0;34m\u001b[0m\u001b[0;34m\u001b[0m\u001b[0m\n\u001b[1;32m    205\u001b[0m \u001b[0;34m\u001b[0m\u001b[0m\n",
      "\u001b[0;31mDatabaseError\u001b[0m: 2003 (HY000): Can't connect to MySQL server on 'localhost' (61)"
     ]
    }
   ],
   "source": [
    "## Connecting to the database\n",
    "\n",
    "## connecting to the database using 'connect()' method\n",
    "## it takes 3 required parameters 'host', 'user', 'passwd'\n",
    "cnx = mysql.connector .connect(\n",
    "    host = \"localhost\",\n",
    "    user = \"root\",\n",
    "    passwd = \"dbms\"\n",
    ")"
   ]
  },
  {
   "cell_type": "markdown",
   "metadata": {},
   "source": [
    "### Documentation:\n",
    "\n",
    "https://dev.mysql.com/doc/connector-python/en/connector-python-connectargs.html"
   ]
  },
  {
   "cell_type": "markdown",
   "metadata": {},
   "source": [
    "## Using a config File:\n",
    "\n",
    "You do not want to make your credentials viewable to everyone who might see this file.  So instead of explicity stating your credentials, we want to import them from another file.  "
   ]
  },
  {
   "cell_type": "code",
   "execution_count": 22,
   "metadata": {},
   "outputs": [
    {
     "name": "stdout",
     "output_type": "stream",
     "text": [
      "alabaster==0.7.12\r\n",
      "anaconda-client==1.7.2\r\n",
      "anaconda-navigator==1.9.7\r\n",
      "anaconda-project==0.8.2\r\n",
      "appnope==0.1.0\r\n",
      "appscript==1.0.1\r\n",
      "asn1crypto==0.24.0\r\n",
      "astroid==2.2.5\r\n",
      "astropy==3.1.2\r\n",
      "atomicwrites==1.3.0\r\n",
      "attrs==19.1.0\r\n",
      "Babel==2.6.0\r\n",
      "backcall==0.1.0\r\n",
      "backports.os==0.1.1\r\n",
      "backports.shutil-get-terminal-size==1.0.0\r\n",
      "beautifulsoup4==4.7.1\r\n",
      "bitarray==0.8.3\r\n",
      "bkcharts==0.2\r\n",
      "bleach==3.1.0\r\n",
      "bokeh==1.0.4\r\n",
      "boto==2.49.0\r\n",
      "Bottleneck==1.2.1\r\n",
      "certifi==2019.3.9\r\n",
      "cffi==1.12.2\r\n",
      "chardet==3.0.4\r\n",
      "Click==7.0\r\n",
      "cloudpickle==0.8.0\r\n",
      "clyent==1.2.2\r\n",
      "colorama==0.4.1\r\n",
      "conda==4.7.11\r\n",
      "conda-build==3.17.8\r\n",
      "conda-package-handling==1.3.11\r\n",
      "conda-verify==3.1.1\r\n",
      "config==0.4.2\r\n",
      "contextlib2==0.5.5\r\n",
      "cryptography==2.6.1\r\n",
      "cycler==0.10.0\r\n",
      "Cython==0.29.6\r\n",
      "cytoolz==0.9.0.1\r\n",
      "dask==1.1.4\r\n",
      "decorator==4.4.0\r\n",
      "defusedxml==0.5.0\r\n",
      "distributed==1.26.0\r\n",
      "docutils==0.14\r\n",
      "entrypoints==0.3\r\n",
      "et-xmlfile==1.0.1\r\n",
      "fastcache==1.0.2\r\n",
      "filelock==3.0.10\r\n",
      "Flask==1.0.2\r\n",
      "future==0.17.1\r\n",
      "gevent==1.4.0\r\n",
      "glob2==0.6\r\n",
      "gmpy2==2.0.8\r\n",
      "greenlet==0.4.15\r\n",
      "h5py==2.9.0\r\n",
      "heapdict==1.0.0\r\n",
      "html5lib==1.0.1\r\n",
      "idna==2.8\r\n",
      "imageio==2.5.0\r\n",
      "imagesize==1.1.0\r\n",
      "importlib-metadata==0.0.0\r\n",
      "ipykernel==5.1.0\r\n",
      "ipython==7.4.0\r\n",
      "ipython-genutils==0.2.0\r\n",
      "ipywidgets==7.4.2\r\n",
      "isort==4.3.16\r\n",
      "itsdangerous==1.1.0\r\n",
      "jdcal==1.4\r\n",
      "jedi==0.13.3\r\n",
      "Jinja2==2.10\r\n",
      "jsonschema==3.0.1\r\n",
      "jupyter==1.0.0\r\n",
      "jupyter-client==5.2.4\r\n",
      "jupyter-console==6.0.0\r\n",
      "jupyter-core==4.4.0\r\n",
      "jupyterlab==0.35.4\r\n",
      "jupyterlab-server==0.2.0\r\n",
      "jupyterthemes==0.20.0\r\n",
      "keyring==18.0.0\r\n",
      "kiwisolver==1.0.1\r\n",
      "lazy-object-proxy==1.3.1\r\n",
      "lesscpy==0.13.0\r\n",
      "libarchive-c==2.8\r\n",
      "lief==0.9.0\r\n",
      "llvmlite==0.28.0\r\n",
      "locket==0.2.0\r\n",
      "lxml==4.3.2\r\n",
      "MarkupSafe==1.1.1\r\n",
      "matplotlib==3.0.3\r\n",
      "mccabe==0.6.1\r\n",
      "mistune==0.8.4\r\n",
      "mkl-fft==1.0.10\r\n",
      "mkl-random==1.0.2\r\n",
      "more-itertools==6.0.0\r\n",
      "mpmath==1.1.0\r\n",
      "msgpack==0.6.1\r\n",
      "multipledispatch==0.6.0\r\n",
      "mysql-connector-python==8.0.17\r\n",
      "mysql-connector-python-rf==2.2.2\r\n",
      "navigator-updater==0.2.1\r\n",
      "nbconvert==5.4.1\r\n",
      "nbformat==4.4.0\r\n",
      "networkx==2.2\r\n",
      "nltk==3.4\r\n",
      "nose==1.3.7\r\n",
      "notebook==5.7.8\r\n",
      "numba==0.43.1\r\n",
      "numexpr==2.6.9\r\n",
      "numpy==1.16.2\r\n",
      "numpydoc==0.8.0\r\n",
      "olefile==0.46\r\n",
      "openpyxl==2.6.1\r\n",
      "packaging==19.0\r\n",
      "pandas==0.24.2\r\n",
      "pandocfilters==1.4.2\r\n",
      "parso==0.3.4\r\n",
      "partd==0.3.10\r\n",
      "path.py==11.5.0\r\n",
      "pathlib2==2.3.3\r\n",
      "patsy==0.5.1\r\n",
      "pep8==1.7.1\r\n",
      "pexpect==4.6.0\r\n",
      "pickleshare==0.7.5\r\n",
      "Pillow==5.4.1\r\n",
      "pkginfo==1.5.0.1\r\n",
      "pluggy==0.9.0\r\n",
      "ply==3.11\r\n",
      "prometheus-client==0.6.0\r\n",
      "prompt-toolkit==2.0.9\r\n",
      "protobuf==3.9.1\r\n",
      "psutil==5.6.1\r\n",
      "ptyprocess==0.6.0\r\n",
      "py==1.8.0\r\n",
      "pycodestyle==2.5.0\r\n",
      "pycosat==0.6.3\r\n",
      "pycparser==2.19\r\n",
      "pycrypto==2.6.1\r\n",
      "pycurl==7.43.0.2\r\n",
      "pyflakes==2.1.1\r\n",
      "Pygments==2.3.1\r\n",
      "pylint==2.3.1\r\n",
      "pyodbc==4.0.26\r\n",
      "pyOpenSSL==19.0.0\r\n",
      "pyparsing==2.3.1\r\n",
      "pyrsistent==0.14.11\r\n",
      "PySocks==1.6.8\r\n",
      "pytest==4.3.1\r\n",
      "pytest-arraydiff==0.3\r\n",
      "pytest-astropy==0.5.0\r\n",
      "pytest-doctestplus==0.3.0\r\n",
      "pytest-openfiles==0.3.2\r\n",
      "pytest-remotedata==0.3.1\r\n",
      "python-dateutil==2.8.0\r\n",
      "pytz==2018.9\r\n",
      "PyWavelets==1.0.2\r\n",
      "PyYAML==5.1\r\n",
      "pyzmq==18.0.0\r\n",
      "QtAwesome==0.5.7\r\n",
      "qtconsole==4.4.3\r\n",
      "QtPy==1.7.0\r\n",
      "requests==2.21.0\r\n",
      "rope==0.12.0\r\n",
      "ruamel-yaml==0.15.46\r\n",
      "scikit-image==0.14.2\r\n",
      "scikit-learn==0.20.3\r\n",
      "scipy==1.2.1\r\n",
      "seaborn==0.9.0\r\n",
      "Send2Trash==1.5.0\r\n",
      "simplegeneric==0.8.1\r\n",
      "singledispatch==3.4.0.3\r\n",
      "six==1.12.0\r\n",
      "snowballstemmer==1.2.1\r\n",
      "sortedcollections==1.1.2\r\n",
      "sortedcontainers==2.1.0\r\n",
      "soupsieve==1.8\r\n",
      "Sphinx==1.8.5\r\n",
      "sphinxcontrib-websupport==1.1.0\r\n",
      "spyder==3.3.3\r\n",
      "spyder-kernels==0.4.2\r\n",
      "SQLAlchemy==1.3.1\r\n",
      "statsmodels==0.9.0\r\n",
      "sympy==1.3\r\n",
      "tables==3.5.1\r\n",
      "tblib==1.3.2\r\n",
      "terminado==0.8.1\r\n",
      "testpath==0.4.2\r\n",
      "toolz==0.9.0\r\n",
      "tornado==6.0.2\r\n",
      "tqdm==4.31.1\r\n",
      "traitlets==4.3.2\r\n",
      "unicodecsv==0.14.1\r\n",
      "urllib3==1.24.1\r\n",
      "wcwidth==0.1.7\r\n",
      "webencodings==0.5.1\r\n",
      "Werkzeug==0.14.1\r\n",
      "widgetsnbextension==3.4.2\r\n",
      "wrapt==1.11.1\r\n",
      "wurlitzer==1.0.2\r\n",
      "xlrd==1.2.0\r\n",
      "XlsxWriter==1.1.5\r\n",
      "xlwings==0.15.4\r\n",
      "xlwt==1.3.0\r\n",
      "zict==0.1.4\r\n",
      "zipp==0.3.3\r\n"
     ]
    }
   ],
   "source": [
    "!pip freeze"
   ]
  },
  {
   "cell_type": "code",
   "execution_count": 23,
   "metadata": {},
   "outputs": [],
   "source": [
    "import config2"
   ]
  },
  {
   "cell_type": "code",
   "execution_count": 24,
   "metadata": {},
   "outputs": [],
   "source": [
    "#config.pw_example"
   ]
  },
  {
   "cell_type": "code",
   "execution_count": 26,
   "metadata": {},
   "outputs": [
    {
     "name": "stdout",
     "output_type": "stream",
     "text": [
      "<mysql.connector.connection_cext.CMySQLConnection object at 0x10d21eb10>\n"
     ]
    }
   ],
   "source": [
    "## Connecting to the database\n",
    "\n",
    "## connecting to the database using 'connect()' method\n",
    "## it takes 3 required parameters 'host', 'user', 'passwd'\n",
    "cnx = mysql.connector.connect(\n",
    "    host = config2.host,\n",
    "    user = config2.user,\n",
    "    password = config2.passwd\n",
    ")\n",
    "\n",
    "print(cnx) # it will print a connection object if everything is fine\n"
   ]
  },
  {
   "cell_type": "code",
   "execution_count": 27,
   "metadata": {},
   "outputs": [],
   "source": [
    "cursor = cnx.cursor()"
   ]
  },
  {
   "cell_type": "markdown",
   "metadata": {},
   "source": [
    "## Creating DB"
   ]
  },
  {
   "cell_type": "code",
   "execution_count": 28,
   "metadata": {},
   "outputs": [],
   "source": [
    "import mysql.connector\n",
    "from mysql.connector import errorcode"
   ]
  },
  {
   "cell_type": "code",
   "execution_count": 29,
   "metadata": {},
   "outputs": [],
   "source": [
    "db_name = 'employees'"
   ]
  },
  {
   "cell_type": "code",
   "execution_count": 30,
   "metadata": {},
   "outputs": [
    {
     "name": "stdout",
     "output_type": "stream",
     "text": [
      "Database employees does not exists.\n",
      "Database employees created successfully.\n"
     ]
    }
   ],
   "source": [
    "def create_database(cursor, database):\n",
    "    try:\n",
    "        cursor.execute(\n",
    "            \"CREATE DATABASE {} DEFAULT CHARACTER SET 'utf8'\".format(database))\n",
    "    except mysql.connector.Error as err:\n",
    "        print(\"Failed creating database: {}\".format(err))\n",
    "        exit(1)\n",
    "\n",
    "try:\n",
    "    cursor.execute(\"USE {}\".format(db_name))\n",
    "except mysql.connector.Error as err:\n",
    "    print(\"Database {} does not exists.\".format(db_name))\n",
    "    if err.errno == errorcode.ER_BAD_DB_ERROR:\n",
    "        create_database(cursor, db_name)\n",
    "        print(\"Database {} created successfully.\".format(db_name))\n",
    "        cnx.database = db_name\n",
    "    else:\n",
    "        print(err)\n",
    "        exit(1)"
   ]
  },
  {
   "cell_type": "markdown",
   "metadata": {},
   "source": [
    "### Creating tables"
   ]
  },
  {
   "cell_type": "code",
   "execution_count": 31,
   "metadata": {},
   "outputs": [],
   "source": [
    "DB_NAME = 'employees'\n",
    "\n",
    "TABLES = {}\n",
    "TABLES['employees'] = (\n",
    "    \"CREATE TABLE employees (\"\n",
    "    \"  emp_no int(11) NOT NULL AUTO_INCREMENT,\"\n",
    "    \"  birth_date date NOT NULL,\"\n",
    "    \"  first_name varchar(14) NOT NULL,\"\n",
    "    \"  last_name varchar(16) NOT NULL,\"\n",
    "    \"  gender enum('M','F') NOT NULL,\"\n",
    "    \"  hire_date date NOT NULL,\"\n",
    "    \"  PRIMARY KEY (emp_no)\"\n",
    "    \") ENGINE=InnoDB\")\n",
    "\n",
    "TABLES['departments'] = (\n",
    "    \"CREATE TABLE departments (\"\n",
    "    \"  dept_no char(4) NOT NULL,\"\n",
    "    \"  dept_name varchar(40) NOT NULL,\"\n",
    "    \"  PRIMARY KEY (dept_no), UNIQUE KEY dept_name (dept_name)\"\n",
    "    \") ENGINE=InnoDB\")\n",
    "\n",
    "TABLES['salaries'] = (\n",
    "    \"CREATE TABLE salaries (\"\n",
    "    \"  emp_no int(11) NOT NULL,\"\n",
    "    \"  salary int(11) NOT NULL,\"\n",
    "    \"  from_date date NOT NULL,\"\n",
    "    \"  to_date date NOT NULL,\"\n",
    "    \"  PRIMARY KEY (emp_no,from_date), KEY emp_no (emp_no),\"\n",
    "    \"  CONSTRAINT salaries_ibfk_1 FOREIGN KEY (emp_no) \"\n",
    "    \"     REFERENCES employees (emp_no) ON DELETE CASCADE\"\n",
    "    \") ENGINE=InnoDB\")\n",
    "\n",
    "TABLES['dept_emp'] = (\n",
    "    \"CREATE TABLE dept_emp (\"\n",
    "    \"  emp_no int(11) NOT NULL,\"\n",
    "    \"  dept_no char(4) NOT NULL,\"\n",
    "    \"  from_date date NOT NULL,\"\n",
    "    \"  to_date date NOT NULL,\"\n",
    "    \"  PRIMARY KEY (emp_no,dept_no), KEY emp_no (emp_no),\"\n",
    "    \"  KEY dept_no (dept_no),\"\n",
    "    \"  CONSTRAINT dept_emp_ibfk_1 FOREIGN KEY (emp_no) \"\n",
    "    \"     REFERENCES employees (emp_no) ON DELETE CASCADE,\"\n",
    "    \"  CONSTRAINT dept_emp_ibfk_2 FOREIGN KEY (dept_no) \"\n",
    "    \"     REFERENCES departments (dept_no) ON DELETE CASCADE\"\n",
    "    \") ENGINE=InnoDB\")\n",
    "\n",
    "TABLES['dept_manager'] = (\n",
    "    \"  CREATE TABLE dept_manager (\"\n",
    "    \"  dept_no char(4) NOT NULL,\"\n",
    "    \"  emp_no int(11) NOT NULL,\"\n",
    "    \"  from_date date NOT NULL,\"\n",
    "    \"  to_date date NOT NULL,\"\n",
    "    \"  PRIMARY KEY (emp_no,dept_no),\"\n",
    "    \"  KEY emp_no (emp_no),\"\n",
    "    \"  KEY dept_no (dept_no),\"\n",
    "    \"  CONSTRAINT dept_manager_ibfk_1 FOREIGN KEY (emp_no) \"\n",
    "    \"     REFERENCES employees (emp_no) ON DELETE CASCADE,\"\n",
    "    \"  CONSTRAINT dept_manager_ibfk_2 FOREIGN KEY (dept_no) \"\n",
    "    \"     REFERENCES departments (dept_no) ON DELETE CASCADE\"\n",
    "    \") ENGINE=InnoDB\")\n",
    "\n",
    "TABLES['titles'] = (\n",
    "    \"CREATE TABLE titles (\"\n",
    "    \"  emp_no int(11) NOT NULL,\"\n",
    "    \"  title varchar(50) NOT NULL,\"\n",
    "    \"  from_date date NOT NULL,\"\n",
    "    \"  to_date date DEFAULT NULL,\"\n",
    "    \"  PRIMARY KEY (emp_no,title,from_date), KEY emp_no (emp_no),\"\n",
    "    \"  CONSTRAINT titles_ibfk_1 FOREIGN KEY (emp_no)\"\n",
    "    \"     REFERENCES employees (emp_no) ON DELETE CASCADE\"\n",
    "    \") ENGINE=InnoDB\")"
   ]
  },
  {
   "cell_type": "code",
   "execution_count": 32,
   "metadata": {},
   "outputs": [
    {
     "data": {
      "text/plain": [
       "\"CREATE TABLE employees (  emp_no int(11) NOT NULL AUTO_INCREMENT,  birth_date date NOT NULL,  first_name varchar(14) NOT NULL,  last_name varchar(16) NOT NULL,  gender enum('M','F') NOT NULL,  hire_date date NOT NULL,  PRIMARY KEY (emp_no)) ENGINE=InnoDB\""
      ]
     },
     "execution_count": 32,
     "metadata": {},
     "output_type": "execute_result"
    }
   ],
   "source": [
    "TABLES['employees']"
   ]
  },
  {
   "cell_type": "code",
   "execution_count": 34,
   "metadata": {},
   "outputs": [],
   "source": [
    "cnx = mysql.connector.connect(\n",
    "    host = config2.host,\n",
    "    user = config2.user,\n",
    "    passwd = config2.passwd,\n",
    "    database = DB_NAME\n",
    ")\n",
    "cursor = cnx.cursor()"
   ]
  },
  {
   "cell_type": "code",
   "execution_count": 35,
   "metadata": {},
   "outputs": [
    {
     "name": "stdout",
     "output_type": "stream",
     "text": [
      "Creating table employees: OK\n",
      "Creating table departments: OK\n",
      "Creating table salaries: OK\n",
      "Creating table dept_emp: OK\n",
      "Creating table dept_manager: OK\n",
      "Creating table titles: OK\n"
     ]
    }
   ],
   "source": [
    "for table_name in TABLES:\n",
    "    table_description = TABLES[table_name]\n",
    "    try:\n",
    "        print(\"Creating table {}: \".format(table_name), end='')\n",
    "        cursor.execute(table_description)\n",
    "    except mysql.connector.Error as err:\n",
    "        if err.errno == errorcode.ER_TABLE_EXISTS_ERROR:\n",
    "            print(\"already exists.\")\n",
    "        else:\n",
    "            print(err.msg)\n",
    "    else:\n",
    "        print(\"OK\")\n",
    "\n",
    "cursor.close()\n",
    "cnx.close()"
   ]
  },
  {
   "cell_type": "markdown",
   "metadata": {},
   "source": [
    "## Inserting Data"
   ]
  },
  {
   "cell_type": "code",
   "execution_count": 36,
   "metadata": {},
   "outputs": [],
   "source": [
    "from datetime import date, datetime, timedelta\n",
    "\n",
    "#since we closed the connection, we need to reinstatiate it\n",
    "cnx = mysql.connector.connect(\n",
    "    host = config2.host,\n",
    "    user = config2.user,\n",
    "    passwd = config2.passwd,\n",
    "    database = DB_NAME\n",
    ")\n",
    "cursor = cnx.cursor()\n",
    "\n",
    "tomorrow = datetime.now().date() + timedelta(days=1)\n",
    "\n",
    "add_employee = (\"INSERT INTO employees \"\n",
    "               \"(first_name, last_name, hire_date, gender, birth_date) \"\n",
    "               \"VALUES (%s, %s, %s, %s, %s)\")\n",
    "add_salary = (\"INSERT INTO salaries \"\n",
    "              \"(emp_no, salary, from_date, to_date) \"\n",
    "              \"VALUES (%(emp_no)s, %(salary)s, %(from_date)s, %(to_date)s)\")\n",
    "\n",
    "data_employee = ('Geert', 'Vanderkelen', tomorrow, 'M', date(1977, 6, 14))\n",
    "\n"
   ]
  },
  {
   "cell_type": "code",
   "execution_count": 37,
   "metadata": {},
   "outputs": [],
   "source": [
    "# Insert new employee\n",
    "cursor.execute(add_employee, data_employee)\n",
    "emp_no = cursor.lastrowid\n",
    "\n",
    "# Insert salary information\n",
    "data_salary = {\n",
    "  'emp_no': emp_no,\n",
    "  'salary': 50000,\n",
    "  'from_date': tomorrow,\n",
    "  'to_date': date(9999, 1, 1),\n",
    "}\n",
    "cursor.execute(add_salary, data_salary)\n",
    "\n",
    "# Make sure data is committed to the database\n",
    "cnx.commit()\n",
    "\n",
    "cursor.close()\n",
    "cnx.close()"
   ]
  },
  {
   "cell_type": "markdown",
   "metadata": {},
   "source": [
    "## Insert Many"
   ]
  },
  {
   "cell_type": "markdown",
   "metadata": {},
   "source": [
    "cursor.executemany(operation, seq_of_params)"
   ]
  },
  {
   "cell_type": "code",
   "execution_count": 38,
   "metadata": {},
   "outputs": [],
   "source": [
    "cnx = mysql.connector.connect(\n",
    "    host = config2.host,\n",
    "    user = config2.user,\n",
    "    passwd = config2.passwd,\n",
    "    database = DB_NAME\n",
    ")\n",
    "cursor = cnx.cursor()"
   ]
  },
  {
   "cell_type": "code",
   "execution_count": 39,
   "metadata": {},
   "outputs": [],
   "source": [
    "data = [\n",
    "  ('Jane', date(2005, 2, 12)),\n",
    "  ('Joe', date(2006, 5, 23)),\n",
    "  ('John', date(2010, 10, 3)),\n",
    "]\n",
    "stmt = \"INSERT INTO employees (first_name, hire_date) VALUES (%s, %s)\"\n",
    "cursor.executemany(stmt, data)"
   ]
  },
  {
   "cell_type": "markdown",
   "metadata": {},
   "source": [
    "## Quyerying the DB"
   ]
  },
  {
   "cell_type": "code",
   "execution_count": 40,
   "metadata": {},
   "outputs": [],
   "source": [
    "cnx = mysql.connector.connect(\n",
    "    host = config2.host,\n",
    "    user = config2.user,\n",
    "    passwd = config2.passwd,\n",
    "    database = DB_NAME\n",
    ")\n",
    "cursor = cnx.cursor()"
   ]
  },
  {
   "cell_type": "code",
   "execution_count": 42,
   "metadata": {},
   "outputs": [],
   "source": [
    "\n",
    "query = (\"SELECT first_name, last_name, hire_date FROM employees \"\n",
    "         \"WHERE hire_date BETWEEN %s AND %s\")\n",
    "\n",
    "hire_start = datetime(1999, 1, 1)\n",
    "hire_end = datetime(1999, 12, 31)\n",
    "\n",
    "cursor.execute(query, (hire_start, hire_end))\n",
    "\n",
    "for (first_name, last_name, hire_date) in cursor:\n",
    "  print(\"{}, {} was hired on {:%d %b %Y}\".format(\n",
    "    last_name, first_name, hire_date))\n",
    "\n",
    "cursor.close()\n",
    "cnx.close()"
   ]
  },
  {
   "cell_type": "markdown",
   "metadata": {},
   "source": [
    "\n",
    "# Picking up from yesterday"
   ]
  },
  {
   "cell_type": "markdown",
   "metadata": {},
   "source": [
    "## Select Statements\n",
    "\n",
    "Select statements is the primary type of query you will write, as this is how we write q query to pull data back from a db\n",
    "\n",
    "\n",
    "https://www.codecademy.com/articles/sql-commands\n",
    "\n",
    "### SELECT\n",
    "SELECT chooses the fields that you want displayed in your chart. This is the specific piece of information that you want to pull from your database.\n",
    "\n",
    "**Syntax**\n",
    "\n",
    "`SELECT first_name, last_name;`\n",
    "\n",
    "Select * will pull back every column in the table\n",
    "\n",
    "\n",
    " ### FROM\n",
    "FROM pinpoints the table that you want to pull the data from. \n",
    "\n",
    "**Syntax** \n",
    "`SELECT first_name, last_name\n",
    " FROM table;`\n",
    "\n",
    "### WHERE\n",
    "WHERE allows you to filter your query to be more specific. You  set up a conditional to filter your data\n",
    "\n",
    "**syntax**\n",
    "\n",
    "`SELECT first_name, last_name\n",
    "FROM table\n",
    "WHERE column = value`\n",
    "\n",
    "### AND\n",
    "AND allows you to add additional criteria to your WHERE statement. \n",
    "\n",
    "\n",
    "**Syntax**\n",
    "\n",
    "`SELECT\n",
    "     first_name, last_name\n",
    "FROM\n",
    "     table\n",
    "WHERE\n",
    "     column = value\n",
    "AND\n",
    "     column BETWEEN value AND value;`\n",
    "\n",
    "\n",
    "### ORDER BY\n",
    "\n",
    "Your ORDER BY clause will allow you to sort by any of the fields that you have specified in the SELECT statement. \n",
    "\n",
    "**Syntax**\n",
    "\n",
    "`SELECT\n",
    "     first_name, last_name\n",
    "FROM\n",
    "     table\n",
    "WHERE\n",
    "     column = value\n",
    "AND\n",
    "     column BETWEEN value AND value\n",
    "ORDER BY\n",
    "     column;`\n",
    "\n",
    "\n",
    "\n",
    "\n",
    "\n",
    "\n",
    "### GROUP BY\n",
    "\"GROUP BY\" is similar to the function in pandas where it will aggregate data that has similarities.\n",
    "\n",
    "Here is your SQL query:\n",
    "\n",
    "**Syntax**\n",
    "\n",
    "`SELECT\n",
    "     first_name, COUNT(last_name)\n",
    "FROM\n",
    "     table\n",
    "WHERE\n",
    "     column = value\n",
    "AND\n",
    "     column BETWEEN value AND value\n",
    "GROUP BY\n",
    "     column;`\n",
    "\n",
    "\n",
    "\n",
    "\n",
    "### LIMIT\n",
    "Depending on the amount of data you have in your database, it may take a long time to run the queries. It can be frustrating if you find yourself waiting a long time to run a query that you didn't really want to begin with. If you want to test our query, the LIMIT function is a great one to use because it allows you to limit the number of results you get.\n",
    "\n",
    "**Syntax**\n",
    "\n",
    "`SELECT\n",
    "     first_name, COUNT(last_name)\n",
    "FROM\n",
    "     table\n",
    "WHERE\n",
    "     column = value\n",
    "AND\n",
    "     column BETWEEN value AND value\n",
    "GROUP BY\n",
    "     column\n",
    "LIMIT\n",
    "     100;`"
   ]
  },
  {
   "cell_type": "markdown",
   "metadata": {},
   "source": [
    "## Applied: Working with our student data"
   ]
  },
  {
   "cell_type": "markdown",
   "metadata": {},
   "source": [
    "### Import our student data"
   ]
  },
  {
   "cell_type": "code",
   "execution_count": 43,
   "metadata": {},
   "outputs": [],
   "source": [
    "import json\n",
    "\n",
    "f=open('students.json','r')\n",
    "data=json.load(f)"
   ]
  },
  {
   "cell_type": "markdown",
   "metadata": {},
   "source": [
    "### Create a connection and cursor to AWS db"
   ]
  },
  {
   "cell_type": "code",
   "execution_count": 56,
   "metadata": {},
   "outputs": [],
   "source": [
    "# \n",
    "cnx = mysql.connector.connect(\n",
    "        host = config2.host,\n",
    "        user = config2.user,\n",
    "        passwd = config2.passwd,\n",
    "        database= DB_NAME)\n",
    "cursor = cnx.cursor()"
   ]
  },
  {
   "cell_type": "markdown",
   "metadata": {},
   "source": [
    "### Create a table for our student info"
   ]
  },
  {
   "cell_type": "code",
   "execution_count": 57,
   "metadata": {},
   "outputs": [],
   "source": [
    "\n",
    "create_query = \"\"\"\n",
    "CREATE TABLE class_info (\n",
    "name TEXT NOT NULL,\n",
    "dob TEXT,\n",
    "siblings REAL,\n",
    "birthplace TEXT,\n",
    "yearinnyc REAL,\n",
    "favoritefood TEXT\n",
    ");\n",
    "\"\"\""
   ]
  },
  {
   "cell_type": "code",
   "execution_count": 58,
   "metadata": {},
   "outputs": [],
   "source": [
    "cursor.execute(create_query)"
   ]
  },
  {
   "cell_type": "markdown",
   "metadata": {},
   "source": [
    "### Insert the student data into the table"
   ]
  },
  {
   "cell_type": "code",
   "execution_count": 47,
   "metadata": {},
   "outputs": [
    {
     "name": "stdout",
     "output_type": "stream",
     "text": [
      "Amora Sun\n",
      "Alec Ryman\n",
      "Catherine Wolk\n",
      "Christopher Park\n",
      "Eric Landstein\n",
      "Jaden\n",
      "James Moody\n",
      "John Americk Canque\n",
      "Justin Tennenbaum\n",
      "Karolina Jozefowicz\n",
      "Kathrin Verestoun\n",
      "Kevin Sun\n",
      "Kyle Baranko\n",
      "mark cleverley\n",
      "Matt Oliver\n",
      "Michelle Venables\n",
      "Paul E. Kruger\n",
      "Quan Nguyen\n",
      "Rebecca\n",
      "Reuben Kavalov\n",
      "Sarah Smith\n",
      "Taylor Appel\n",
      "['name', 'DOB', 'siblings', 'Birthplace', 'yearinnyc', 'favoritefood', 'birthdate', 'yearsinnyc', 'Favoritefood', 'birthplace']\n"
     ]
    }
   ],
   "source": [
    "#\n",
    "keys_list = []\n",
    "for student in data:\n",
    "    print(student['name'])\n",
    "    keys = student.keys()\n",
    "    for word in keys:\n",
    "        if word not in keys_list:\n",
    "            keys_list.append(word)\n",
    "print (keys_list)"
   ]
  },
  {
   "cell_type": "code",
   "execution_count": 50,
   "metadata": {},
   "outputs": [],
   "source": [
    "students_list = []\n",
    "    \n",
    "for student in data:\n",
    "    if 'DOB' in student.keys():\n",
    "        student['birthdate'] = student['DOB']\n",
    "    if 'Birthplace' in student.keys():\n",
    "        student['birthplace'] = student.pop('Birthplace')\n",
    "    if 'Favoritefood'in student.keys():\n",
    "        student['favoritefood'] =student['Favoritefood']\n",
    "    if 'yearinnyc' in student.keys():\n",
    "        student['yearsinnyc'] = student['yearinnyc']\n",
    "    student_tuple= (student['name'], student['birthdate'],\n",
    "                   student['siblings'], student['birthplace'],\n",
    "                   student['yearsinnyc'], student['favoritefood'])\n",
    "    students_list.append(student_tuple)"
   ]
  },
  {
   "cell_type": "code",
   "execution_count": 51,
   "metadata": {},
   "outputs": [
    {
     "data": {
      "text/plain": [
       "[('Amora Sun', '11/24/1991', 'none', 'China', '22', 'Japanese'),\n",
       " ('Alec Ryman', '2-14-1993', 1, 'New York', 5, 'sushi'),\n",
       " ('Catherine Wolk', None, 2, 'Danbury, CT', 6, 'Banh Mi'),\n",
       " ('Christopher Park', '10-26-91', 2, 'New York City, New York', 10, 'shwarma'),\n",
       " ('Eric Landstein', '01-29-91', 1, 'Long Island, NY', 3, 'Pizza'),\n",
       " ('Jaden', '08-20-1996', 1, 'Hong Kong', 22, 'Pizza'),\n",
       " ('James Moody', '02-11-1991', 2, 'London, UK', 4, 'Vegan Pizza'),\n",
       " ('John Americk Canque',\n",
       "  'October 8, 1987',\n",
       "  'None',\n",
       "  'Manila, Philippines',\n",
       "  12,\n",
       "  'Steak Chimichanga'),\n",
       " ('Justin Tennenbaum', '02-21-1995', 2, 'New Brunswick, NJ', 24, 'Ribs'),\n",
       " ('Karolina Jozefowicz', '05-05-1993', 1, 'Olsztyn, Poland', 0, 'bagels'),\n",
       " ('Kathrin Verestoun', '03-14-1988', 1, 'Odessa, Ukraine', 23, 'French Fries'),\n",
       " ('Kevin Sun', '11/6/97', 1, 'New Brunswick', 0, 'Mac and Cheese'),\n",
       " ('Kyle Baranko', '09-22-95', 2, 'Tucson, AZ', 1, 'Pad Thai'),\n",
       " ('mark cleverley', 'september 9, 1997', 0, 'london', 4, 'fish sticks'),\n",
       " ('Matt Oliver', '04/18/1996', 1, 'Topsham, Maine', 0, 'Reuben Sandwich'),\n",
       " ('Michelle Venables', '10/28/1993', '3', 'New Jersey', '2', 'Cucumbers'),\n",
       " ('Paul E. Kruger', 'January 4, 1976', 1, 'Goshen, NY', 8, 'steak'),\n",
       " ('Quan Nguyen', '3/2/94', 1, 'Vietnam', 7, 'pizza'),\n",
       " ('Rebecca', 'May 10', 1, 'Detroit, MI', 0.35, 'french toast'),\n",
       " ('Reuben Kavalov', '06/25/1995', 3, 'Queens, NYC', 10, 'Chili'),\n",
       " ('Sarah Smith', '09/26/1989', 2, 'Dublin', 7, 'pizza'),\n",
       " ('Taylor Appel', '03-26-93', 3, 'Morristown, NJ', 0, 'Mac n Cheese')]"
      ]
     },
     "execution_count": 51,
     "metadata": {},
     "output_type": "execute_result"
    }
   ],
   "source": [
    "students_list"
   ]
  },
  {
   "cell_type": "code",
   "execution_count": 60,
   "metadata": {},
   "outputs": [],
   "source": [
    "#stmt = '''INSERT INTO class_info (name, dob, siblings, birthplace, yearinnyc, favoritefood) VALUES (%s, %s, %s, %s, %s, %s)'''\n",
    "#cursor.executemany(stmt,students_list)\n",
    "#cnx.commit()"
   ]
  },
  {
   "cell_type": "code",
   "execution_count": 62,
   "metadata": {},
   "outputs": [],
   "source": [
    "import pandas as pd"
   ]
  },
  {
   "cell_type": "code",
   "execution_count": 82,
   "metadata": {},
   "outputs": [],
   "source": [
    "# \n",
    "cnx = mysql.connector.connect(\n",
    "        host = config2.host,\n",
    "        user = config2.user,\n",
    "        passwd = config2.passwd,\n",
    "        database= DB_NAME)\n",
    "cursor = cnx.cursor()"
   ]
  },
  {
   "cell_type": "code",
   "execution_count": 83,
   "metadata": {},
   "outputs": [],
   "source": [
    "cursor.execute('''SELECT name, dob FROM class_info''')"
   ]
  },
  {
   "cell_type": "code",
   "execution_count": 84,
   "metadata": {},
   "outputs": [],
   "source": [
    "df = pd.DataFrame(cursor.fetchall())\n",
    "df.columns = [x[0] for x in cursor.description]"
   ]
  },
  {
   "cell_type": "code",
   "execution_count": 85,
   "metadata": {},
   "outputs": [
    {
     "data": {
      "text/html": [
       "<div>\n",
       "<style scoped>\n",
       "    .dataframe tbody tr th:only-of-type {\n",
       "        vertical-align: middle;\n",
       "    }\n",
       "\n",
       "    .dataframe tbody tr th {\n",
       "        vertical-align: top;\n",
       "    }\n",
       "\n",
       "    .dataframe thead th {\n",
       "        text-align: right;\n",
       "    }\n",
       "</style>\n",
       "<table border=\"1\" class=\"dataframe\">\n",
       "  <thead>\n",
       "    <tr style=\"text-align: right;\">\n",
       "      <th></th>\n",
       "      <th>name</th>\n",
       "      <th>dob</th>\n",
       "    </tr>\n",
       "  </thead>\n",
       "  <tbody>\n",
       "    <tr>\n",
       "      <th>0</th>\n",
       "      <td>Amora Sun</td>\n",
       "      <td>11/24/1991</td>\n",
       "    </tr>\n",
       "    <tr>\n",
       "      <th>1</th>\n",
       "      <td>Alec Ryman</td>\n",
       "      <td>2-14-1993</td>\n",
       "    </tr>\n",
       "    <tr>\n",
       "      <th>2</th>\n",
       "      <td>Catherine Wolk</td>\n",
       "      <td>None</td>\n",
       "    </tr>\n",
       "    <tr>\n",
       "      <th>3</th>\n",
       "      <td>Christopher Park</td>\n",
       "      <td>10-26-91</td>\n",
       "    </tr>\n",
       "    <tr>\n",
       "      <th>4</th>\n",
       "      <td>Eric Landstein</td>\n",
       "      <td>01-29-91</td>\n",
       "    </tr>\n",
       "    <tr>\n",
       "      <th>5</th>\n",
       "      <td>Jaden</td>\n",
       "      <td>08-20-1996</td>\n",
       "    </tr>\n",
       "    <tr>\n",
       "      <th>6</th>\n",
       "      <td>James Moody</td>\n",
       "      <td>02-11-1991</td>\n",
       "    </tr>\n",
       "    <tr>\n",
       "      <th>7</th>\n",
       "      <td>John Americk Canque</td>\n",
       "      <td>October 8, 1987</td>\n",
       "    </tr>\n",
       "    <tr>\n",
       "      <th>8</th>\n",
       "      <td>Justin Tennenbaum</td>\n",
       "      <td>02-21-1995</td>\n",
       "    </tr>\n",
       "    <tr>\n",
       "      <th>9</th>\n",
       "      <td>Karolina Jozefowicz</td>\n",
       "      <td>05-05-1993</td>\n",
       "    </tr>\n",
       "    <tr>\n",
       "      <th>10</th>\n",
       "      <td>Kathrin Verestoun</td>\n",
       "      <td>03-14-1988</td>\n",
       "    </tr>\n",
       "    <tr>\n",
       "      <th>11</th>\n",
       "      <td>Kevin Sun</td>\n",
       "      <td>11/6/97</td>\n",
       "    </tr>\n",
       "    <tr>\n",
       "      <th>12</th>\n",
       "      <td>Kyle Baranko</td>\n",
       "      <td>09-22-95</td>\n",
       "    </tr>\n",
       "    <tr>\n",
       "      <th>13</th>\n",
       "      <td>mark cleverley</td>\n",
       "      <td>september 9, 1997</td>\n",
       "    </tr>\n",
       "    <tr>\n",
       "      <th>14</th>\n",
       "      <td>Matt Oliver</td>\n",
       "      <td>04/18/1996</td>\n",
       "    </tr>\n",
       "    <tr>\n",
       "      <th>15</th>\n",
       "      <td>Michelle Venables</td>\n",
       "      <td>10/28/1993</td>\n",
       "    </tr>\n",
       "    <tr>\n",
       "      <th>16</th>\n",
       "      <td>Paul E. Kruger</td>\n",
       "      <td>January 4, 1976</td>\n",
       "    </tr>\n",
       "    <tr>\n",
       "      <th>17</th>\n",
       "      <td>Quan Nguyen</td>\n",
       "      <td>3/2/94</td>\n",
       "    </tr>\n",
       "    <tr>\n",
       "      <th>18</th>\n",
       "      <td>Rebecca</td>\n",
       "      <td>May 10</td>\n",
       "    </tr>\n",
       "    <tr>\n",
       "      <th>19</th>\n",
       "      <td>Reuben Kavalov</td>\n",
       "      <td>06/25/1995</td>\n",
       "    </tr>\n",
       "    <tr>\n",
       "      <th>20</th>\n",
       "      <td>Sarah Smith</td>\n",
       "      <td>09/26/1989</td>\n",
       "    </tr>\n",
       "    <tr>\n",
       "      <th>21</th>\n",
       "      <td>Taylor Appel</td>\n",
       "      <td>03-26-93</td>\n",
       "    </tr>\n",
       "  </tbody>\n",
       "</table>\n",
       "</div>"
      ],
      "text/plain": [
       "                   name                dob\n",
       "0             Amora Sun         11/24/1991\n",
       "1            Alec Ryman          2-14-1993\n",
       "2        Catherine Wolk               None\n",
       "3      Christopher Park           10-26-91\n",
       "4        Eric Landstein           01-29-91\n",
       "5                 Jaden         08-20-1996\n",
       "6           James Moody         02-11-1991\n",
       "7   John Americk Canque    October 8, 1987\n",
       "8     Justin Tennenbaum         02-21-1995\n",
       "9   Karolina Jozefowicz         05-05-1993\n",
       "10    Kathrin Verestoun         03-14-1988\n",
       "11            Kevin Sun            11/6/97\n",
       "12         Kyle Baranko           09-22-95\n",
       "13       mark cleverley  september 9, 1997\n",
       "14          Matt Oliver         04/18/1996\n",
       "15    Michelle Venables         10/28/1993\n",
       "16       Paul E. Kruger    January 4, 1976\n",
       "17          Quan Nguyen             3/2/94\n",
       "18              Rebecca             May 10\n",
       "19       Reuben Kavalov         06/25/1995\n",
       "20          Sarah Smith         09/26/1989\n",
       "21         Taylor Appel           03-26-93"
      ]
     },
     "execution_count": 85,
     "metadata": {},
     "output_type": "execute_result"
    }
   ],
   "source": [
    "df"
   ]
  },
  {
   "cell_type": "code",
   "execution_count": 102,
   "metadata": {},
   "outputs": [],
   "source": [
    "\n",
    "df.dropna(inplace=True)\n",
    "df.loc[df['dob'].str.contains('/'),'dob'] = df[df['dob'].str.contains('/')]['dob'].map(lambda x: '-'.join(x.split('/')))"
   ]
  },
  {
   "cell_type": "code",
   "execution_count": 104,
   "metadata": {},
   "outputs": [
    {
     "data": {
      "text/plain": [
       "0            11-24-1991\n",
       "1             2-14-1993\n",
       "3              10-26-91\n",
       "4              01-29-91\n",
       "5            08-20-1996\n",
       "6            02-11-1991\n",
       "7       October 8, 1987\n",
       "8            02-21-1995\n",
       "9            05-05-1993\n",
       "10           03-14-1988\n",
       "11              11-6-97\n",
       "12             09-22-95\n",
       "13    september 9, 1997\n",
       "14           04-18-1996\n",
       "15           10-28-1993\n",
       "16      January 4, 1976\n",
       "17               3-2-94\n",
       "18               May 10\n",
       "19           06-25-1995\n",
       "20           09-26-1989\n",
       "21             03-26-93\n",
       "Name: dob, dtype: object"
      ]
     },
     "execution_count": 104,
     "metadata": {},
     "output_type": "execute_result"
    }
   ],
   "source": [
    "df['dob'].str.contains"
   ]
  },
  {
   "cell_type": "code",
   "execution_count": null,
   "metadata": {},
   "outputs": [],
   "source": []
  },
  {
   "cell_type": "markdown",
   "metadata": {},
   "source": [
    "### Write queries to answer the following questions:\n",
    "\n",
    "**Questions**\n",
    "- Which student was born closest to the cohort's graduation date?\n",
    "- Which student has the most siblings?\n",
    "- How many students are only children?\n",
    "- Which 3 students have lived in NYC the shortest amount of time?\n",
    "- How many students are native New Yorkers?\n",
    "- Do any two students have the same favorite food?"
   ]
  },
  {
   "cell_type": "code",
   "execution_count": null,
   "metadata": {},
   "outputs": [],
   "source": []
  }
 ],
 "metadata": {
  "kernelspec": {
   "display_name": "Python 3",
   "language": "python",
   "name": "python3"
  },
  "language_info": {
   "codemirror_mode": {
    "name": "ipython",
    "version": 3
   },
   "file_extension": ".py",
   "mimetype": "text/x-python",
   "name": "python",
   "nbconvert_exporter": "python",
   "pygments_lexer": "ipython3",
   "version": "3.7.4"
  }
 },
 "nbformat": 4,
 "nbformat_minor": 2
}
