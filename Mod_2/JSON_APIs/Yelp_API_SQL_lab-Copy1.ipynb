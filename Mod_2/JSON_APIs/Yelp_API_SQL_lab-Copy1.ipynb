{
 "cells": [
  {
   "cell_type": "markdown",
   "metadata": {},
   "source": [
    "# Yelp API - Lab\n",
    "\n",
    "\n",
    "\n",
    "## Introduction \n",
    "\n",
    "Now that we've seen how the Yelp API works, it's time to put those API and SQL skills to work in order to do some basic business analysis! Taking things a step further, you'll also independently explore how to perform pagination in order to retrieve a full results set from the Yelp API!\n",
    "\n",
    "## Objectives\n",
    "\n",
    "You will be able to:\n",
    "* Create a DB on AWS to store information from Yelp about businesses\n",
    "* Create HTTP requests to get data from Yelp API\n",
    "* Parse HTTP responses and insert the information into your DB\n",
    "* Perform pagination to retrieve troves of data!\n",
    "* Write SQL queries to answer questions about your data "
   ]
  },
  {
   "cell_type": "markdown",
   "metadata": {},
   "source": [
    "## Problem Introduction\n",
    "\n",
    "You've now worked with some API calls, but we have yet to see how to retrieve a more complete dataset in a programmatic manner and combine it with our other data skills. In this lab you will get data from the Yelp API, store that data in a SQL Database on AWS, and write queries to answer follow-up questions. \n",
    "\n",
    "\n",
    "### Outline:\n",
    "\n",
    "1. Determine which pieces of information you need to pull from the Yelp API.\n",
    "\n",
    "2. Create a DB schema with 2 tables. One for the businesses and one for the reviews.\n",
    "\n",
    "3. Create Python functions to:\n",
    "  - Perform a search of businesses using pagination\n",
    "  - Parse the API response for specific data points\n",
    "  - Insert the data into your AWS DB\n",
    "\n",
    "4. Use the functions above in a loop that will paginate over the results to retrieve all of the results. \n",
    "\n",
    "*Something might cause your code to break while it is running. You don't want to constantly repull the same data when this happens, so you should insert the data into the database as you call and parse it, not after you have all of the data*\n",
    "\n",
    "5. Create functions to:\n",
    "  - Retrieve the reviews data of one business\n",
    "  - Parse the reviews response for specific review data\n",
    "  - Insert the review data into the DB\n",
    "\n",
    "6. Using SQL, query all of the business IDs. Using the 3 Python functions you've created, run your business IDs through a loop to get the reviews for each business and insert them into your DB.\n",
    "\n",
    "7. Write SQL queries to answer the following questions about your data.\n",
    "\n",
    "\n",
    "Bonus Steps:  \n",
    "- Place your helper functions in a package so that your final notebook only has the major steps listed.\n",
    "- Rewrite your business search functions to be able take an argument for the type of business you are searching for.\n",
    "- Add another group of businesses to your database.\n"
   ]
  },
  {
   "cell_type": "markdown",
   "metadata": {},
   "source": [
    " \n",
    "## SQL Questions:\n",
    "\n",
    "- What are the 5 businesses with the highest average ratings?\n",
    "- What are the 5 businesses with the lowest average ratings?\n",
    "- What is the average rating of restaurants that have a price label of one dollar sign? Two dollar signs? Three dollar signs? \n",
    "- How many businesses have a rating greater than or  4.5?\n",
    "- How many businesses have a rating less than 3?\n",
    "- Return the text of the reviews for the most reviewed restaurant. \n",
    "- Return the name of the business with the most recent review. \n",
    "- Find the highest rated business and return text of the most recent review. If multiple business have the same rating, select the restaurant with the most reviews. \n",
    "- Find the lowest rated business and return text of the most recent review.  If multiple business have the same rating, select the restaurant with the least reviews. \n"
   ]
  },
  {
   "cell_type": "code",
   "execution_count": null,
   "metadata": {},
   "outputs": [],
   "source": []
  },
  {
   "cell_type": "markdown",
   "metadata": {},
   "source": [
    "## Part I - Set up the DB\n",
    "\n",
    "Start by reading SQL questions above to get an understanding of the data you will need. Then, read the documentation of Yelp API to understand what data you will receive in the response.  \n",
    "\n",
    "\n",
    "Now that you are familiar with the data, create your SQL queries to create the DB and the appropriate tables. "
   ]
  },
  {
   "cell_type": "code",
   "execution_count": 16,
   "metadata": {},
   "outputs": [],
   "source": [
    "## Connect to DB server onAWS\n",
    "import mysql.connector\n",
    "from mysql.connector import errorcode\n",
    "import pandas as pd\n",
    "import config2"
   ]
  },
  {
   "cell_type": "code",
   "execution_count": 17,
   "metadata": {},
   "outputs": [],
   "source": [
    "cnx = mysql.connector.connect(\n",
    "    host = config2.host,\n",
    "    user = config2.user,\n",
    "    password = config2.passwd)"
   ]
  },
  {
   "cell_type": "code",
   "execution_count": 18,
   "metadata": {},
   "outputs": [],
   "source": [
    "cursor = cnx.cursor()"
   ]
  },
  {
   "cell_type": "code",
   "execution_count": 20,
   "metadata": {},
   "outputs": [],
   "source": [
    "## Create new DB \n",
    "#cursor.execute('''CREATE DATABASE yelp''')"
   ]
  },
  {
   "cell_type": "code",
   "execution_count": 80,
   "metadata": {},
   "outputs": [],
   "source": [
    "# Create a table for the Businesses\n",
    "DB_NAME = 'movie_DB'\n",
    "TABLES = {}\n",
    "TABLES['businesses'] = (\n",
    "    \"CREATE TABLE businesses (\"\n",
    "    \"  business_id VARCHAR(30) NOT NULL,\"\n",
    "    \"  name VARCHAR(50) NOT NULL,\"\n",
    "    \"  price VARCHAR(10) ,\"\n",
    "    \"  ave_rating DECIMAL(2,1),\"\n",
    "    \"  review_count int,\"\n",
    "    \"  PRIMARY KEY (business_id)\"\n",
    "    \") ENGINE=InnoDB\")\n",
    "\n",
    "TABLES['reviews'] = ('''\n",
    "    CREATE TABLE reviews (\n",
    "    review_id int NOT NULL AUTO_INCREMENT,\n",
    "    review_text VARCHAR(1000),\n",
    "    rating int NOT NULL,\n",
    "    business_id VARCHAR(30) REFERENCES businesses(business_id),\n",
    "    PRIMARY KEY (review_id) )''')"
   ]
  },
  {
   "cell_type": "code",
   "execution_count": 81,
   "metadata": {},
   "outputs": [],
   "source": [
    "cnx = mysql.connector.connect(\n",
    "    host = config2.host,\n",
    "    user = config2.user,\n",
    "    passwd = config2.passwd,\n",
    "    database = db_name\n",
    ")\n",
    "cursor = cnx.cursor()"
   ]
  },
  {
   "cell_type": "code",
   "execution_count": 82,
   "metadata": {},
   "outputs": [],
   "source": [
    "cursor.execute(TABLES['reviews'])"
   ]
  },
  {
   "cell_type": "code",
   "execution_count": 61,
   "metadata": {},
   "outputs": [
    {
     "name": "stdout",
     "output_type": "stream",
     "text": [
      "Creating table businesses: already exists.\n",
      "Creating table reviews: You have an error in your SQL syntax; check the manual that corresponds to your MySQL server version for the right syntax to use near '\"\n",
      "    business_id VARCHAR(30) REFERENCES businesses(business_id)\n",
      "    PRIMARY KEY' at line 4\n"
     ]
    }
   ],
   "source": [
    "for table_name in TABLES:\n",
    "    table_description = TABLES[table_name]\n",
    "    try:\n",
    "        print(\"Creating table {}: \".format(table_name), end='')\n",
    "        cursor.execute(table_description)\n",
    "    except mysql.connector.Error as err:\n",
    "        if err.errno == errorcode.ER_TABLE_EXISTS_ERROR:\n",
    "            print(\"already exists.\")\n",
    "        else:\n",
    "            print(err.msg)\n",
    "    else:\n",
    "        print(\"OK\")\n",
    "\n",
    "cursor.close()\n",
    "cnx.close()"
   ]
  },
  {
   "cell_type": "code",
   "execution_count": null,
   "metadata": {},
   "outputs": [],
   "source": [
    "# Create a table for the reviews"
   ]
  },
  {
   "cell_type": "markdown",
   "metadata": {},
   "source": [
    "## Part 2: Create ETL pipeline for the business data from the API"
   ]
  },
  {
   "cell_type": "code",
   "execution_count": 83,
   "metadata": {},
   "outputs": [],
   "source": [
    "import requests"
   ]
  },
  {
   "cell_type": "code",
   "execution_count": 130,
   "metadata": {},
   "outputs": [],
   "source": [
    "# write a function to make a call to the DB\n",
    "def yelp_call(url_params, api_key,offset=0):\n",
    "    url = 'https://api.yelp.com/v3/businesses/search'\n",
    "    headers = {'Authorization' : 'Bearer {}'.format(api_key)}\n",
    "    url_params['offset'] = offset\n",
    "    response = requests.get(url, headers=headers, params=url_params)\n",
    "    data = response.json()['businesses']\n",
    "    return data\n",
    "\n"
   ]
  },
  {
   "cell_type": "code",
   "execution_count": 131,
   "metadata": {},
   "outputs": [],
   "source": [
    "api = '-K4WtibH13OgRCP25mkLKBn20NqWGLvXx-DlaG9oKTfoiJSzHAJOlpI7y-VSJz6jZl1tXsBy-BOknfvbVVR2BHkZOTPXJZB9KXt2ViXHZjf9WpZk-qwEnMT4MIl6XXYx'\n",
    "term = 'Sushi'\n",
    "location = 'Manhattan NY'\n",
    "url_params = {  'term': term.replace(' ', '+'),\n",
    "                'location': location.replace(' ', '+'),\n",
    "                'limit' : 50\n",
    "             }"
   ]
  },
  {
   "cell_type": "code",
   "execution_count": 92,
   "metadata": {},
   "outputs": [],
   "source": [
    "businesses = yelp_call(url_params,api)"
   ]
  },
  {
   "cell_type": "code",
   "execution_count": 105,
   "metadata": {},
   "outputs": [
    {
     "data": {
      "text/plain": [
       "dict_keys(['id', 'alias', 'name', 'image_url', 'is_closed', 'url', 'review_count', 'categories', 'rating', 'coordinates', 'transactions', 'price', 'location', 'phone', 'display_phone', 'distance'])"
      ]
     },
     "execution_count": 105,
     "metadata": {},
     "output_type": "execute_result"
    }
   ],
   "source": [
    "businesses[4].keys()"
   ]
  },
  {
   "cell_type": "code",
   "execution_count": 116,
   "metadata": {},
   "outputs": [],
   "source": [
    "# write a function to parse the API response \n",
    "def parse(json):\n",
    "    bus_list = []\n",
    "    \n",
    "    columns = ['id','name', 'price', 'rating', 'review_count']\n",
    "    for i in range(len(businesses)):\n",
    "        if all([column in businesses[i].keys() for column in columns]):\n",
    "            dic = {}\n",
    "            dic['id'] = businesses[i]['id']\n",
    "            dic['name'] = businesses[i]['name']\n",
    "            dic['price'] = businesses[i]['price']\n",
    "            dic['rating'] = businesses[i]['rating']\n",
    "            dic['review_count'] = businesses[i]['review_count']\n",
    "            \n",
    "            tple = (dic['id'],dic['name'],dic['price'],dic['rating'],dic['review_count'])\n",
    "            bus_list.append(tple)\n",
    "    return bus_list\n",
    "\n",
    "\n",
    "\n",
    "\n",
    "    # so that you can easily insert the data in to the DB"
   ]
  },
  {
   "cell_type": "code",
   "execution_count": 117,
   "metadata": {},
   "outputs": [],
   "source": [
    "bus = parse(businesses)"
   ]
  },
  {
   "cell_type": "code",
   "execution_count": 118,
   "metadata": {
    "collapsed": true
   },
   "outputs": [
    {
     "data": {
      "text/plain": [
       "[('HZWHBfeuP4Fb6y8b8uqnbA', 'Sushi Yasaka', '$$', 4.0, 1693),\n",
       " ('MmXZLVwWcYugi_TXSHmjeQ', 'Sushi by Bou Times Square', '$$$', 4.5, 472),\n",
       " ('6lUsFj0KCao678o9L7QwUw', 'Hatsuhana Sushi Restaurant', '$$$', 4.0, 1260),\n",
       " ('BPZfuPvSxCfoppU4lPFm0Q', 'DOMODOMO', '$$$', 4.5, 962),\n",
       " ('_IkMfWpOkQXRZtJAYJUJIw', 'Hama Japanese Cuisine', '$$', 4.0, 352),\n",
       " ('YoR6ouUwehLFnBQ7RAjPlw', 'Zawa Japanese', '$$$', 4.5, 89),\n",
       " ('p4W_z-zh96LHEAtQ8LRSVQ', 'Shinagawa', '$$', 4.5, 82),\n",
       " ('aK2ipD9K8-usBw_gkvvJuw', 'Nare Sushi', '$$', 4.0, 315),\n",
       " ('MGRo61aHFUeRlWhSbTv2NA', 'Sushi By M', '$$$', 4.5, 278),\n",
       " ('Zjdtcex73QIz2_MvEvDrFQ', 'MakiMaki', '$$', 4.0, 142),\n",
       " ('xFp3xSQ43J-i7nmJfNBsZA', 'Norikoh', '$$', 4.0, 512),\n",
       " ('BOz0qTUMtAfljd3Vn1rerQ', 'Pado', '$$', 4.5, 215),\n",
       " ('OLSSJIp8pu5UlugTF7tuHA', 'Ootoya Chelsea', '$$', 4.0, 1345),\n",
       " ('pNe8ZCkGTe4cXfKdOF7kYQ', 'Ise Restaurant', '$$', 4.5, 403),\n",
       " ('mESab-FqL5QqSVsnX72asQ', 'Zen Ramen & Sushi', '$$', 4.5, 1321),\n",
       " ('fePu8xy0ir_ikZcS_vVSBA', 'Asuka Sushi', '$$', 4.0, 898),\n",
       " ('diz6_4TVSP6EdWEZCZ0Acg', 'Kaoru', '$$', 4.5, 298),\n",
       " ('TcuWyuZAORVnQBPCMNbTgw', 'Beyond Sushi', '$$', 4.5, 632),\n",
       " ('CdHOwIO6OFNXZxPYEUts2g', 'Ageha Sushi', '$$', 4.0, 644),\n",
       " ('kwq1W0opBnOYKoUXWYyQ5g', 'Momokawa', '$$$', 4.0, 126),\n",
       " ('TBp9gdS6xEbSQqffVZ7iag',\n",
       "  'KazuNori  | The Original Hand Roll Bar',\n",
       "  '$$',\n",
       "  4.5,\n",
       "  817),\n",
       " ('a7rM-AOM7_xi8AlWX-Thkg', 'Oita Sushi', '$$', 4.5, 233),\n",
       " ('CqQ2Og9kf-LhlUWtODalCQ',\n",
       "  'Blue Ribbon Sushi Bar & Grill - New York',\n",
       "  '$$$',\n",
       "  4.0,\n",
       "  735),\n",
       " ('nEkVibaTuIFEcTNtltFgJg', 'Kura', '$$$$', 4.5, 450),\n",
       " ('NRJq2BNcbjqAyxUB_bw7gw', 'Momoya', '$$', 4.0, 598),\n",
       " ('klAhw3xLQi9GF1tf_HnS7w', 'Izakaya MEW', '$$', 4.0, 2162),\n",
       " ('oyyubJoK0VZ2V3a5sVJULg', 'Natsumi', '$$$', 4.0, 825),\n",
       " ('6qK0MyhsXYLgMSPWZdleGA', 'Dai Hachi Sushi', '$$', 4.0, 181),\n",
       " ('_2V0as8DZDwVxAi3ZJ0JkA', \"Raku - It's Japanese II\", '$$', 4.0, 295),\n",
       " ('AtUxlW7ltZb73ZXMwpkY_g', 'Sashimi Ramen Express', '$', 4.5, 286),\n",
       " ('0ePn6TQSJQky4ueKeGQvpQ', 'SUGARFISH by sushi nozawa', '$$$', 4.0, 747),\n",
       " ('Gb79W0yuQfJvu0V0SDC0Ag', 'Aya Sushi', '$$', 4.0, 297),\n",
       " ('vX0_qcuVXoeeH1_24I8lSA', 'Sushi Kaito', '$$$$', 4.5, 160),\n",
       " ('7EaiwMVaNdQibSs0yYkE5Q', 'Sushi Yasuda', '$$$', 4.0, 2070),\n",
       " ('FXFQJmhK6elesopXdhjvFQ', 'Amber', '$$', 4.0, 96),\n",
       " ('zGAQqDu0Ak2khVYs9WdQxw', 'Sushi Nakazawa', '$$$$', 4.5, 1319),\n",
       " ('MwtXOkRUndPU-ivbtLD-bQ', 'Amura Japanese', '$$', 4.0, 298),\n",
       " ('wSGZA3DOFSUvALZRKCM_Sw', 'Tanoshi Sushi Sake Bar', '$$$$', 4.5, 622),\n",
       " ('Clumryf360iOnwpZ2ML8aw', 'Sushi You', '$$', 4.0, 261),\n",
       " ('PTYUAAJbEmvIv4EsyRrcnA', 'Momoya', '$$$', 4.0, 417),\n",
       " ('ZlNDeVv6UJ1cGzcSoypVOA', 'MIMI', '$$', 4.0, 117),\n",
       " ('u0qfikB-ppp6UwoNKqxlRw', 'Flame', '$$', 4.0, 366),\n",
       " ('et9pAFtSvNOct9Qcmtcf7g', 'Mido Japanese', '$$', 4.0, 189),\n",
       " ('loXvaVYhzOO3xTYzntlVBg', 'Yuri Sushi', '$$', 4.0, 75),\n",
       " ('M9NNvpKlOWLxJbSPDTe0Lg', 'Sushi by Bou Flatiron', '$$$', 4.5, 176)]"
      ]
     },
     "execution_count": 118,
     "metadata": {},
     "output_type": "execute_result"
    }
   ],
   "source": [
    "bus"
   ]
  },
  {
   "cell_type": "code",
   "execution_count": null,
   "metadata": {},
   "outputs": [],
   "source": []
  },
  {
   "cell_type": "code",
   "execution_count": 121,
   "metadata": {},
   "outputs": [],
   "source": [
    "# Write a function to take your parsed data and insert it into the DB\n",
    "def upload(upload_list):    \n",
    "    statement = '''INSERT INTO businesses (business_id, name, price, ave_rating, review_count) VALUES (%s, %s, %s, %s, %s)'''\n",
    "    cnx = mysql.connector.connect(\n",
    "    host = config2.host,\n",
    "    user = config2.user,\n",
    "    passwd = config2.passwd,\n",
    "    database = db_name)\n",
    "    cursor = cnx.cursor()\n",
    "    \n",
    "    cursor.executemany(statement, upload_list)\n",
    "    cnx.commit()"
   ]
  },
  {
   "cell_type": "code",
   "execution_count": 122,
   "metadata": {},
   "outputs": [],
   "source": [
    "#upload(bus)"
   ]
  },
  {
   "cell_type": "markdown",
   "metadata": {},
   "source": [
    "## Part 3: Create ETL pipeline for the restaurant review data from the API"
   ]
  },
  {
   "cell_type": "code",
   "execution_count": 138,
   "metadata": {},
   "outputs": [],
   "source": [
    "# write a query to pull back all of the business ids \n",
    "cnx = mysql.connector.connect(\n",
    "    host = config2.host,\n",
    "    user = config2.user,\n",
    "    passwd = config2.passwd,\n",
    "    database = db_name)\n",
    "cursor = cnx.cursor()\n",
    "cursor.execute('''SELECT business_id FROM businesses''')\n",
    "query = cursor.fetchall()\n",
    "\n",
    "# you will need these ids to pull back the reviews for each restaurant"
   ]
  },
  {
   "cell_type": "code",
   "execution_count": 193,
   "metadata": {
    "scrolled": true
   },
   "outputs": [
    {
     "data": {
      "text/plain": [
       "[('0ePn6TQSJQky4ueKeGQvpQ',),\n",
       " ('6lUsFj0KCao678o9L7QwUw',),\n",
       " ('6qK0MyhsXYLgMSPWZdleGA',),\n",
       " ('7EaiwMVaNdQibSs0yYkE5Q',),\n",
       " ('a7rM-AOM7_xi8AlWX-Thkg',),\n",
       " ('aK2ipD9K8-usBw_gkvvJuw',),\n",
       " ('AtUxlW7ltZb73ZXMwpkY_g',),\n",
       " ('BOz0qTUMtAfljd3Vn1rerQ',),\n",
       " ('BPZfuPvSxCfoppU4lPFm0Q',),\n",
       " ('CdHOwIO6OFNXZxPYEUts2g',),\n",
       " ('Clumryf360iOnwpZ2ML8aw',),\n",
       " ('CqQ2Og9kf-LhlUWtODalCQ',),\n",
       " ('diz6_4TVSP6EdWEZCZ0Acg',),\n",
       " ('et9pAFtSvNOct9Qcmtcf7g',),\n",
       " ('fePu8xy0ir_ikZcS_vVSBA',),\n",
       " ('FXFQJmhK6elesopXdhjvFQ',),\n",
       " ('Gb79W0yuQfJvu0V0SDC0Ag',),\n",
       " ('HZWHBfeuP4Fb6y8b8uqnbA',),\n",
       " ('klAhw3xLQi9GF1tf_HnS7w',),\n",
       " ('kwq1W0opBnOYKoUXWYyQ5g',),\n",
       " ('loXvaVYhzOO3xTYzntlVBg',),\n",
       " ('M9NNvpKlOWLxJbSPDTe0Lg',),\n",
       " ('mESab-FqL5QqSVsnX72asQ',),\n",
       " ('MGRo61aHFUeRlWhSbTv2NA',),\n",
       " ('MmXZLVwWcYugi_TXSHmjeQ',),\n",
       " ('MwtXOkRUndPU-ivbtLD-bQ',),\n",
       " ('nEkVibaTuIFEcTNtltFgJg',),\n",
       " ('NRJq2BNcbjqAyxUB_bw7gw',),\n",
       " ('OLSSJIp8pu5UlugTF7tuHA',),\n",
       " ('oyyubJoK0VZ2V3a5sVJULg',),\n",
       " ('p4W_z-zh96LHEAtQ8LRSVQ',),\n",
       " ('pNe8ZCkGTe4cXfKdOF7kYQ',),\n",
       " ('PTYUAAJbEmvIv4EsyRrcnA',),\n",
       " ('TBp9gdS6xEbSQqffVZ7iag',),\n",
       " ('TcuWyuZAORVnQBPCMNbTgw',),\n",
       " ('u0qfikB-ppp6UwoNKqxlRw',),\n",
       " ('vX0_qcuVXoeeH1_24I8lSA',),\n",
       " ('wSGZA3DOFSUvALZRKCM_Sw',),\n",
       " ('xFp3xSQ43J-i7nmJfNBsZA',),\n",
       " ('YoR6ouUwehLFnBQ7RAjPlw',),\n",
       " ('zGAQqDu0Ak2khVYs9WdQxw',),\n",
       " ('Zjdtcex73QIz2_MvEvDrFQ',),\n",
       " ('ZlNDeVv6UJ1cGzcSoypVOA',),\n",
       " ('_2V0as8DZDwVxAi3ZJ0JkA',),\n",
       " ('_IkMfWpOkQXRZtJAYJUJIw',)]"
      ]
     },
     "execution_count": 193,
     "metadata": {},
     "output_type": "execute_result"
    }
   ],
   "source": [
    "query"
   ]
  },
  {
   "cell_type": "code",
   "execution_count": 148,
   "metadata": {},
   "outputs": [],
   "source": [
    "def yelp_call_review(url_params, api_key):\n",
    "    my_table = []\n",
    "    for i in query:\n",
    "        url = f'https://api.yelp.com/v3/businesses/{i[0]}/reviews'\n",
    "        headers = {'Authorization' : 'Bearer {}'.format(api_key)}\n",
    "        response = requests.get(url, headers=headers, params=url_params)\n",
    "        data = response.json()\n",
    "        my_table.append(data)\n",
    "    return my_table"
   ]
  },
  {
   "cell_type": "code",
   "execution_count": 162,
   "metadata": {},
   "outputs": [],
   "source": [
    "table_rev = yelp_call_review(url_params, api)"
   ]
  },
  {
   "cell_type": "code",
   "execution_count": 194,
   "metadata": {
    "scrolled": true
   },
   "outputs": [],
   "source": []
  },
  {
   "cell_type": "code",
   "execution_count": 183,
   "metadata": {},
   "outputs": [],
   "source": [
    "# write a function that takes a business id \n",
    "# and makes a call to the API for reivews\n",
    "# then parse out the relevant information\n",
    "def parse_review(reviews):\n",
    "    review_list = []\n",
    "    for j in range(len(table_rev)):\n",
    "        for i in range(len(table_rev[j]['reviews'])):\n",
    "            dic = {}\n",
    "            dic['text'] = table_rev[j]['reviews'][i]['text']\n",
    "            dic['rating'] = table_rev[j]['reviews'][i]['rating']\n",
    "            dic['id'] = table_rev[j]['reviews'][i]['id']\n",
    "\n",
    "            tple = (dic['text'], dic['rating'], dic['id'])\n",
    "            review_list.append(tple)\n",
    "    return review_list"
   ]
  },
  {
   "cell_type": "code",
   "execution_count": 185,
   "metadata": {
    "scrolled": true
   },
   "outputs": [],
   "source": [
    "# write a function to insert the parsed data into the reviews table\n",
    "parsed_review = parse_review(table_rev)"
   ]
  },
  {
   "cell_type": "code",
   "execution_count": 191,
   "metadata": {},
   "outputs": [],
   "source": [
    "def upload_review(upload_list):    \n",
    "    statement = '''INSERT INTO reviews (review_text, rating, business_id) VALUES (%s, %s, %s)'''\n",
    "    cnx = mysql.connector.connect(\n",
    "    host = config2.host,\n",
    "    user = config2.user,\n",
    "    passwd = config2.passwd,\n",
    "    database = db_name)\n",
    "    cursor = cnx.cursor()\n",
    "    \n",
    "    cursor.executemany(statement, upload_list)\n",
    "    cnx.commit()"
   ]
  },
  {
   "cell_type": "code",
   "execution_count": 192,
   "metadata": {},
   "outputs": [],
   "source": [
    "upload_review(parsed_review)"
   ]
  },
  {
   "cell_type": "markdown",
   "metadata": {},
   "source": [
    "## Part 4: Write SQL queries that will answer the questions posed. "
   ]
  },
  {
   "cell_type": "markdown",
   "metadata": {},
   "source": [
    "###  Pagination\n",
    "\n",
    "Returning to the Yelp API, the [documentation](https://www.yelp.com/developers/documentation/v3/business_search) also provides us details regarding the API limits. These often include details about the number of requests a user is allowed to make within a specified time limit and the maximum number of results to be returned. In this case, we are told that any request has a maximum of 50 results per request and defaults to 20. Furthermore, any search will be limited to a total of 1000 results. To retrieve all 1000 of these results, we would have to page through the results piece by piece, retriving 50 at a time. Processes such as these are often refered to as pagination.\n",
    "\n",
    "Now that you have an initial response, you can examine the contents of the json container. For example, you might start with ```response.json().keys()```. Here, you'll see a key for `'total'`, which tells you the full number of matching results given your query parameters. Write a loop (or ideally a function) which then makes successive API calls using the offset parameter to retrieve all of the results (or 5000 for a particularly large result set) for the original query. As you do this, be mindful of how you store the data. \n",
    "\n",
    "**Note: be mindful of the API rate limits. You can only make 5000 requests per day, and APIs can make requests too fast. Start prototyping small before running a loop that could be faulty. You can also use time.sleep(n) to add delays. For more details see https://www.yelp.com/developers/documentation/v3/rate_limiting.**"
   ]
  },
  {
   "cell_type": "markdown",
   "metadata": {},
   "source": [
    "***Below is sample code that you can use to help you deal with the pagination parameter.***"
   ]
  },
  {
   "cell_type": "code",
   "execution_count": null,
   "metadata": {},
   "outputs": [],
   "source": [
    "# Your code here; use a function or loop to retrieve all the results from your original request\n",
    "import time\n",
    "\n",
    "def yelp_call(url_params, api_key):\n",
    "    url = 'https://api.yelp.com/v3/businesses/search'\n",
    "    headers = {'Authorization': 'Bearer {}'.format(api_key)}\n",
    "    response = requests.get(url, headers=headers, params=url_params)\n",
    "    \n",
    "    data = response.json()['businesses']\n",
    "    return data\n",
    "\n",
    "def all_results(url_params, api_key):\n",
    "    num = response.json()['total']\n",
    "    print('{} total matches found.'.format(num))\n",
    "    cur = 0\n",
    "    results = []\n",
    "    while cur < num and cur < 1000:\n",
    "        url_params['offset'] = cur\n",
    "        results.append(yelp_call(url_params, api_key))\n",
    "        time.sleep(1) #Wait a second\n",
    "        results += 50\n",
    "    return df\n",
    "\n",
    "term = 'pizza'\n",
    "location = 'Astoria NY'\n",
    "url_params = {  'term': term.replace(' ', '+'),\n",
    "                'location': location.replace(' ', '+'),\n",
    "                'limit' : 50\n",
    "             }\n",
    "df = all_results(url_params, api_key)\n",
    "print(len(df))\n",
    "df.head()"
   ]
  },
  {
   "cell_type": "markdown",
   "metadata": {},
   "source": [
    "### Sample SQL Query \n",
    "\n",
    "Below is a SQL query to create a table.  Additionally here is a link to create a table with a foreign key.\n",
    "\n",
    "http://www.mysqltutorial.org/mysql-foreign-key/\n",
    "\n",
    "```CREATE TABLE IF NOT EXISTS tasks (\n",
    "    task_id INT AUTO_INCREMENT,\n",
    "    title VARCHAR(255) NOT NULL,\n",
    "    start_date DATE,\n",
    "    due_date DATE,\n",
    "    status TINYINT NOT NULL,\n",
    "    priority TINYINT NOT NULL,\n",
    "    description TEXT,\n",
    "    PRIMARY KEY (task_id)\n",
    ")  ENGINE=INNODB;```"
   ]
  },
  {
   "cell_type": "code",
   "execution_count": null,
   "metadata": {},
   "outputs": [],
   "source": []
  },
  {
   "cell_type": "code",
   "execution_count": null,
   "metadata": {},
   "outputs": [],
   "source": []
  },
  {
   "cell_type": "code",
   "execution_count": null,
   "metadata": {},
   "outputs": [],
   "source": []
  },
  {
   "cell_type": "code",
   "execution_count": null,
   "metadata": {},
   "outputs": [],
   "source": []
  },
  {
   "cell_type": "code",
   "execution_count": null,
   "metadata": {},
   "outputs": [],
   "source": []
  },
  {
   "cell_type": "markdown",
   "metadata": {},
   "source": [
    "SQL Questions:\n",
    "What are the 5 businesses with the highest average ratings?\n",
    "\n",
    "What are the 5 businesses with the lowest average ratings?\n",
    "\n",
    "What is the average rating of restaurants that have a price label of one dollar sign? Two dollar signs? Three dollar signs?\n",
    "\n",
    "How many businesses have a rating greater than or 4.5?\n",
    "\n",
    "How many businesses have a rating less than 3?\n",
    "\n",
    "Return the text of the reviews for the most reviewed restaurant.\n",
    "\n",
    "Return the name of the business with the most recent review.\n",
    "\n",
    "Find the highest rated business and return text of the most recent review. If multiple business have the same rating,\n",
    "select the restaurant with the most reviews.\n",
    "\n",
    "Find the lowest rated business and return text of the most recent review. If multiple business have the same rating, select the restaurant with the least reviews."
   ]
  },
  {
   "cell_type": "code",
   "execution_count": 195,
   "metadata": {},
   "outputs": [],
   "source": [
    "cnx = mysql.connector.connect(\n",
    "    host = config2.host,\n",
    "    user = config2.user,\n",
    "    passwd = config2.passwd,\n",
    "    database = db_name)\n",
    "cursor = cnx.cursor()"
   ]
  },
  {
   "cell_type": "code",
   "execution_count": 205,
   "metadata": {},
   "outputs": [],
   "source": [
    "cursor.execute('''SELECT MAX(ave_rating) FROM businesses''')\n",
    "xpx= cursor.fetchall()"
   ]
  },
  {
   "cell_type": "code",
   "execution_count": 210,
   "metadata": {},
   "outputs": [
    {
     "data": {
      "text/plain": [
       "4.5"
      ]
     },
     "execution_count": 210,
     "metadata": {},
     "output_type": "execute_result"
    }
   ],
   "source": [
    "float(xpx[0][0])"
   ]
  },
  {
   "cell_type": "code",
   "execution_count": null,
   "metadata": {},
   "outputs": [],
   "source": []
  },
  {
   "cell_type": "code",
   "execution_count": null,
   "metadata": {},
   "outputs": [],
   "source": []
  }
 ],
 "metadata": {
  "kernelspec": {
   "display_name": "Python 3",
   "language": "python",
   "name": "python3"
  },
  "language_info": {
   "codemirror_mode": {
    "name": "ipython",
    "version": 3
   },
   "file_extension": ".py",
   "mimetype": "text/x-python",
   "name": "python",
   "nbconvert_exporter": "python",
   "pygments_lexer": "ipython3",
   "version": "3.7.4"
  },
  "toc": {
   "base_numbering": 1,
   "nav_menu": {},
   "number_sections": false,
   "sideBar": true,
   "skip_h1_title": false,
   "title_cell": "Table of Contents",
   "title_sidebar": "Contents",
   "toc_cell": false,
   "toc_position": {},
   "toc_section_display": true,
   "toc_window_display": false
  }
 },
 "nbformat": 4,
 "nbformat_minor": 2
}
