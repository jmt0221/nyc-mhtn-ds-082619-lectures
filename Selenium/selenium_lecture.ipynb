{
 "cells": [
  {
   "cell_type": "markdown",
   "metadata": {},
   "source": [
    "# Selenium:"
   ]
  },
  {
   "cell_type": "markdown",
   "metadata": {},
   "source": [
    "## Learning Goals:"
   ]
  },
  {
   "cell_type": "markdown",
   "metadata": {},
   "source": [
    "- Able to install and setup Selenium\n",
    "- Able to login to website platform\n",
    "- Able to navigate through pages/pop-ups\n",
    "- Able to write scraper that is more \"human-like\"\n",
    "- Able to know when to use appropriate `find_element(s)_by...`\n",
    "- Able to acquire desired data"
   ]
  },
  {
   "cell_type": "markdown",
   "metadata": {},
   "source": [
    "---"
   ]
  },
  {
   "cell_type": "markdown",
   "metadata": {},
   "source": [
    "## First, head over to [this page](https://chromedriver.chromium.org/downloads) and locate the chromedriver that matches your chrome version."
   ]
  },
  {
   "cell_type": "markdown",
   "metadata": {},
   "source": [
    "**How to Find Your Internet Browser Version Number - Google Chrome.**\n",
    "\n",
    "1) Click on the Menu icon in the upper right corner of the screen. \n",
    "\n",
    "2) Click on Help, and then About Google Chrome. \n",
    "\n",
    "3) Your Chrome browser version number can be found here."
   ]
  },
  {
   "cell_type": "markdown",
   "metadata": {},
   "source": [
    "## Next, download the appropriate driver that matches your version of Chrome"
   ]
  },
  {
   "cell_type": "markdown",
   "metadata": {},
   "source": [
    "- After you have downloaded the driver, press `command` + `spacebar`\n",
    "- Inside of the spotlight search you just opened, type `/usr/local/bin/` and open that folder\n",
    "- Next, in a separate finder window (`command` + `n`), navigate to where you downloaded the `chromedriver`\n",
    "- Finally, move the `chromedriver` from where ever you downloaded it into your `/usr/local/bin/`\n",
    "\n",
    "*Technically, you can install the driver anywhere, but most tutorials I have read say to put it in `/usr/local/bin/`*\n",
    "\n",
    "...However, after a bit of research, I believe the reason we want to install the `chromedriver` inside of `/usr/local/bin/` is so that you don't have to explicitly state the chromedriver path when you instantiate your driver 😎 "
   ]
  },
  {
   "cell_type": "markdown",
   "metadata": {},
   "source": [
    "## Install Selenium if you have not already done so:"
   ]
  },
  {
   "cell_type": "code",
   "execution_count": 1,
   "metadata": {},
   "outputs": [
    {
     "name": "stdout",
     "output_type": "stream",
     "text": [
      "Collecting selenium\n",
      "\u001b[?25l  Downloading https://files.pythonhosted.org/packages/80/d6/4294f0b4bce4de0abf13e17190289f9d0613b0a44e5dd6a7f5ca98459853/selenium-3.141.0-py2.py3-none-any.whl (904kB)\n",
      "\u001b[K     |████████████████████████████████| 911kB 3.3MB/s eta 0:00:01     |███████████▎                    | 317kB 3.3MB/s eta 0:00:01\n",
      "\u001b[?25hRequirement already satisfied: urllib3 in /anaconda3/lib/python3.7/site-packages (from selenium) (1.24.1)\n",
      "Installing collected packages: selenium\n",
      "Successfully installed selenium-3.141.0\n"
     ]
    }
   ],
   "source": [
    "!pip install selenium"
   ]
  },
  {
   "cell_type": "code",
   "execution_count": 2,
   "metadata": {},
   "outputs": [],
   "source": [
    "import re\n",
    "import os\n",
    "import time\n",
    "import random\n",
    "import requests\n",
    "import numpy as np\n",
    "import pandas as pd\n",
    "from os import system\n",
    "from math import floor\n",
    "from copy import deepcopy\n",
    "from bs4 import BeautifulSoup\n",
    "from selenium import webdriver\n",
    "from selenium.webdriver.common.by import By\n",
    "from selenium.webdriver.common.keys import Keys\n",
    "from selenium.common.exceptions import TimeoutException\n",
    "from selenium.webdriver.support.ui import WebDriverWait\n",
    "from selenium.webdriver.support import expected_conditions as EC"
   ]
  },
  {
   "cell_type": "code",
   "execution_count": 2,
   "metadata": {},
   "outputs": [
    {
     "ename": "NameError",
     "evalue": "name 'pd' is not defined",
     "output_type": "error",
     "traceback": [
      "\u001b[0;31m---------------------------------------------------------------------------\u001b[0m",
      "\u001b[0;31mNameError\u001b[0m                                 Traceback (most recent call last)",
      "\u001b[0;32m<ipython-input-2-4e926fc61b78>\u001b[0m in \u001b[0;36m<module>\u001b[0;34m\u001b[0m\n\u001b[0;32m----> 1\u001b[0;31m \u001b[0mpd\u001b[0m\u001b[0;34m.\u001b[0m\u001b[0mset_option\u001b[0m\u001b[0;34m(\u001b[0m\u001b[0;34m'display.max_columns'\u001b[0m\u001b[0;34m,\u001b[0m \u001b[0;36m20\u001b[0m\u001b[0;34m)\u001b[0m\u001b[0;34m\u001b[0m\u001b[0;34m\u001b[0m\u001b[0m\n\u001b[0m\u001b[1;32m      2\u001b[0m \u001b[0mpd\u001b[0m\u001b[0;34m.\u001b[0m\u001b[0mset_option\u001b[0m\u001b[0;34m(\u001b[0m\u001b[0;34m'display.max_colwidth'\u001b[0m\u001b[0;34m,\u001b[0m \u001b[0;36m200\u001b[0m\u001b[0;34m)\u001b[0m\u001b[0;34m\u001b[0m\u001b[0;34m\u001b[0m\u001b[0m\n",
      "\u001b[0;31mNameError\u001b[0m: name 'pd' is not defined"
     ]
    }
   ],
   "source": [
    "pd.set_option('display.max_columns', 20)\n",
    "pd.set_option('display.max_colwidth', 200)"
   ]
  },
  {
   "cell_type": "markdown",
   "metadata": {},
   "source": [
    "---"
   ]
  },
  {
   "cell_type": "markdown",
   "metadata": {},
   "source": [
    "**Next, I always like to label my driver with a bold title cell**\n",
    "\n",
    "\n",
    "- I find it helps when we need to re-instantiate our driver and for general organization\n",
    "- Also, when we copy and paste this code form a notebook to a .py file, we would usually only need one driver"
   ]
  },
  {
   "cell_type": "markdown",
   "metadata": {},
   "source": [
    "## DRIVER HERE:"
   ]
  },
  {
   "cell_type": "code",
   "execution_count": 4,
   "metadata": {},
   "outputs": [],
   "source": [
    "driver = webdriver.Chrome()"
   ]
  },
  {
   "cell_type": "markdown",
   "metadata": {},
   "source": [
    "---"
   ]
  },
  {
   "cell_type": "markdown",
   "metadata": {},
   "source": [
    "### Note: Headless Browsers"
   ]
  },
  {
   "cell_type": "markdown",
   "metadata": {},
   "source": [
    "**Headless Browser**\n",
    "A Headless Browser is also a Web Browser but without a graphical user interface (GUI) but can be controlled programmatically which can be extensively used for automation, testing, and other purposes.\n",
    "\n",
    "**Why to use Headless Browsers?**\n",
    "There are a lot of advantages and disadvantages in using the Headless Browsers. Using a headless browser might not be very helpful for browsing the Web, but for Automating tasks and tests it’s awesome."
   ]
  },
  {
   "cell_type": "markdown",
   "metadata": {},
   "source": [
    "**Advantages of Headless Browsers**\n",
    "\n",
    "Some of the advantages are as follows:\n",
    "\n",
    "- Headless Browsers are typically faster than real browsers. \n",
    "    - The reason for being faster is because we are not starting up a Browser GUI and can bypass all the time a real browser takes to load CSS, JavaScript and open and render HTML DOM.\n",
    "- Performance wise, you can typically see a 2x to 15x faster performance when using a headless browser."
   ]
  },
  {
   "cell_type": "markdown",
   "metadata": {},
   "source": [
    "*More info on headless browsers here:* https://stackoverflow.com/questions/53083952/difference-of-headless-browsers-for-automation"
   ]
  },
  {
   "cell_type": "markdown",
   "metadata": {},
   "source": [
    "## Time to scrape!"
   ]
  },
  {
   "cell_type": "markdown",
   "metadata": {},
   "source": [
    "<img src = \"https://media1.tenor.com/images/3fd84ba4b54f8d299f7732e63cdb3c00/tenor.gif?itemid=11903546\" />"
   ]
  },
  {
   "cell_type": "markdown",
   "metadata": {},
   "source": [
    "### Visiting a webpage"
   ]
  },
  {
   "cell_type": "code",
   "execution_count": 20,
   "metadata": {},
   "outputs": [],
   "source": [
    "# Visit the website of your choice:\n",
    "\n",
    "driver.get('https://www.espn.com')"
   ]
  },
  {
   "cell_type": "markdown",
   "metadata": {},
   "source": [
    "#### Methods for finding a single element \n",
    "\n",
    "    This will return the FIRST instance of your desired \"element\"\n",
    "\n",
    "* find_element_by_id\n",
    "* find_element_by_name\n",
    "* find_element_by_xpath  \n",
    "* find_element_by_link_text\n",
    "* find_element_by_partial_link_text\n",
    "* find_element_by_tag_name\n",
    "* find_element_by_class_name\n",
    "* find_element_by_css_selector\n",
    "\n",
    "---\n",
    "\n",
    "#### Methods for finding multiple elements\n",
    "\n",
    "    This will return a list of ALL instances of your desired \"element\"\n",
    "\n",
    "* find_elements_by_name\n",
    "* find_elements_by_xpath\n",
    "* find_elements_by_link_text\n",
    "* find_elements_by_partial_link_text\n",
    "* find_elements_by_tag_name\n",
    "* find_elements_by_class_name\n",
    "* find_elements_by_css_selector\n",
    "\n",
    "From the [Selenium Python Docs](https://selenium-python.readthedocs.io/locating-elements.html \"Selenium Docs\") "
   ]
  },
  {
   "cell_type": "markdown",
   "metadata": {},
   "source": [
    "### Selecting the FIRST instance of an \"element\"\n",
    "\n",
    "First, well check out `.find_element_by_css_selector()`"
   ]
  },
  {
   "cell_type": "code",
   "execution_count": 23,
   "metadata": {},
   "outputs": [
    {
     "data": {
      "text/plain": [
       "<selenium.webdriver.remote.webelement.WebElement (session=\"951ef9d582442a745d7019f8cdea4591\", element=\"659a856e-4898-4572-a205-af77e4f2182e\")>"
      ]
     },
     "execution_count": 23,
     "metadata": {},
     "output_type": "execute_result"
    }
   ],
   "source": [
    "driver.find_element_by_css_selector('h1')"
   ]
  },
  {
   "cell_type": "code",
   "execution_count": 26,
   "metadata": {},
   "outputs": [
    {
     "data": {
      "text/plain": [
       "''"
      ]
     },
     "execution_count": 26,
     "metadata": {},
     "output_type": "execute_result"
    }
   ],
   "source": [
    "driver.find_element_by_css_selector('h1').text"
   ]
  },
  {
   "cell_type": "markdown",
   "metadata": {},
   "source": [
    "### Selecting ALL instances of your desired \"element\""
   ]
  },
  {
   "cell_type": "code",
   "execution_count": 28,
   "metadata": {},
   "outputs": [],
   "source": [
    "listy = driver.find_elements_by_css_selector('h1')"
   ]
  },
  {
   "cell_type": "code",
   "execution_count": 29,
   "metadata": {},
   "outputs": [
    {
     "name": "stdout",
     "output_type": "stream",
     "text": [
      "ESPN\n",
      "Picking the five best possible 2019 World Series matchups\n",
      "'The Bogeyman' is back: What Luis Severino expects from himself in his 2019 debut\n",
      "TOP HEADLINES\n",
      "LATEST ON ESPN+\n",
      "NFL PrimeTime returns: Boomer and TJ recap Week 2\n"
     ]
    }
   ],
   "source": [
    "for x in listy[:15]:\n",
    "    if len(x.text) > 3:\n",
    "        print(x.text)"
   ]
  },
  {
   "cell_type": "markdown",
   "metadata": {},
   "source": [
    "### Selecting a specific element (by class name)\n",
    "\n",
    "Using `.find_element_by_class_name()` to locate an element:"
   ]
  },
  {
   "cell_type": "code",
   "execution_count": 30,
   "metadata": {},
   "outputs": [
    {
     "data": {
      "text/plain": [
       "'Picking the five best possible 2019 World Series matchups'"
      ]
     },
     "execution_count": 30,
     "metadata": {},
     "output_type": "execute_result"
    }
   ],
   "source": [
    "driver.find_element_by_class_name('contentItem__title--hero').text"
   ]
  },
  {
   "cell_type": "markdown",
   "metadata": {},
   "source": [
    "---"
   ]
  },
  {
   "cell_type": "markdown",
   "metadata": {},
   "source": [
    "#### Closing the driver:"
   ]
  },
  {
   "cell_type": "markdown",
   "metadata": {},
   "source": [
    "If you were to just close your driver's browsing window, your Google chrome instance will still appear open in your mac's dock. Using `driver.quit()`, we can close the Google chrome instance, which will also close the driver's browser:"
   ]
  },
  {
   "cell_type": "code",
   "execution_count": 32,
   "metadata": {},
   "outputs": [],
   "source": [
    "driver.quit()"
   ]
  },
  {
   "cell_type": "markdown",
   "metadata": {},
   "source": [
    "### Logging into websites\n",
    "\n",
    "We'll use `.find_element_by_id()` for this example:"
   ]
  },
  {
   "cell_type": "code",
   "execution_count": 34,
   "metadata": {},
   "outputs": [],
   "source": [
    "from private import *"
   ]
  },
  {
   "cell_type": "code",
   "execution_count": 40,
   "metadata": {},
   "outputs": [],
   "source": [
    "my_url = 'https://www.facebook.com/'"
   ]
  },
  {
   "cell_type": "code",
   "execution_count": 36,
   "metadata": {},
   "outputs": [],
   "source": [
    "driver = webdriver.Chrome()\n",
    "driver.get(my_url)\n",
    "  \n",
    "username = driver.find_element_by_id(\"email\")\n",
    "password = driver.find_element_by_id(\"pass\")\n",
    "submit   = driver.find_element_by_id(\"loginbutton\")\n",
    "  \n",
    "username.send_keys(FB_USERNAME)\n",
    "password.send_keys(PASSWORD)"
   ]
  },
  {
   "cell_type": "code",
   "execution_count": 37,
   "metadata": {},
   "outputs": [],
   "source": [
    "submit.click()"
   ]
  },
  {
   "cell_type": "markdown",
   "metadata": {},
   "source": [
    "#### Timing"
   ]
  },
  {
   "cell_type": "markdown",
   "metadata": {},
   "source": [
    "Sometimes we will need to wait for the page to load. Other times, we may want to have our scraper act more like a human, in terms of \"click rate.\"\n",
    "\n",
    "Two possible ways to make this happen are by using `time.sleep()` or `WebDriverWait()`"
   ]
  },
  {
   "cell_type": "markdown",
   "metadata": {},
   "source": [
    "If we just want to mimic the behavior of a human, we can use `time.sleep()`:"
   ]
  },
  {
   "cell_type": "code",
   "execution_count": 41,
   "metadata": {},
   "outputs": [],
   "source": [
    "# Using a single \"wait\" time:\n",
    "\n",
    "time.sleep(2)"
   ]
  },
  {
   "cell_type": "code",
   "execution_count": 42,
   "metadata": {},
   "outputs": [
    {
     "name": "stdout",
     "output_type": "stream",
     "text": [
      "[0.8, 0.9, 1.0, 1.1, 1.2, 1.3]\n"
     ]
    }
   ],
   "source": [
    "# Using a randomized time:\n",
    "\n",
    "sequence = [x/10 for x in range(8, 14)]\n",
    "print(sequence)\n",
    "\n",
    "time.sleep(random.choice(sequence))"
   ]
  },
  {
   "cell_type": "markdown",
   "metadata": {},
   "source": [
    "If we explicitly want to wait for our page to load, we can use `WebDriverWait()`:"
   ]
  },
  {
   "cell_type": "code",
   "execution_count": 43,
   "metadata": {},
   "outputs": [
    {
     "name": "stdout",
     "output_type": "stream",
     "text": [
      "The page loaded correctly\n"
     ]
    }
   ],
   "source": [
    "wait = WebDriverWait(driver, 5)\n",
    "\n",
    "try:\n",
    "    page_loaded = wait.until(lambda driver: driver.current_url == my_url)\n",
    "    print('The page loaded correctly')\n",
    "except TimeoutException:\n",
    "    print(\"Loading timeout expired\")"
   ]
  },
  {
   "cell_type": "code",
   "execution_count": 44,
   "metadata": {},
   "outputs": [],
   "source": [
    "driver.quit()"
   ]
  },
  {
   "cell_type": "markdown",
   "metadata": {},
   "source": [
    "### Ohhhh nooooooo, I can't remember how I named my variables...\n",
    "\n",
    "And I don't want to open the file elsewhere to check, because that seems inefficient..."
   ]
  },
  {
   "cell_type": "markdown",
   "metadata": {},
   "source": [
    "We can do something like this:"
   ]
  },
  {
   "cell_type": "code",
   "execution_count": 45,
   "metadata": {},
   "outputs": [
    {
     "name": "stdout",
     "output_type": "stream",
     "text": [
      "['__name__', '__doc__', '__package__', '__loader__', '__spec__', '__builtin__', '__builtins__', '_ih', '_oh', '_dh', 'In', 'Out', 'get_ipython', 'exit', 'quit', '_', '__', '___', '_i', '_ii', '_iii', '_i1', '_exit_code', '_i2', 're', 'os', 'time', 'random', 'requests', 'np', 'pd', 'system', 'floor', 'deepcopy', 'BeautifulSoup', 'webdriver', 'By', 'Keys', 'TimeoutException', 'WebDriverWait', 'EC', '_i3', '_i4', 'driver', '_i5', '_i6', '_6', '_i7', '_7', '_i8', '_8', '_i9', '_9', '_i10', '_10', '_i11', '_11', '_i12', '_12', '_i13', '_13', '_i14', '_14', '_i15', '_15', '_i16', '_16', '_i17', '_17', '_i18', 'listy', '_i19', 'x', '_i20', '_i21', '_21', '_i22', '_22', '_i23', '_23', '_i24', '_24', '_i25', '_25', '_i26', '_26', '_i27', '_i28', '_i29', '_i30', '_30', '_i31', '_31', '_i32', '_i33', '_i34', 'FB_USERNAME', 'PASSWORD', '_i35', 'my_url', '_i36', 'username', 'password', 'submit', '_i37', '_i38', '_i39', 'sequence', '_i40', '_i41', '_i42', '_i43', 'wait', 'page_loaded', '_i44', '_i45']\n"
     ]
    }
   ],
   "source": [
    "print(list(globals().keys()))"
   ]
  },
  {
   "cell_type": "markdown",
   "metadata": {},
   "source": [
    "The previous output is a bit messy... \n",
    "\n",
    "If we are writing a .py file specifically to store \"private\" variables, I recommend using an all caps syntax. The two reasons I like this are:\n",
    "\n",
    "    1) This mimics the syntax of ENVIRONMENT_VARIABLES\n",
    "\n",
    "    2) If we name our private.py file variables with all caps, we can see all our private variable names like this:"
   ]
  },
  {
   "cell_type": "code",
   "execution_count": 46,
   "metadata": {},
   "outputs": [
    {
     "name": "stdout",
     "output_type": "stream",
     "text": [
      "EC\n",
      "FB_USERNAME\n",
      "PASSWORD\n"
     ]
    }
   ],
   "source": [
    "for key in list(globals().keys()):\n",
    "    if key[-1] == key[-1].title() and key[-1].isalpha() == True:\n",
    "        print(key)"
   ]
  },
  {
   "cell_type": "markdown",
   "metadata": {},
   "source": [
    "**NOTE:** The variable \"`EC`\" is present in the list above because of how we imported the `expected_conditions` module up at the top"
   ]
  },
  {
   "cell_type": "code",
   "execution_count": 47,
   "metadata": {},
   "outputs": [],
   "source": [
    "driver = webdriver.Chrome()\n",
    "driver.get('https://www.instagram.com/')\n",
    "\n",
    "time.sleep(3)"
   ]
  },
  {
   "cell_type": "code",
   "execution_count": null,
   "metadata": {},
   "outputs": [],
   "source": [
    "# Find the login click button\n",
    "ig_login_button = driver.find_element_by_xpath('//*[@id=\"react-root\"]/section/main/article/div[2]/div[2]/p/a')\n",
    "\n",
    "# Click the button\n",
    "ig_login_button.click()\n",
    "\n",
    "# Here, I could use a more elegant sleeper, using WebDriverWait and waiting for the page to load,\n",
    "# but I'm gonna be lazy \n",
    "time.sleep(3)"
   ]
  },
  {
   "cell_type": "markdown",
   "metadata": {},
   "source": [
    "#### Wait a second... what is that `xpath` thing?"
   ]
  },
  {
   "cell_type": "markdown",
   "metadata": {},
   "source": [
    "XPath is defined as XML path. It is a syntax or language for finding any element on the web page using XML path expression. XPath is used to find the location of any element on a webpage using HTML DOM structure. The basic format of XPath is explained below with screen shot."
   ]
  },
  {
   "cell_type": "markdown",
   "metadata": {},
   "source": [
    "<img src='https://www.guru99.com/images/3-2016/032816_0758_XPathinSele1.png' >"
   ]
  },
  {
   "cell_type": "markdown",
   "metadata": {},
   "source": [
    "XPath contains the path of the element situated at the web page. Standard syntax for creating XPath is:\n",
    "\n",
    "`Xpath=//tagname[@attribute='value']`\n",
    "\n",
    "- // == Select current node.\n",
    "- Tagname == Tagname of the particular node.\n",
    "- @ == Select attribute.\n",
    "- Attribute == Attribute name of the node.\n",
    "- Value == Value of the attribute."
   ]
  },
  {
   "cell_type": "markdown",
   "metadata": {},
   "source": [
    "<img src='https://media1.giphy.com/media/XBpEStoQ5rftPFA8rh/giphy.gif?cid=790b7611dbcd651cd785fb8382888f7b41666d5c8695755b&rid=giphy.gif'>"
   ]
  },
  {
   "cell_type": "markdown",
   "metadata": {},
   "source": [
    "**We can perform the next operations a few different ways:**\n",
    "\n",
    "Similar to above, we could use the `xpath`\n",
    "\n",
    "Or... based on visual knowledge of inspecting html/css elements, we can see the css selector `input` and we could assume that the only 2 possible inputs are Username and Password\n",
    "\n",
    "---\n",
    "\n",
    "With that knowledge, we can define both variables in one line of code\n"
   ]
  },
  {
   "cell_type": "code",
   "execution_count": null,
   "metadata": {},
   "outputs": [],
   "source": [
    "ig_username, ig_password = driver.find_elements_by_css_selector('input')\n",
    "\n",
    "# ig_username = driver.find_element_by_xpath('//*[@id=\"react-root\"]/section/main/div/article/div/div[1]/div/form/div[2]/div/label/input')\n",
    "# ig_password = driver.find_element_by_xpath('//*[@id=\"react-root\"]/section/main/div/article/div/div[1]/div/form/div[3]/div/label/input')"
   ]
  },
  {
   "cell_type": "code",
   "execution_count": null,
   "metadata": {},
   "outputs": [],
   "source": [
    "ig_username.send_keys(INSTA_USERNAME)\n",
    "ig_password.send_keys(PASSWORD)"
   ]
  },
  {
   "cell_type": "code",
   "execution_count": null,
   "metadata": {},
   "outputs": [],
   "source": [
    "# Here is the complete xpath to the login element:\n",
    "\n",
    "full_login_xpath = '//*[@id=\"react-root\"]/section/main/div/article/div/div[1]/div/form/div[4]/button/div'\n",
    "\n",
    "ig_submit = driver.find_element_by_xpath(full_login_xpath)"
   ]
  },
  {
   "cell_type": "code",
   "execution_count": null,
   "metadata": {},
   "outputs": [],
   "source": [
    "# Sometimes, depending on the HTML layout, we might want to truncate the xpath\n",
    "\n",
    "# ig_submit = driver.find_element_by_xpath('//div[4]/button/div')"
   ]
  },
  {
   "cell_type": "code",
   "execution_count": null,
   "metadata": {},
   "outputs": [],
   "source": [
    "ig_submit.click()"
   ]
  },
  {
   "cell_type": "markdown",
   "metadata": {},
   "source": [
    "# Modal buttons and scrolling:"
   ]
  },
  {
   "cell_type": "code",
   "execution_count": null,
   "metadata": {},
   "outputs": [],
   "source": [
    "# Whoah! What's that modal? \n",
    "try:\n",
    "    modal_button = driver.find_element_by_class_name(\"HoLwm\")\n",
    "    modal_button.click()\n",
    "    \n",
    "except: \n",
    "    pass "
   ]
  },
  {
   "cell_type": "code",
   "execution_count": null,
   "metadata": {},
   "outputs": [],
   "source": [
    "# These websites have modal popups:\n",
    "\n",
    "# driver.get('https://www.nike.com')\n",
    "\n",
    "# Other options:\n",
    "# https://www.carbon38.com\n",
    "# https://www.meundies.com"
   ]
  },
  {
   "cell_type": "markdown",
   "metadata": {},
   "source": [
    "The following cell is an example of how you could write functions to scroll down the page (for dynamic loading) and for loading more content with \"clicks\""
   ]
  },
  {
   "cell_type": "code",
   "execution_count": null,
   "metadata": {},
   "outputs": [],
   "source": [
    "# Example: Scroll down (with a test for a modal)\n",
    "\n",
    "def scroll_down():\n",
    "    for i in range(1, 10):\n",
    "        try:\n",
    "            modal_button = driver.find_element_by_class_name(\"button2\")\n",
    "            webdriver.ActionChains(driver).move_to_element(modal_button).click(modal_button).perform()\n",
    "      ##### modal_button.click() also works \n",
    "            \n",
    "        except:\n",
    "            time.sleep(.5)\n",
    "            pass \n",
    "        \n",
    "        #scroll to the bottom\n",
    "        driver.execute_script(\"window.scrollTo(0, document.body.scrollHeight);\")\n",
    "        time.sleep(1)\n",
    "\n",
    "        \n",
    "# Example: Load more content\n",
    "# Code snippet for context purposes only. We will not run this function:\n",
    "\n",
    "def get_more(): \n",
    "    for i in range(1, 5):\n",
    "        try:\n",
    "            next_b = driver.find_element_by_xpath(\"//*[contains(text(), 'Load next Politics story')]\")\n",
    "            webdriver.ActionChains(driver).move_to_element(next_b).click(next_b).perform()\n",
    "            time.sleep(.5)\n",
    "        except: \n",
    "            print(\"Page #\" + str(i) + \" has failed to load\") "
   ]
  },
  {
   "cell_type": "code",
   "execution_count": null,
   "metadata": {},
   "outputs": [],
   "source": [
    "# Run this cell and watch the page scrollllllll\n",
    "\n",
    "scroll_down()"
   ]
  },
  {
   "cell_type": "code",
   "execution_count": 48,
   "metadata": {},
   "outputs": [],
   "source": [
    "driver.quit()"
   ]
  },
  {
   "cell_type": "markdown",
   "metadata": {},
   "source": [
    "## When to use BeautifulSoup vs.  Selenium?"
   ]
  },
  {
   "cell_type": "markdown",
   "metadata": {},
   "source": [
    "<img src='https://media.giphy.com/media/xTiN0IuPQxRqzxodZm/giphy.gif' width = 400>"
   ]
  },
  {
   "cell_type": "markdown",
   "metadata": {},
   "source": [
    "<img src='https://media2.giphy.com/media/3o7TKAdOad9Y3eSMZG/giphy.gif?cid=790b761168b43f2be748800602251dce3cad91fcb4c972f9&rid=giphy.gif' width = 400>"
   ]
  },
  {
   "cell_type": "markdown",
   "metadata": {},
   "source": [
    "<img src = \"https://media1.giphy.com/media/8VLgtJqaxIlhu/giphy.gif?cid=790b7611df175494e219b99894f7e717b3ea7bfbf806f9c4&rid=giphy.gif\" />"
   ]
  },
  {
   "cell_type": "markdown",
   "metadata": {},
   "source": [
    "**Just kidding!**"
   ]
  },
  {
   "cell_type": "markdown",
   "metadata": {},
   "source": [
    "Everything depends on the website and your data goals.\n",
    "\n",
    "In general:\n",
    "- If the data needs to be exposed interactively, then go for Selenium. \n",
    "- Selenium for more complex JavaScript heavy pages. \n",
    "---\n",
    "- If the data is accessible in the HTML structure (more static pages), soup is a more lightweight tool. \n",
    "- Soup gives you more control about navigating the HTML tree."
   ]
  },
  {
   "cell_type": "code",
   "execution_count": 49,
   "metadata": {},
   "outputs": [],
   "source": [
    "html = requests.get('https://www.skysports.com/premier-league-table')\n",
    "bs = BeautifulSoup(html.content, 'lxml')\n",
    "table = bs.table\n",
    "\n",
    "# table = bs.find(lambda tag: tag.name=='table' ) \n",
    "# rows = table.findAll(lambda tag: tag.name=='tr')\n"
   ]
  },
  {
   "cell_type": "code",
   "execution_count": null,
   "metadata": {},
   "outputs": [],
   "source": []
  },
  {
   "cell_type": "code",
   "execution_count": 51,
   "metadata": {},
   "outputs": [
    {
     "name": "stdout",
     "output_type": "stream",
     "text": [
      "[]\n",
      "['1', '\\nLiverpool\\n', '5', '5', '0', '0', '15', '4', '11', '15', '\\n\\n       \\n']\n",
      "['2', '\\nManchester City\\n', '5', '3', '1', '1', '16', '6', '10', '10', '\\n\\n       \\n']\n",
      "['3', '\\nTottenham Hotspur\\n', '5', '2', '2', '1', '11', '6', '5', '8', '\\n\\n       \\n']\n",
      "['4', '\\nManchester United\\n', '5', '2', '2', '1', '8', '4', '4', '8', '\\n\\n       \\n']\n",
      "['5', '\\nLeicester City\\n', '5', '2', '2', '1', '6', '4', '2', '8', '\\n\\n       \\n']\n",
      "['6', '\\nChelsea\\n', '5', '2', '2', '1', '11', '11', '0', '8', '\\n\\n       \\n']\n",
      "['7', '\\nArsenal\\n', '5', '2', '2', '1', '8', '8', '0', '8', '\\n\\n       \\n']\n",
      "['8', '\\nWest Ham United\\n', '5', '2', '2', '1', '6', '7', '-1', '8', '\\n\\n       \\n']\n",
      "['9', '\\nBournemouth\\n', '5', '2', '1', '2', '8', '9', '-1', '7', '\\n\\n       \\n']\n",
      "['10', '\\nSouthampton\\n', '5', '2', '1', '2', '5', '6', '-1', '7', '\\n\\n       \\n']\n",
      "['11', '\\nEverton\\n', '5', '2', '1', '2', '5', '7', '-2', '7', '\\n\\n       \\n']\n",
      "['12', '\\nCrystal Palace\\n', '5', '2', '1', '2', '3', '6', '-3', '7', '\\n\\n       \\n']\n",
      "['13', '\\nNorwich City\\n', '5', '2', '0', '3', '9', '12', '-3', '6', '\\n\\n       \\n']\n",
      "['14', '\\nBurnley\\n', '5', '1', '2', '2', '6', '7', '-1', '5', '\\n\\n       \\n']\n",
      "['15', '\\nSheffield United\\n', '5', '1', '2', '2', '5', '6', '-1', '5', '\\n\\n       \\n']\n",
      "['16', '\\nBrighton and Hove Albion\\n', '5', '1', '2', '2', '5', '8', '-3', '5', '\\n\\n       \\n']\n",
      "['17', '\\nAston Villa\\n', '5', '1', '1', '3', '4', '6', '-2', '4', '\\n\\n       \\n']\n",
      "['18', '\\nNewcastle United\\n', '5', '1', '1', '3', '4', '8', '-4', '4', '\\n\\n       \\n']\n",
      "['19', '\\nWolverhampton Wanderers\\n', '5', '0', '3', '2', '6', '10', '-4', '3', '\\n\\n       \\n']\n",
      "['20', '\\nWatford\\n', '5', '0', '2', '3', '4', '10', '-6', '2', '\\n\\n       \\n']\n"
     ]
    }
   ],
   "source": [
    "table_rows = table.find_all('tr')\n",
    "\n",
    "for tr in table_rows:\n",
    "    td = tr.find_all('td')\n",
    "    row = [i.text for i in td]\n",
    "    print(row)"
   ]
  },
  {
   "cell_type": "code",
   "execution_count": 52,
   "metadata": {},
   "outputs": [
    {
     "data": {
      "text/html": [
       "<div>\n",
       "<style scoped>\n",
       "    .dataframe tbody tr th:only-of-type {\n",
       "        vertical-align: middle;\n",
       "    }\n",
       "\n",
       "    .dataframe tbody tr th {\n",
       "        vertical-align: top;\n",
       "    }\n",
       "\n",
       "    .dataframe thead th {\n",
       "        text-align: right;\n",
       "    }\n",
       "</style>\n",
       "<table border=\"1\" class=\"dataframe\">\n",
       "  <thead>\n",
       "    <tr style=\"text-align: right;\">\n",
       "      <th></th>\n",
       "      <th>#</th>\n",
       "      <th>Pl</th>\n",
       "      <th>W</th>\n",
       "      <th>D</th>\n",
       "      <th>L</th>\n",
       "      <th>F</th>\n",
       "      <th>A</th>\n",
       "      <th>GD</th>\n",
       "      <th>Pts</th>\n",
       "      <th>Last 6</th>\n",
       "    </tr>\n",
       "    <tr>\n",
       "      <th>Team</th>\n",
       "      <th></th>\n",
       "      <th></th>\n",
       "      <th></th>\n",
       "      <th></th>\n",
       "      <th></th>\n",
       "      <th></th>\n",
       "      <th></th>\n",
       "      <th></th>\n",
       "      <th></th>\n",
       "      <th></th>\n",
       "    </tr>\n",
       "  </thead>\n",
       "  <tbody>\n",
       "    <tr>\n",
       "      <th>Liverpool</th>\n",
       "      <td>1</td>\n",
       "      <td>5</td>\n",
       "      <td>5</td>\n",
       "      <td>0</td>\n",
       "      <td>0</td>\n",
       "      <td>15</td>\n",
       "      <td>4</td>\n",
       "      <td>11</td>\n",
       "      <td>15</td>\n",
       "      <td>NaN</td>\n",
       "    </tr>\n",
       "    <tr>\n",
       "      <th>Manchester City</th>\n",
       "      <td>2</td>\n",
       "      <td>5</td>\n",
       "      <td>3</td>\n",
       "      <td>1</td>\n",
       "      <td>1</td>\n",
       "      <td>16</td>\n",
       "      <td>6</td>\n",
       "      <td>10</td>\n",
       "      <td>10</td>\n",
       "      <td>NaN</td>\n",
       "    </tr>\n",
       "    <tr>\n",
       "      <th>Tottenham Hotspur</th>\n",
       "      <td>3</td>\n",
       "      <td>5</td>\n",
       "      <td>2</td>\n",
       "      <td>2</td>\n",
       "      <td>1</td>\n",
       "      <td>11</td>\n",
       "      <td>6</td>\n",
       "      <td>5</td>\n",
       "      <td>8</td>\n",
       "      <td>NaN</td>\n",
       "    </tr>\n",
       "    <tr>\n",
       "      <th>Manchester United</th>\n",
       "      <td>4</td>\n",
       "      <td>5</td>\n",
       "      <td>2</td>\n",
       "      <td>2</td>\n",
       "      <td>1</td>\n",
       "      <td>8</td>\n",
       "      <td>4</td>\n",
       "      <td>4</td>\n",
       "      <td>8</td>\n",
       "      <td>NaN</td>\n",
       "    </tr>\n",
       "    <tr>\n",
       "      <th>Leicester City</th>\n",
       "      <td>5</td>\n",
       "      <td>5</td>\n",
       "      <td>2</td>\n",
       "      <td>2</td>\n",
       "      <td>1</td>\n",
       "      <td>6</td>\n",
       "      <td>4</td>\n",
       "      <td>2</td>\n",
       "      <td>8</td>\n",
       "      <td>NaN</td>\n",
       "    </tr>\n",
       "    <tr>\n",
       "      <th>Chelsea</th>\n",
       "      <td>6</td>\n",
       "      <td>5</td>\n",
       "      <td>2</td>\n",
       "      <td>2</td>\n",
       "      <td>1</td>\n",
       "      <td>11</td>\n",
       "      <td>11</td>\n",
       "      <td>0</td>\n",
       "      <td>8</td>\n",
       "      <td>NaN</td>\n",
       "    </tr>\n",
       "    <tr>\n",
       "      <th>Arsenal</th>\n",
       "      <td>7</td>\n",
       "      <td>5</td>\n",
       "      <td>2</td>\n",
       "      <td>2</td>\n",
       "      <td>1</td>\n",
       "      <td>8</td>\n",
       "      <td>8</td>\n",
       "      <td>0</td>\n",
       "      <td>8</td>\n",
       "      <td>NaN</td>\n",
       "    </tr>\n",
       "    <tr>\n",
       "      <th>West Ham United</th>\n",
       "      <td>8</td>\n",
       "      <td>5</td>\n",
       "      <td>2</td>\n",
       "      <td>2</td>\n",
       "      <td>1</td>\n",
       "      <td>6</td>\n",
       "      <td>7</td>\n",
       "      <td>-1</td>\n",
       "      <td>8</td>\n",
       "      <td>NaN</td>\n",
       "    </tr>\n",
       "    <tr>\n",
       "      <th>Bournemouth</th>\n",
       "      <td>9</td>\n",
       "      <td>5</td>\n",
       "      <td>2</td>\n",
       "      <td>1</td>\n",
       "      <td>2</td>\n",
       "      <td>8</td>\n",
       "      <td>9</td>\n",
       "      <td>-1</td>\n",
       "      <td>7</td>\n",
       "      <td>NaN</td>\n",
       "    </tr>\n",
       "    <tr>\n",
       "      <th>Southampton</th>\n",
       "      <td>10</td>\n",
       "      <td>5</td>\n",
       "      <td>2</td>\n",
       "      <td>1</td>\n",
       "      <td>2</td>\n",
       "      <td>5</td>\n",
       "      <td>6</td>\n",
       "      <td>-1</td>\n",
       "      <td>7</td>\n",
       "      <td>NaN</td>\n",
       "    </tr>\n",
       "    <tr>\n",
       "      <th>Everton</th>\n",
       "      <td>11</td>\n",
       "      <td>5</td>\n",
       "      <td>2</td>\n",
       "      <td>1</td>\n",
       "      <td>2</td>\n",
       "      <td>5</td>\n",
       "      <td>7</td>\n",
       "      <td>-2</td>\n",
       "      <td>7</td>\n",
       "      <td>NaN</td>\n",
       "    </tr>\n",
       "    <tr>\n",
       "      <th>Crystal Palace</th>\n",
       "      <td>12</td>\n",
       "      <td>5</td>\n",
       "      <td>2</td>\n",
       "      <td>1</td>\n",
       "      <td>2</td>\n",
       "      <td>3</td>\n",
       "      <td>6</td>\n",
       "      <td>-3</td>\n",
       "      <td>7</td>\n",
       "      <td>NaN</td>\n",
       "    </tr>\n",
       "    <tr>\n",
       "      <th>Norwich City</th>\n",
       "      <td>13</td>\n",
       "      <td>5</td>\n",
       "      <td>2</td>\n",
       "      <td>0</td>\n",
       "      <td>3</td>\n",
       "      <td>9</td>\n",
       "      <td>12</td>\n",
       "      <td>-3</td>\n",
       "      <td>6</td>\n",
       "      <td>NaN</td>\n",
       "    </tr>\n",
       "    <tr>\n",
       "      <th>Burnley</th>\n",
       "      <td>14</td>\n",
       "      <td>5</td>\n",
       "      <td>1</td>\n",
       "      <td>2</td>\n",
       "      <td>2</td>\n",
       "      <td>6</td>\n",
       "      <td>7</td>\n",
       "      <td>-1</td>\n",
       "      <td>5</td>\n",
       "      <td>NaN</td>\n",
       "    </tr>\n",
       "    <tr>\n",
       "      <th>Sheffield United</th>\n",
       "      <td>15</td>\n",
       "      <td>5</td>\n",
       "      <td>1</td>\n",
       "      <td>2</td>\n",
       "      <td>2</td>\n",
       "      <td>5</td>\n",
       "      <td>6</td>\n",
       "      <td>-1</td>\n",
       "      <td>5</td>\n",
       "      <td>NaN</td>\n",
       "    </tr>\n",
       "    <tr>\n",
       "      <th>Brighton and Hove Albion</th>\n",
       "      <td>16</td>\n",
       "      <td>5</td>\n",
       "      <td>1</td>\n",
       "      <td>2</td>\n",
       "      <td>2</td>\n",
       "      <td>5</td>\n",
       "      <td>8</td>\n",
       "      <td>-3</td>\n",
       "      <td>5</td>\n",
       "      <td>NaN</td>\n",
       "    </tr>\n",
       "    <tr>\n",
       "      <th>Aston Villa</th>\n",
       "      <td>17</td>\n",
       "      <td>5</td>\n",
       "      <td>1</td>\n",
       "      <td>1</td>\n",
       "      <td>3</td>\n",
       "      <td>4</td>\n",
       "      <td>6</td>\n",
       "      <td>-2</td>\n",
       "      <td>4</td>\n",
       "      <td>NaN</td>\n",
       "    </tr>\n",
       "    <tr>\n",
       "      <th>Newcastle United</th>\n",
       "      <td>18</td>\n",
       "      <td>5</td>\n",
       "      <td>1</td>\n",
       "      <td>1</td>\n",
       "      <td>3</td>\n",
       "      <td>4</td>\n",
       "      <td>8</td>\n",
       "      <td>-4</td>\n",
       "      <td>4</td>\n",
       "      <td>NaN</td>\n",
       "    </tr>\n",
       "    <tr>\n",
       "      <th>Wolverhampton Wanderers</th>\n",
       "      <td>19</td>\n",
       "      <td>5</td>\n",
       "      <td>0</td>\n",
       "      <td>3</td>\n",
       "      <td>2</td>\n",
       "      <td>6</td>\n",
       "      <td>10</td>\n",
       "      <td>-4</td>\n",
       "      <td>3</td>\n",
       "      <td>NaN</td>\n",
       "    </tr>\n",
       "    <tr>\n",
       "      <th>Watford</th>\n",
       "      <td>20</td>\n",
       "      <td>5</td>\n",
       "      <td>0</td>\n",
       "      <td>2</td>\n",
       "      <td>3</td>\n",
       "      <td>4</td>\n",
       "      <td>10</td>\n",
       "      <td>-6</td>\n",
       "      <td>2</td>\n",
       "      <td>NaN</td>\n",
       "    </tr>\n",
       "  </tbody>\n",
       "</table>\n",
       "</div>"
      ],
      "text/plain": [
       "                           #  Pl  W  D  L   F   A  GD  Pts  Last 6\n",
       "Team                                                              \n",
       "Liverpool                  1   5  5  0  0  15   4  11   15     NaN\n",
       "Manchester City            2   5  3  1  1  16   6  10   10     NaN\n",
       "Tottenham Hotspur          3   5  2  2  1  11   6   5    8     NaN\n",
       "Manchester United          4   5  2  2  1   8   4   4    8     NaN\n",
       "Leicester City             5   5  2  2  1   6   4   2    8     NaN\n",
       "Chelsea                    6   5  2  2  1  11  11   0    8     NaN\n",
       "Arsenal                    7   5  2  2  1   8   8   0    8     NaN\n",
       "West Ham United            8   5  2  2  1   6   7  -1    8     NaN\n",
       "Bournemouth                9   5  2  1  2   8   9  -1    7     NaN\n",
       "Southampton               10   5  2  1  2   5   6  -1    7     NaN\n",
       "Everton                   11   5  2  1  2   5   7  -2    7     NaN\n",
       "Crystal Palace            12   5  2  1  2   3   6  -3    7     NaN\n",
       "Norwich City              13   5  2  0  3   9  12  -3    6     NaN\n",
       "Burnley                   14   5  1  2  2   6   7  -1    5     NaN\n",
       "Sheffield United          15   5  1  2  2   5   6  -1    5     NaN\n",
       "Brighton and Hove Albion  16   5  1  2  2   5   8  -3    5     NaN\n",
       "Aston Villa               17   5  1  1  3   4   6  -2    4     NaN\n",
       "Newcastle United          18   5  1  1  3   4   8  -4    4     NaN\n",
       "Wolverhampton Wanderers   19   5  0  3  2   6  10  -4    3     NaN\n",
       "Watford                   20   5  0  2  3   4  10  -6    2     NaN"
      ]
     },
     "execution_count": 52,
     "metadata": {},
     "output_type": "execute_result"
    }
   ],
   "source": [
    "html = requests.get('https://www.skysports.com/premier-league-table')\n",
    "bs = BeautifulSoup(html.content, 'lxml')\n",
    "table = bs.table\n",
    "\n",
    "#If you know there is more than one table, you can edit the code to include the proper index:\n",
    "# table = bs.find_all('table')[0] \n",
    "\n",
    "df = pd.read_html(str(table), index_col='Team')\n",
    "df = df[0].dropna(axis=0, thresh=4)\n",
    "df"
   ]
  },
  {
   "cell_type": "markdown",
   "metadata": {},
   "source": [
    "#### Adjusting the header and index:\n",
    "\n",
    "- Caveat: this uses pandas, not Selenium or Soup"
   ]
  },
  {
   "cell_type": "markdown",
   "metadata": {},
   "source": [
    "If there is more than one table, pandas reads the html as a list of tables:"
   ]
  },
  {
   "cell_type": "code",
   "execution_count": 54,
   "metadata": {},
   "outputs": [
    {
     "ename": "URLError",
     "evalue": "<urlopen error [SSL: CERTIFICATE_VERIFY_FAILED] certificate verify failed: unable to get local issuer certificate (_ssl.c:1076)>",
     "output_type": "error",
     "traceback": [
      "\u001b[0;31m---------------------------------------------------------------------------\u001b[0m",
      "\u001b[0;31mSSLCertVerificationError\u001b[0m                  Traceback (most recent call last)",
      "\u001b[0;32m/anaconda3/lib/python3.7/urllib/request.py\u001b[0m in \u001b[0;36mdo_open\u001b[0;34m(self, http_class, req, **http_conn_args)\u001b[0m\n\u001b[1;32m   1316\u001b[0m                 h.request(req.get_method(), req.selector, req.data, headers,\n\u001b[0;32m-> 1317\u001b[0;31m                           encode_chunked=req.has_header('Transfer-encoding'))\n\u001b[0m\u001b[1;32m   1318\u001b[0m             \u001b[0;32mexcept\u001b[0m \u001b[0mOSError\u001b[0m \u001b[0;32mas\u001b[0m \u001b[0merr\u001b[0m\u001b[0;34m:\u001b[0m \u001b[0;31m# timeout error\u001b[0m\u001b[0;34m\u001b[0m\u001b[0;34m\u001b[0m\u001b[0m\n",
      "\u001b[0;32m/anaconda3/lib/python3.7/http/client.py\u001b[0m in \u001b[0;36mrequest\u001b[0;34m(self, method, url, body, headers, encode_chunked)\u001b[0m\n\u001b[1;32m   1243\u001b[0m         \u001b[0;34m\"\"\"Send a complete request to the server.\"\"\"\u001b[0m\u001b[0;34m\u001b[0m\u001b[0;34m\u001b[0m\u001b[0m\n\u001b[0;32m-> 1244\u001b[0;31m         \u001b[0mself\u001b[0m\u001b[0;34m.\u001b[0m\u001b[0m_send_request\u001b[0m\u001b[0;34m(\u001b[0m\u001b[0mmethod\u001b[0m\u001b[0;34m,\u001b[0m \u001b[0murl\u001b[0m\u001b[0;34m,\u001b[0m \u001b[0mbody\u001b[0m\u001b[0;34m,\u001b[0m \u001b[0mheaders\u001b[0m\u001b[0;34m,\u001b[0m \u001b[0mencode_chunked\u001b[0m\u001b[0;34m)\u001b[0m\u001b[0;34m\u001b[0m\u001b[0;34m\u001b[0m\u001b[0m\n\u001b[0m\u001b[1;32m   1245\u001b[0m \u001b[0;34m\u001b[0m\u001b[0m\n",
      "\u001b[0;32m/anaconda3/lib/python3.7/http/client.py\u001b[0m in \u001b[0;36m_send_request\u001b[0;34m(self, method, url, body, headers, encode_chunked)\u001b[0m\n\u001b[1;32m   1289\u001b[0m             \u001b[0mbody\u001b[0m \u001b[0;34m=\u001b[0m \u001b[0m_encode\u001b[0m\u001b[0;34m(\u001b[0m\u001b[0mbody\u001b[0m\u001b[0;34m,\u001b[0m \u001b[0;34m'body'\u001b[0m\u001b[0;34m)\u001b[0m\u001b[0;34m\u001b[0m\u001b[0;34m\u001b[0m\u001b[0m\n\u001b[0;32m-> 1290\u001b[0;31m         \u001b[0mself\u001b[0m\u001b[0;34m.\u001b[0m\u001b[0mendheaders\u001b[0m\u001b[0;34m(\u001b[0m\u001b[0mbody\u001b[0m\u001b[0;34m,\u001b[0m \u001b[0mencode_chunked\u001b[0m\u001b[0;34m=\u001b[0m\u001b[0mencode_chunked\u001b[0m\u001b[0;34m)\u001b[0m\u001b[0;34m\u001b[0m\u001b[0;34m\u001b[0m\u001b[0m\n\u001b[0m\u001b[1;32m   1291\u001b[0m \u001b[0;34m\u001b[0m\u001b[0m\n",
      "\u001b[0;32m/anaconda3/lib/python3.7/http/client.py\u001b[0m in \u001b[0;36mendheaders\u001b[0;34m(self, message_body, encode_chunked)\u001b[0m\n\u001b[1;32m   1238\u001b[0m             \u001b[0;32mraise\u001b[0m \u001b[0mCannotSendHeader\u001b[0m\u001b[0;34m(\u001b[0m\u001b[0;34m)\u001b[0m\u001b[0;34m\u001b[0m\u001b[0;34m\u001b[0m\u001b[0m\n\u001b[0;32m-> 1239\u001b[0;31m         \u001b[0mself\u001b[0m\u001b[0;34m.\u001b[0m\u001b[0m_send_output\u001b[0m\u001b[0;34m(\u001b[0m\u001b[0mmessage_body\u001b[0m\u001b[0;34m,\u001b[0m \u001b[0mencode_chunked\u001b[0m\u001b[0;34m=\u001b[0m\u001b[0mencode_chunked\u001b[0m\u001b[0;34m)\u001b[0m\u001b[0;34m\u001b[0m\u001b[0;34m\u001b[0m\u001b[0m\n\u001b[0m\u001b[1;32m   1240\u001b[0m \u001b[0;34m\u001b[0m\u001b[0m\n",
      "\u001b[0;32m/anaconda3/lib/python3.7/http/client.py\u001b[0m in \u001b[0;36m_send_output\u001b[0;34m(self, message_body, encode_chunked)\u001b[0m\n\u001b[1;32m   1025\u001b[0m         \u001b[0;32mdel\u001b[0m \u001b[0mself\u001b[0m\u001b[0;34m.\u001b[0m\u001b[0m_buffer\u001b[0m\u001b[0;34m[\u001b[0m\u001b[0;34m:\u001b[0m\u001b[0;34m]\u001b[0m\u001b[0;34m\u001b[0m\u001b[0;34m\u001b[0m\u001b[0m\n\u001b[0;32m-> 1026\u001b[0;31m         \u001b[0mself\u001b[0m\u001b[0;34m.\u001b[0m\u001b[0msend\u001b[0m\u001b[0;34m(\u001b[0m\u001b[0mmsg\u001b[0m\u001b[0;34m)\u001b[0m\u001b[0;34m\u001b[0m\u001b[0;34m\u001b[0m\u001b[0m\n\u001b[0m\u001b[1;32m   1027\u001b[0m \u001b[0;34m\u001b[0m\u001b[0m\n",
      "\u001b[0;32m/anaconda3/lib/python3.7/http/client.py\u001b[0m in \u001b[0;36msend\u001b[0;34m(self, data)\u001b[0m\n\u001b[1;32m    965\u001b[0m             \u001b[0;32mif\u001b[0m \u001b[0mself\u001b[0m\u001b[0;34m.\u001b[0m\u001b[0mauto_open\u001b[0m\u001b[0;34m:\u001b[0m\u001b[0;34m\u001b[0m\u001b[0;34m\u001b[0m\u001b[0m\n\u001b[0;32m--> 966\u001b[0;31m                 \u001b[0mself\u001b[0m\u001b[0;34m.\u001b[0m\u001b[0mconnect\u001b[0m\u001b[0;34m(\u001b[0m\u001b[0;34m)\u001b[0m\u001b[0;34m\u001b[0m\u001b[0;34m\u001b[0m\u001b[0m\n\u001b[0m\u001b[1;32m    967\u001b[0m             \u001b[0;32melse\u001b[0m\u001b[0;34m:\u001b[0m\u001b[0;34m\u001b[0m\u001b[0;34m\u001b[0m\u001b[0m\n",
      "\u001b[0;32m/anaconda3/lib/python3.7/http/client.py\u001b[0m in \u001b[0;36mconnect\u001b[0;34m(self)\u001b[0m\n\u001b[1;32m   1413\u001b[0m             self.sock = self._context.wrap_socket(self.sock,\n\u001b[0;32m-> 1414\u001b[0;31m                                                   server_hostname=server_hostname)\n\u001b[0m\u001b[1;32m   1415\u001b[0m \u001b[0;34m\u001b[0m\u001b[0m\n",
      "\u001b[0;32m/anaconda3/lib/python3.7/ssl.py\u001b[0m in \u001b[0;36mwrap_socket\u001b[0;34m(self, sock, server_side, do_handshake_on_connect, suppress_ragged_eofs, server_hostname, session)\u001b[0m\n\u001b[1;32m    422\u001b[0m             \u001b[0mcontext\u001b[0m\u001b[0;34m=\u001b[0m\u001b[0mself\u001b[0m\u001b[0;34m,\u001b[0m\u001b[0;34m\u001b[0m\u001b[0;34m\u001b[0m\u001b[0m\n\u001b[0;32m--> 423\u001b[0;31m             \u001b[0msession\u001b[0m\u001b[0;34m=\u001b[0m\u001b[0msession\u001b[0m\u001b[0;34m\u001b[0m\u001b[0;34m\u001b[0m\u001b[0m\n\u001b[0m\u001b[1;32m    424\u001b[0m         )\n",
      "\u001b[0;32m/anaconda3/lib/python3.7/ssl.py\u001b[0m in \u001b[0;36m_create\u001b[0;34m(cls, sock, server_side, do_handshake_on_connect, suppress_ragged_eofs, server_hostname, context, session)\u001b[0m\n\u001b[1;32m    869\u001b[0m                         \u001b[0;32mraise\u001b[0m \u001b[0mValueError\u001b[0m\u001b[0;34m(\u001b[0m\u001b[0;34m\"do_handshake_on_connect should not be specified for non-blocking sockets\"\u001b[0m\u001b[0;34m)\u001b[0m\u001b[0;34m\u001b[0m\u001b[0;34m\u001b[0m\u001b[0m\n\u001b[0;32m--> 870\u001b[0;31m                     \u001b[0mself\u001b[0m\u001b[0;34m.\u001b[0m\u001b[0mdo_handshake\u001b[0m\u001b[0;34m(\u001b[0m\u001b[0;34m)\u001b[0m\u001b[0;34m\u001b[0m\u001b[0;34m\u001b[0m\u001b[0m\n\u001b[0m\u001b[1;32m    871\u001b[0m             \u001b[0;32mexcept\u001b[0m \u001b[0;34m(\u001b[0m\u001b[0mOSError\u001b[0m\u001b[0;34m,\u001b[0m \u001b[0mValueError\u001b[0m\u001b[0;34m)\u001b[0m\u001b[0;34m:\u001b[0m\u001b[0;34m\u001b[0m\u001b[0;34m\u001b[0m\u001b[0m\n",
      "\u001b[0;32m/anaconda3/lib/python3.7/ssl.py\u001b[0m in \u001b[0;36mdo_handshake\u001b[0;34m(self, block)\u001b[0m\n\u001b[1;32m   1138\u001b[0m                 \u001b[0mself\u001b[0m\u001b[0;34m.\u001b[0m\u001b[0msettimeout\u001b[0m\u001b[0;34m(\u001b[0m\u001b[0;32mNone\u001b[0m\u001b[0;34m)\u001b[0m\u001b[0;34m\u001b[0m\u001b[0;34m\u001b[0m\u001b[0m\n\u001b[0;32m-> 1139\u001b[0;31m             \u001b[0mself\u001b[0m\u001b[0;34m.\u001b[0m\u001b[0m_sslobj\u001b[0m\u001b[0;34m.\u001b[0m\u001b[0mdo_handshake\u001b[0m\u001b[0;34m(\u001b[0m\u001b[0;34m)\u001b[0m\u001b[0;34m\u001b[0m\u001b[0;34m\u001b[0m\u001b[0m\n\u001b[0m\u001b[1;32m   1140\u001b[0m         \u001b[0;32mfinally\u001b[0m\u001b[0;34m:\u001b[0m\u001b[0;34m\u001b[0m\u001b[0;34m\u001b[0m\u001b[0m\n",
      "\u001b[0;31mSSLCertVerificationError\u001b[0m: [SSL: CERTIFICATE_VERIFY_FAILED] certificate verify failed: unable to get local issuer certificate (_ssl.c:1076)",
      "\nDuring handling of the above exception, another exception occurred:\n",
      "\u001b[0;31mURLError\u001b[0m                                  Traceback (most recent call last)",
      "\u001b[0;32m<ipython-input-54-eebe29cec3ba>\u001b[0m in \u001b[0;36m<module>\u001b[0;34m\u001b[0m\n\u001b[0;32m----> 1\u001b[0;31m \u001b[0mdf2\u001b[0m \u001b[0;34m=\u001b[0m \u001b[0mpd\u001b[0m\u001b[0;34m.\u001b[0m\u001b[0mread_html\u001b[0m\u001b[0;34m(\u001b[0m\u001b[0;34m'https://www.sportsmole.co.uk/football/premier-league/2018-19/'\u001b[0m\u001b[0;34m)\u001b[0m\u001b[0;34m\u001b[0m\u001b[0;34m\u001b[0m\u001b[0m\n\u001b[0m\u001b[1;32m      2\u001b[0m \u001b[0;34m\u001b[0m\u001b[0m\n\u001b[1;32m      3\u001b[0m \u001b[0mdf2\u001b[0m\u001b[0;34m\u001b[0m\u001b[0;34m\u001b[0m\u001b[0m\n",
      "\u001b[0;32m/anaconda3/lib/python3.7/site-packages/pandas/io/html.py\u001b[0m in \u001b[0;36mread_html\u001b[0;34m(io, match, flavor, header, index_col, skiprows, attrs, parse_dates, tupleize_cols, thousands, encoding, decimal, converters, na_values, keep_default_na, displayed_only)\u001b[0m\n\u001b[1;32m   1092\u001b[0m                   \u001b[0mdecimal\u001b[0m\u001b[0;34m=\u001b[0m\u001b[0mdecimal\u001b[0m\u001b[0;34m,\u001b[0m \u001b[0mconverters\u001b[0m\u001b[0;34m=\u001b[0m\u001b[0mconverters\u001b[0m\u001b[0;34m,\u001b[0m \u001b[0mna_values\u001b[0m\u001b[0;34m=\u001b[0m\u001b[0mna_values\u001b[0m\u001b[0;34m,\u001b[0m\u001b[0;34m\u001b[0m\u001b[0;34m\u001b[0m\u001b[0m\n\u001b[1;32m   1093\u001b[0m                   \u001b[0mkeep_default_na\u001b[0m\u001b[0;34m=\u001b[0m\u001b[0mkeep_default_na\u001b[0m\u001b[0;34m,\u001b[0m\u001b[0;34m\u001b[0m\u001b[0;34m\u001b[0m\u001b[0m\n\u001b[0;32m-> 1094\u001b[0;31m                   displayed_only=displayed_only)\n\u001b[0m",
      "\u001b[0;32m/anaconda3/lib/python3.7/site-packages/pandas/io/html.py\u001b[0m in \u001b[0;36m_parse\u001b[0;34m(flavor, io, match, attrs, encoding, displayed_only, **kwargs)\u001b[0m\n\u001b[1;32m    914\u001b[0m             \u001b[0;32mbreak\u001b[0m\u001b[0;34m\u001b[0m\u001b[0;34m\u001b[0m\u001b[0m\n\u001b[1;32m    915\u001b[0m     \u001b[0;32melse\u001b[0m\u001b[0;34m:\u001b[0m\u001b[0;34m\u001b[0m\u001b[0;34m\u001b[0m\u001b[0m\n\u001b[0;32m--> 916\u001b[0;31m         \u001b[0mraise_with_traceback\u001b[0m\u001b[0;34m(\u001b[0m\u001b[0mretained\u001b[0m\u001b[0;34m)\u001b[0m\u001b[0;34m\u001b[0m\u001b[0;34m\u001b[0m\u001b[0m\n\u001b[0m\u001b[1;32m    917\u001b[0m \u001b[0;34m\u001b[0m\u001b[0m\n\u001b[1;32m    918\u001b[0m     \u001b[0mret\u001b[0m \u001b[0;34m=\u001b[0m \u001b[0;34m[\u001b[0m\u001b[0;34m]\u001b[0m\u001b[0;34m\u001b[0m\u001b[0;34m\u001b[0m\u001b[0m\n",
      "\u001b[0;32m/anaconda3/lib/python3.7/site-packages/pandas/compat/__init__.py\u001b[0m in \u001b[0;36mraise_with_traceback\u001b[0;34m(exc, traceback)\u001b[0m\n\u001b[1;32m    418\u001b[0m         \u001b[0;32mif\u001b[0m \u001b[0mtraceback\u001b[0m \u001b[0;34m==\u001b[0m \u001b[0mEllipsis\u001b[0m\u001b[0;34m:\u001b[0m\u001b[0;34m\u001b[0m\u001b[0;34m\u001b[0m\u001b[0m\n\u001b[1;32m    419\u001b[0m             \u001b[0m_\u001b[0m\u001b[0;34m,\u001b[0m \u001b[0m_\u001b[0m\u001b[0;34m,\u001b[0m \u001b[0mtraceback\u001b[0m \u001b[0;34m=\u001b[0m \u001b[0msys\u001b[0m\u001b[0;34m.\u001b[0m\u001b[0mexc_info\u001b[0m\u001b[0;34m(\u001b[0m\u001b[0;34m)\u001b[0m\u001b[0;34m\u001b[0m\u001b[0;34m\u001b[0m\u001b[0m\n\u001b[0;32m--> 420\u001b[0;31m         \u001b[0;32mraise\u001b[0m \u001b[0mexc\u001b[0m\u001b[0;34m.\u001b[0m\u001b[0mwith_traceback\u001b[0m\u001b[0;34m(\u001b[0m\u001b[0mtraceback\u001b[0m\u001b[0;34m)\u001b[0m\u001b[0;34m\u001b[0m\u001b[0;34m\u001b[0m\u001b[0m\n\u001b[0m\u001b[1;32m    421\u001b[0m \u001b[0;32melse\u001b[0m\u001b[0;34m:\u001b[0m\u001b[0;34m\u001b[0m\u001b[0;34m\u001b[0m\u001b[0m\n\u001b[1;32m    422\u001b[0m     \u001b[0;31m# this version of raise is a syntax error in Python 3\u001b[0m\u001b[0;34m\u001b[0m\u001b[0;34m\u001b[0m\u001b[0;34m\u001b[0m\u001b[0m\n",
      "\u001b[0;31mURLError\u001b[0m: <urlopen error [SSL: CERTIFICATE_VERIFY_FAILED] certificate verify failed: unable to get local issuer certificate (_ssl.c:1076)>"
     ]
    }
   ],
   "source": [
    "df2 = pd.read_html('https://www.sportsmole.co.uk/football/premier-league/2018-19/')\n",
    "\n",
    "df2"
   ]
  },
  {
   "cell_type": "code",
   "execution_count": 55,
   "metadata": {},
   "outputs": [
    {
     "ename": "NameError",
     "evalue": "name 'df2' is not defined",
     "output_type": "error",
     "traceback": [
      "\u001b[0;31m---------------------------------------------------------------------------\u001b[0m",
      "\u001b[0;31mNameError\u001b[0m                                 Traceback (most recent call last)",
      "\u001b[0;32m<ipython-input-55-de0d17c0c235>\u001b[0m in \u001b[0;36m<module>\u001b[0;34m\u001b[0m\n\u001b[1;32m      1\u001b[0m \u001b[0;31m# Let's check out one of our tables:\u001b[0m\u001b[0;34m\u001b[0m\u001b[0;34m\u001b[0m\u001b[0;34m\u001b[0m\u001b[0m\n\u001b[1;32m      2\u001b[0m \u001b[0;34m\u001b[0m\u001b[0m\n\u001b[0;32m----> 3\u001b[0;31m \u001b[0mdf2\u001b[0m\u001b[0;34m[\u001b[0m\u001b[0;36m0\u001b[0m\u001b[0;34m]\u001b[0m\u001b[0;34m\u001b[0m\u001b[0;34m\u001b[0m\u001b[0m\n\u001b[0m",
      "\u001b[0;31mNameError\u001b[0m: name 'df2' is not defined"
     ]
    }
   ],
   "source": [
    "# Let's check out one of our tables:\n",
    "\n",
    "df2[0]"
   ]
  },
  {
   "cell_type": "markdown",
   "metadata": {},
   "source": [
    "As we can see above, the table's formatting is slightly off...\n",
    "\n",
    "So we can make adjustments like so:"
   ]
  },
  {
   "cell_type": "code",
   "execution_count": 56,
   "metadata": {},
   "outputs": [
    {
     "ename": "URLError",
     "evalue": "<urlopen error [SSL: CERTIFICATE_VERIFY_FAILED] certificate verify failed: unable to get local issuer certificate (_ssl.c:1076)>",
     "output_type": "error",
     "traceback": [
      "\u001b[0;31m---------------------------------------------------------------------------\u001b[0m",
      "\u001b[0;31mSSLCertVerificationError\u001b[0m                  Traceback (most recent call last)",
      "\u001b[0;32m/anaconda3/lib/python3.7/urllib/request.py\u001b[0m in \u001b[0;36mdo_open\u001b[0;34m(self, http_class, req, **http_conn_args)\u001b[0m\n\u001b[1;32m   1316\u001b[0m                 h.request(req.get_method(), req.selector, req.data, headers,\n\u001b[0;32m-> 1317\u001b[0;31m                           encode_chunked=req.has_header('Transfer-encoding'))\n\u001b[0m\u001b[1;32m   1318\u001b[0m             \u001b[0;32mexcept\u001b[0m \u001b[0mOSError\u001b[0m \u001b[0;32mas\u001b[0m \u001b[0merr\u001b[0m\u001b[0;34m:\u001b[0m \u001b[0;31m# timeout error\u001b[0m\u001b[0;34m\u001b[0m\u001b[0;34m\u001b[0m\u001b[0m\n",
      "\u001b[0;32m/anaconda3/lib/python3.7/http/client.py\u001b[0m in \u001b[0;36mrequest\u001b[0;34m(self, method, url, body, headers, encode_chunked)\u001b[0m\n\u001b[1;32m   1243\u001b[0m         \u001b[0;34m\"\"\"Send a complete request to the server.\"\"\"\u001b[0m\u001b[0;34m\u001b[0m\u001b[0;34m\u001b[0m\u001b[0m\n\u001b[0;32m-> 1244\u001b[0;31m         \u001b[0mself\u001b[0m\u001b[0;34m.\u001b[0m\u001b[0m_send_request\u001b[0m\u001b[0;34m(\u001b[0m\u001b[0mmethod\u001b[0m\u001b[0;34m,\u001b[0m \u001b[0murl\u001b[0m\u001b[0;34m,\u001b[0m \u001b[0mbody\u001b[0m\u001b[0;34m,\u001b[0m \u001b[0mheaders\u001b[0m\u001b[0;34m,\u001b[0m \u001b[0mencode_chunked\u001b[0m\u001b[0;34m)\u001b[0m\u001b[0;34m\u001b[0m\u001b[0;34m\u001b[0m\u001b[0m\n\u001b[0m\u001b[1;32m   1245\u001b[0m \u001b[0;34m\u001b[0m\u001b[0m\n",
      "\u001b[0;32m/anaconda3/lib/python3.7/http/client.py\u001b[0m in \u001b[0;36m_send_request\u001b[0;34m(self, method, url, body, headers, encode_chunked)\u001b[0m\n\u001b[1;32m   1289\u001b[0m             \u001b[0mbody\u001b[0m \u001b[0;34m=\u001b[0m \u001b[0m_encode\u001b[0m\u001b[0;34m(\u001b[0m\u001b[0mbody\u001b[0m\u001b[0;34m,\u001b[0m \u001b[0;34m'body'\u001b[0m\u001b[0;34m)\u001b[0m\u001b[0;34m\u001b[0m\u001b[0;34m\u001b[0m\u001b[0m\n\u001b[0;32m-> 1290\u001b[0;31m         \u001b[0mself\u001b[0m\u001b[0;34m.\u001b[0m\u001b[0mendheaders\u001b[0m\u001b[0;34m(\u001b[0m\u001b[0mbody\u001b[0m\u001b[0;34m,\u001b[0m \u001b[0mencode_chunked\u001b[0m\u001b[0;34m=\u001b[0m\u001b[0mencode_chunked\u001b[0m\u001b[0;34m)\u001b[0m\u001b[0;34m\u001b[0m\u001b[0;34m\u001b[0m\u001b[0m\n\u001b[0m\u001b[1;32m   1291\u001b[0m \u001b[0;34m\u001b[0m\u001b[0m\n",
      "\u001b[0;32m/anaconda3/lib/python3.7/http/client.py\u001b[0m in \u001b[0;36mendheaders\u001b[0;34m(self, message_body, encode_chunked)\u001b[0m\n\u001b[1;32m   1238\u001b[0m             \u001b[0;32mraise\u001b[0m \u001b[0mCannotSendHeader\u001b[0m\u001b[0;34m(\u001b[0m\u001b[0;34m)\u001b[0m\u001b[0;34m\u001b[0m\u001b[0;34m\u001b[0m\u001b[0m\n\u001b[0;32m-> 1239\u001b[0;31m         \u001b[0mself\u001b[0m\u001b[0;34m.\u001b[0m\u001b[0m_send_output\u001b[0m\u001b[0;34m(\u001b[0m\u001b[0mmessage_body\u001b[0m\u001b[0;34m,\u001b[0m \u001b[0mencode_chunked\u001b[0m\u001b[0;34m=\u001b[0m\u001b[0mencode_chunked\u001b[0m\u001b[0;34m)\u001b[0m\u001b[0;34m\u001b[0m\u001b[0;34m\u001b[0m\u001b[0m\n\u001b[0m\u001b[1;32m   1240\u001b[0m \u001b[0;34m\u001b[0m\u001b[0m\n",
      "\u001b[0;32m/anaconda3/lib/python3.7/http/client.py\u001b[0m in \u001b[0;36m_send_output\u001b[0;34m(self, message_body, encode_chunked)\u001b[0m\n\u001b[1;32m   1025\u001b[0m         \u001b[0;32mdel\u001b[0m \u001b[0mself\u001b[0m\u001b[0;34m.\u001b[0m\u001b[0m_buffer\u001b[0m\u001b[0;34m[\u001b[0m\u001b[0;34m:\u001b[0m\u001b[0;34m]\u001b[0m\u001b[0;34m\u001b[0m\u001b[0;34m\u001b[0m\u001b[0m\n\u001b[0;32m-> 1026\u001b[0;31m         \u001b[0mself\u001b[0m\u001b[0;34m.\u001b[0m\u001b[0msend\u001b[0m\u001b[0;34m(\u001b[0m\u001b[0mmsg\u001b[0m\u001b[0;34m)\u001b[0m\u001b[0;34m\u001b[0m\u001b[0;34m\u001b[0m\u001b[0m\n\u001b[0m\u001b[1;32m   1027\u001b[0m \u001b[0;34m\u001b[0m\u001b[0m\n",
      "\u001b[0;32m/anaconda3/lib/python3.7/http/client.py\u001b[0m in \u001b[0;36msend\u001b[0;34m(self, data)\u001b[0m\n\u001b[1;32m    965\u001b[0m             \u001b[0;32mif\u001b[0m \u001b[0mself\u001b[0m\u001b[0;34m.\u001b[0m\u001b[0mauto_open\u001b[0m\u001b[0;34m:\u001b[0m\u001b[0;34m\u001b[0m\u001b[0;34m\u001b[0m\u001b[0m\n\u001b[0;32m--> 966\u001b[0;31m                 \u001b[0mself\u001b[0m\u001b[0;34m.\u001b[0m\u001b[0mconnect\u001b[0m\u001b[0;34m(\u001b[0m\u001b[0;34m)\u001b[0m\u001b[0;34m\u001b[0m\u001b[0;34m\u001b[0m\u001b[0m\n\u001b[0m\u001b[1;32m    967\u001b[0m             \u001b[0;32melse\u001b[0m\u001b[0;34m:\u001b[0m\u001b[0;34m\u001b[0m\u001b[0;34m\u001b[0m\u001b[0m\n",
      "\u001b[0;32m/anaconda3/lib/python3.7/http/client.py\u001b[0m in \u001b[0;36mconnect\u001b[0;34m(self)\u001b[0m\n\u001b[1;32m   1413\u001b[0m             self.sock = self._context.wrap_socket(self.sock,\n\u001b[0;32m-> 1414\u001b[0;31m                                                   server_hostname=server_hostname)\n\u001b[0m\u001b[1;32m   1415\u001b[0m \u001b[0;34m\u001b[0m\u001b[0m\n",
      "\u001b[0;32m/anaconda3/lib/python3.7/ssl.py\u001b[0m in \u001b[0;36mwrap_socket\u001b[0;34m(self, sock, server_side, do_handshake_on_connect, suppress_ragged_eofs, server_hostname, session)\u001b[0m\n\u001b[1;32m    422\u001b[0m             \u001b[0mcontext\u001b[0m\u001b[0;34m=\u001b[0m\u001b[0mself\u001b[0m\u001b[0;34m,\u001b[0m\u001b[0;34m\u001b[0m\u001b[0;34m\u001b[0m\u001b[0m\n\u001b[0;32m--> 423\u001b[0;31m             \u001b[0msession\u001b[0m\u001b[0;34m=\u001b[0m\u001b[0msession\u001b[0m\u001b[0;34m\u001b[0m\u001b[0;34m\u001b[0m\u001b[0m\n\u001b[0m\u001b[1;32m    424\u001b[0m         )\n",
      "\u001b[0;32m/anaconda3/lib/python3.7/ssl.py\u001b[0m in \u001b[0;36m_create\u001b[0;34m(cls, sock, server_side, do_handshake_on_connect, suppress_ragged_eofs, server_hostname, context, session)\u001b[0m\n\u001b[1;32m    869\u001b[0m                         \u001b[0;32mraise\u001b[0m \u001b[0mValueError\u001b[0m\u001b[0;34m(\u001b[0m\u001b[0;34m\"do_handshake_on_connect should not be specified for non-blocking sockets\"\u001b[0m\u001b[0;34m)\u001b[0m\u001b[0;34m\u001b[0m\u001b[0;34m\u001b[0m\u001b[0m\n\u001b[0;32m--> 870\u001b[0;31m                     \u001b[0mself\u001b[0m\u001b[0;34m.\u001b[0m\u001b[0mdo_handshake\u001b[0m\u001b[0;34m(\u001b[0m\u001b[0;34m)\u001b[0m\u001b[0;34m\u001b[0m\u001b[0;34m\u001b[0m\u001b[0m\n\u001b[0m\u001b[1;32m    871\u001b[0m             \u001b[0;32mexcept\u001b[0m \u001b[0;34m(\u001b[0m\u001b[0mOSError\u001b[0m\u001b[0;34m,\u001b[0m \u001b[0mValueError\u001b[0m\u001b[0;34m)\u001b[0m\u001b[0;34m:\u001b[0m\u001b[0;34m\u001b[0m\u001b[0;34m\u001b[0m\u001b[0m\n",
      "\u001b[0;32m/anaconda3/lib/python3.7/ssl.py\u001b[0m in \u001b[0;36mdo_handshake\u001b[0;34m(self, block)\u001b[0m\n\u001b[1;32m   1138\u001b[0m                 \u001b[0mself\u001b[0m\u001b[0;34m.\u001b[0m\u001b[0msettimeout\u001b[0m\u001b[0;34m(\u001b[0m\u001b[0;32mNone\u001b[0m\u001b[0;34m)\u001b[0m\u001b[0;34m\u001b[0m\u001b[0;34m\u001b[0m\u001b[0m\n\u001b[0;32m-> 1139\u001b[0;31m             \u001b[0mself\u001b[0m\u001b[0;34m.\u001b[0m\u001b[0m_sslobj\u001b[0m\u001b[0;34m.\u001b[0m\u001b[0mdo_handshake\u001b[0m\u001b[0;34m(\u001b[0m\u001b[0;34m)\u001b[0m\u001b[0;34m\u001b[0m\u001b[0;34m\u001b[0m\u001b[0m\n\u001b[0m\u001b[1;32m   1140\u001b[0m         \u001b[0;32mfinally\u001b[0m\u001b[0;34m:\u001b[0m\u001b[0;34m\u001b[0m\u001b[0;34m\u001b[0m\u001b[0m\n",
      "\u001b[0;31mSSLCertVerificationError\u001b[0m: [SSL: CERTIFICATE_VERIFY_FAILED] certificate verify failed: unable to get local issuer certificate (_ssl.c:1076)",
      "\nDuring handling of the above exception, another exception occurred:\n",
      "\u001b[0;31mURLError\u001b[0m                                  Traceback (most recent call last)",
      "\u001b[0;32m<ipython-input-56-9626d41a13f2>\u001b[0m in \u001b[0;36m<module>\u001b[0;34m\u001b[0m\n\u001b[0;32m----> 1\u001b[0;31m \u001b[0mdf2\u001b[0m \u001b[0;34m=\u001b[0m \u001b[0mpd\u001b[0m\u001b[0;34m.\u001b[0m\u001b[0mread_html\u001b[0m\u001b[0;34m(\u001b[0m\u001b[0;34m'https://www.sportsmole.co.uk/football/premier-league/2018-19/'\u001b[0m\u001b[0;34m,\u001b[0m\u001b[0mheader\u001b[0m\u001b[0;34m=\u001b[0m\u001b[0;36m0\u001b[0m\u001b[0;34m,\u001b[0m \u001b[0mindex_col\u001b[0m\u001b[0;34m=\u001b[0m\u001b[0;36m1\u001b[0m\u001b[0;34m)\u001b[0m\u001b[0;34m\u001b[0m\u001b[0;34m\u001b[0m\u001b[0m\n\u001b[0m\u001b[1;32m      2\u001b[0m \u001b[0;34m\u001b[0m\u001b[0m\n\u001b[1;32m      3\u001b[0m \u001b[0mdf2\u001b[0m\u001b[0;34m[\u001b[0m\u001b[0;36m0\u001b[0m\u001b[0;34m]\u001b[0m\u001b[0;34m.\u001b[0m\u001b[0mcolumns\u001b[0m \u001b[0;34m=\u001b[0m  \u001b[0;34m[\u001b[0m\u001b[0;34m'final_standings'\u001b[0m\u001b[0;34m,\u001b[0m \u001b[0;34m'P'\u001b[0m\u001b[0;34m,\u001b[0m \u001b[0;34m'W'\u001b[0m\u001b[0;34m,\u001b[0m \u001b[0;34m'D'\u001b[0m\u001b[0;34m,\u001b[0m \u001b[0;34m'L'\u001b[0m\u001b[0;34m,\u001b[0m \u001b[0;34m'F'\u001b[0m\u001b[0;34m,\u001b[0m \u001b[0;34m'A'\u001b[0m\u001b[0;34m,\u001b[0m \u001b[0;34m'GD'\u001b[0m\u001b[0;34m,\u001b[0m \u001b[0;34m'PTS'\u001b[0m\u001b[0;34m]\u001b[0m\u001b[0;34m\u001b[0m\u001b[0;34m\u001b[0m\u001b[0m\n\u001b[1;32m      4\u001b[0m \u001b[0;34m\u001b[0m\u001b[0m\n\u001b[1;32m      5\u001b[0m \u001b[0mdf2\u001b[0m\u001b[0;34m[\u001b[0m\u001b[0;36m0\u001b[0m\u001b[0;34m]\u001b[0m\u001b[0;34m\u001b[0m\u001b[0;34m\u001b[0m\u001b[0m\n",
      "\u001b[0;32m/anaconda3/lib/python3.7/site-packages/pandas/io/html.py\u001b[0m in \u001b[0;36mread_html\u001b[0;34m(io, match, flavor, header, index_col, skiprows, attrs, parse_dates, tupleize_cols, thousands, encoding, decimal, converters, na_values, keep_default_na, displayed_only)\u001b[0m\n\u001b[1;32m   1092\u001b[0m                   \u001b[0mdecimal\u001b[0m\u001b[0;34m=\u001b[0m\u001b[0mdecimal\u001b[0m\u001b[0;34m,\u001b[0m \u001b[0mconverters\u001b[0m\u001b[0;34m=\u001b[0m\u001b[0mconverters\u001b[0m\u001b[0;34m,\u001b[0m \u001b[0mna_values\u001b[0m\u001b[0;34m=\u001b[0m\u001b[0mna_values\u001b[0m\u001b[0;34m,\u001b[0m\u001b[0;34m\u001b[0m\u001b[0;34m\u001b[0m\u001b[0m\n\u001b[1;32m   1093\u001b[0m                   \u001b[0mkeep_default_na\u001b[0m\u001b[0;34m=\u001b[0m\u001b[0mkeep_default_na\u001b[0m\u001b[0;34m,\u001b[0m\u001b[0;34m\u001b[0m\u001b[0;34m\u001b[0m\u001b[0m\n\u001b[0;32m-> 1094\u001b[0;31m                   displayed_only=displayed_only)\n\u001b[0m",
      "\u001b[0;32m/anaconda3/lib/python3.7/site-packages/pandas/io/html.py\u001b[0m in \u001b[0;36m_parse\u001b[0;34m(flavor, io, match, attrs, encoding, displayed_only, **kwargs)\u001b[0m\n\u001b[1;32m    914\u001b[0m             \u001b[0;32mbreak\u001b[0m\u001b[0;34m\u001b[0m\u001b[0;34m\u001b[0m\u001b[0m\n\u001b[1;32m    915\u001b[0m     \u001b[0;32melse\u001b[0m\u001b[0;34m:\u001b[0m\u001b[0;34m\u001b[0m\u001b[0;34m\u001b[0m\u001b[0m\n\u001b[0;32m--> 916\u001b[0;31m         \u001b[0mraise_with_traceback\u001b[0m\u001b[0;34m(\u001b[0m\u001b[0mretained\u001b[0m\u001b[0;34m)\u001b[0m\u001b[0;34m\u001b[0m\u001b[0;34m\u001b[0m\u001b[0m\n\u001b[0m\u001b[1;32m    917\u001b[0m \u001b[0;34m\u001b[0m\u001b[0m\n\u001b[1;32m    918\u001b[0m     \u001b[0mret\u001b[0m \u001b[0;34m=\u001b[0m \u001b[0;34m[\u001b[0m\u001b[0;34m]\u001b[0m\u001b[0;34m\u001b[0m\u001b[0;34m\u001b[0m\u001b[0m\n",
      "\u001b[0;32m/anaconda3/lib/python3.7/site-packages/pandas/compat/__init__.py\u001b[0m in \u001b[0;36mraise_with_traceback\u001b[0;34m(exc, traceback)\u001b[0m\n\u001b[1;32m    418\u001b[0m         \u001b[0;32mif\u001b[0m \u001b[0mtraceback\u001b[0m \u001b[0;34m==\u001b[0m \u001b[0mEllipsis\u001b[0m\u001b[0;34m:\u001b[0m\u001b[0;34m\u001b[0m\u001b[0;34m\u001b[0m\u001b[0m\n\u001b[1;32m    419\u001b[0m             \u001b[0m_\u001b[0m\u001b[0;34m,\u001b[0m \u001b[0m_\u001b[0m\u001b[0;34m,\u001b[0m \u001b[0mtraceback\u001b[0m \u001b[0;34m=\u001b[0m \u001b[0msys\u001b[0m\u001b[0;34m.\u001b[0m\u001b[0mexc_info\u001b[0m\u001b[0;34m(\u001b[0m\u001b[0;34m)\u001b[0m\u001b[0;34m\u001b[0m\u001b[0;34m\u001b[0m\u001b[0m\n\u001b[0;32m--> 420\u001b[0;31m         \u001b[0;32mraise\u001b[0m \u001b[0mexc\u001b[0m\u001b[0;34m.\u001b[0m\u001b[0mwith_traceback\u001b[0m\u001b[0;34m(\u001b[0m\u001b[0mtraceback\u001b[0m\u001b[0;34m)\u001b[0m\u001b[0;34m\u001b[0m\u001b[0;34m\u001b[0m\u001b[0m\n\u001b[0m\u001b[1;32m    421\u001b[0m \u001b[0;32melse\u001b[0m\u001b[0;34m:\u001b[0m\u001b[0;34m\u001b[0m\u001b[0;34m\u001b[0m\u001b[0m\n\u001b[1;32m    422\u001b[0m     \u001b[0;31m# this version of raise is a syntax error in Python 3\u001b[0m\u001b[0;34m\u001b[0m\u001b[0;34m\u001b[0m\u001b[0;34m\u001b[0m\u001b[0m\n",
      "\u001b[0;31mURLError\u001b[0m: <urlopen error [SSL: CERTIFICATE_VERIFY_FAILED] certificate verify failed: unable to get local issuer certificate (_ssl.c:1076)>"
     ]
    }
   ],
   "source": [
    "df2 = pd.read_html('https://www.sportsmole.co.uk/football/premier-league/2018-19/',header=0, index_col=1)\n",
    "\n",
    "df2[0].columns =  ['final_standings', 'P', 'W', 'D', 'L', 'F', 'A', 'GD', 'PTS']\n",
    "\n",
    "df2[0]"
   ]
  },
  {
   "cell_type": "markdown",
   "metadata": {},
   "source": [
    "---"
   ]
  },
  {
   "cell_type": "markdown",
   "metadata": {},
   "source": [
    "### An example where formatting is an issue:"
   ]
  },
  {
   "cell_type": "code",
   "execution_count": 57,
   "metadata": {},
   "outputs": [],
   "source": [
    "html = requests.get('http://www.nfl.com/stats/team')\n",
    "nfl_soup = BeautifulSoup(html.content, 'lxml')\n",
    "table = nfl_soup.table"
   ]
  },
  {
   "cell_type": "code",
   "execution_count": 58,
   "metadata": {},
   "outputs": [
    {
     "data": {
      "text/plain": [
       "<bound method Tag.prettify of <table border=\"0\" cellpadding=\"0\" cellspacing=\"0\" class=\"data-table1\" summary=\"This table summarizes the NFL Total Offense Leaders.\" width=\"100%\">\n",
       "<thead>\n",
       "<tr class=\"thd1\">\n",
       "<td colspan=\"2\">Total Offense (YPG)</td>\n",
       "<td align=\"right\"><a href=\"/stats/categorystats?tabSeq=2&amp;offensiveStatisticCategory=GAME_STATS&amp;conference=ALL&amp;role=TM&amp;season=2019&amp;seasonType=REG&amp;d-447263-s=TOTAL_YARDS_GAME_AVG&amp;d-447263-o=2&amp;d-447263-n=1\">Complete List</a></td>\n",
       "</tr>\n",
       "</thead>\n",
       "<tbody>\n",
       "<tr class=\"tbdy-sorted\" id=\"r1c1_1\" onmouseover=\"nfl.ui.behaviors.thumbs.tabs.team.mouseOver(this, 'r1c1', 'http://i.nflcdn.com/static/site/7.5/img/teams/BAL/BAL_logo-80x90.gif')\">\n",
       "<td class=\"tbdy-sorted team-logo-container\" rowspan=\"5\">\n",
       "<img id=\"r1c1_thumb\" onerror=\"nocover(this);\" src=\"http://i.nflcdn.com/static/site/7.5/img/teams/BAL/BAL_logo-80x90.gif\"/>\n",
       "</td>\n",
       "<td scope=\"row\">\n",
       "\t\t\t\t\t\t\t\t1. \n",
       "\t\t\t\t\t\t\t\t<a href=\"/teams/baltimoreravens/profile?team=BAL\">Baltimore Ravens</a></td>\n",
       "<td align=\"right\">541.5</td>\n",
       "</tr>\n",
       "<tr class=\"tbdy1\" id=\"r1c1_2\" onmouseover=\"nfl.ui.behaviors.thumbs.tabs.team.mouseOver(this, 'r1c1', 'http://i.nflcdn.com/static/site/7.5/img/teams/DAL/DAL_logo-80x90.gif')\">\n",
       "<td scope=\"row\">\n",
       "\t\t\t\t\t\t\t\t2. \n",
       "\t\t\t\t\t\t\t\t<a href=\"/teams/dallascowboys/profile?team=DAL\">Dallas Cowboys</a></td>\n",
       "<td align=\"right\">484.0</td>\n",
       "</tr>\n",
       "<tr class=\"tbdy1\" id=\"r1c1_3\" onmouseover=\"nfl.ui.behaviors.thumbs.tabs.team.mouseOver(this, 'r1c1', 'http://i.nflcdn.com/static/site/7.5/img/teams/KC/KC_logo-80x90.gif')\">\n",
       "<td scope=\"row\">\n",
       "\t\t\t\t\t\t\t\t3. \n",
       "\t\t\t\t\t\t\t\t<a href=\"/teams/kansascitychiefs/profile?team=KC\">Kansas City Chiefs</a></td>\n",
       "<td align=\"right\">477.5</td>\n",
       "</tr>\n",
       "<tr class=\"tbdy1\" id=\"r1c1_4\" onmouseover=\"nfl.ui.behaviors.thumbs.tabs.team.mouseOver(this, 'r1c1', 'http://i.nflcdn.com/static/site/7.5/img/teams/LAC/LAC_logo-80x90.gif')\">\n",
       "<td scope=\"row\">\n",
       "\t\t\t\t\t\t\t\t4. \n",
       "\t\t\t\t\t\t\t\t<a href=\"/teams/losangeleschargers/profile?team=LAC\">Los Angeles Chargers</a></td>\n",
       "<td align=\"right\">429.5</td>\n",
       "</tr>\n",
       "<tr class=\"tbdy1\" id=\"r1c1_5\" onmouseover=\"nfl.ui.behaviors.thumbs.tabs.team.mouseOver(this, 'r1c1', 'http://i.nflcdn.com/static/site/7.5/img/teams/NE/NE_logo-80x90.gif')\">\n",
       "<td scope=\"row\">\n",
       "\t\t\t\t\t\t\t\t5. \n",
       "\t\t\t\t\t\t\t\t<a href=\"/teams/newenglandpatriots/profile?team=NE\">New England Patriots</a></td>\n",
       "<td align=\"right\">423.0</td>\n",
       "</tr>\n",
       "</tbody>\n",
       "</table>>"
      ]
     },
     "execution_count": 58,
     "metadata": {},
     "output_type": "execute_result"
    }
   ],
   "source": [
    "table.prettify"
   ]
  },
  {
   "cell_type": "code",
   "execution_count": 59,
   "metadata": {},
   "outputs": [
    {
     "data": {
      "text/plain": [
       "[   Total Offense (YPG)    Total Offense (YPG).1  Complete List\n",
       " 0                  NaN      1. Baltimore Ravens          541.5\n",
       " 1                  NaN        2. Dallas Cowboys          484.0\n",
       " 2                  NaN    3. Kansas City Chiefs          477.5\n",
       " 3                  NaN  4. Los Angeles Chargers          429.5\n",
       " 4                  NaN  5. New England Patriots          423.0,\n",
       "    Passing (YPG)          Passing (YPG).1  Complete List\n",
       " 0            NaN    1. Kansas City Chiefs          405.5\n",
       " 1            NaN    2. Cincinnati Bengals          343.0\n",
       " 2            NaN        3. Dallas Cowboys          333.0\n",
       " 3            NaN      4. Baltimore Ravens          318.0\n",
       " 4            NaN  5. New England Patriots          310.5,\n",
       "    Rushing (YPG)         Rushing (YPG).1  Complete List\n",
       " 0            NaN     1. Baltimore Ravens          223.5\n",
       " 1            NaN   2. Indianapolis Colts          185.0\n",
       " 2            NaN    3. Minnesota Vikings          185.0\n",
       " 3            NaN  4. San Francisco 49ers          178.5\n",
       " 4            NaN       5. Houston Texans          153.0,\n",
       "    Total Defense (YPG)    Total Defense (YPG).1  Complete List\n",
       " 0                  NaN  1. New England Patriots          246.0\n",
       " 1                  NaN      2. Baltimore Ravens          274.5\n",
       " 2                  NaN       3. Atlanta Falcons          277.5\n",
       " 3                  NaN         4. Chicago Bears          292.5\n",
       " 4                  NaN      5. Los Angeles Rams          293.5,\n",
       "    Passing (YPG)       Passing (YPG).1  Complete List\n",
       " 0            NaN    1. Atlanta Falcons          167.0\n",
       " 1            NaN   2. Tennessee Titans          182.5\n",
       " 2            NaN  3. Carolina Panthers          186.0\n",
       " 3            NaN     4. Denver Broncos          189.5\n",
       " 4            NaN   5. Cleveland Browns          192.5,\n",
       "    Rushing (YPG)          Rushing (YPG).1  Complete List\n",
       " 0            NaN      1. Baltimore Ravens           20.5\n",
       " 1            NaN  2. New England Patriots           37.0\n",
       " 2            NaN   3. Philadelphia Eagles           42.5\n",
       " 3            NaN      4. Seattle Seahawks           57.5\n",
       " 4            NaN       5. Oakland Raiders           63.0,\n",
       "                                                                                                                                                        NFL Team Rankings\n",
       " 0  View by offensive category...  Game Stats  Total Yards  Passing  Rushing  Receiving  Kicking  Field Goals  Kick Returns  Punting  Scoring  Touchdowns  Offensive Line\n",
       " 1                                View by defensive category...  Game Stats  Total Yards  Passing  Rushing  Receiving  Sacks  Scoring  Touchdowns  Tackles  Interceptions,\n",
       "                                                                                                                                                        AFC Team Rankings  \\\n",
       " 0  View by offensive category...  Game Stats  Total Yards  Passing  Rushing  Receiving  Kicking  Field Goals  Kick Returns  Punting  Scoring  Touchdowns  Offensive Line   \n",
       " 1                                View by defensive category...  Game Stats  Total Yards  Passing  Rushing  Receiving  Sacks  Scoring  Touchdowns  Tackles  Interceptions   \n",
       " \n",
       "    Unnamed: 1  \\\n",
       " 0         NaN   \n",
       " 1         NaN   \n",
       " \n",
       "                                                                                                                                                        NFC Team Rankings  \n",
       " 0  View by offensive category...  Game Stats  Total Yards  Passing  Rushing  Receiving  Kicking  Field Goals  Kick Returns  Punting  Scoring  Touchdowns  Offensive Line  \n",
       " 1                                View by defensive category...  Game Stats  Total Yards  Passing  Rushing  Receiving  Sacks  Scoring  Touchdowns  Tackles  Interceptions  ]"
      ]
     },
     "execution_count": 59,
     "metadata": {},
     "output_type": "execute_result"
    }
   ],
   "source": [
    "nfl = pd.read_html('http://www.nfl.com/stats/team')\n",
    "\n",
    "nfl"
   ]
  },
  {
   "cell_type": "code",
   "execution_count": 60,
   "metadata": {},
   "outputs": [
    {
     "data": {
      "text/html": [
       "<div>\n",
       "<style scoped>\n",
       "    .dataframe tbody tr th:only-of-type {\n",
       "        vertical-align: middle;\n",
       "    }\n",
       "\n",
       "    .dataframe tbody tr th {\n",
       "        vertical-align: top;\n",
       "    }\n",
       "\n",
       "    .dataframe thead th {\n",
       "        text-align: right;\n",
       "    }\n",
       "</style>\n",
       "<table border=\"1\" class=\"dataframe\">\n",
       "  <thead>\n",
       "    <tr style=\"text-align: right;\">\n",
       "      <th></th>\n",
       "      <th>Total Defense (YPG)</th>\n",
       "      <th>Total Defense (YPG).1</th>\n",
       "      <th>Complete List</th>\n",
       "    </tr>\n",
       "  </thead>\n",
       "  <tbody>\n",
       "    <tr>\n",
       "      <th>0</th>\n",
       "      <td>NaN</td>\n",
       "      <td>1. New England Patriots</td>\n",
       "      <td>246.0</td>\n",
       "    </tr>\n",
       "    <tr>\n",
       "      <th>1</th>\n",
       "      <td>NaN</td>\n",
       "      <td>2. Baltimore Ravens</td>\n",
       "      <td>274.5</td>\n",
       "    </tr>\n",
       "    <tr>\n",
       "      <th>2</th>\n",
       "      <td>NaN</td>\n",
       "      <td>3. Atlanta Falcons</td>\n",
       "      <td>277.5</td>\n",
       "    </tr>\n",
       "    <tr>\n",
       "      <th>3</th>\n",
       "      <td>NaN</td>\n",
       "      <td>4. Chicago Bears</td>\n",
       "      <td>292.5</td>\n",
       "    </tr>\n",
       "    <tr>\n",
       "      <th>4</th>\n",
       "      <td>NaN</td>\n",
       "      <td>5. Los Angeles Rams</td>\n",
       "      <td>293.5</td>\n",
       "    </tr>\n",
       "  </tbody>\n",
       "</table>\n",
       "</div>"
      ],
      "text/plain": [
       "   Total Defense (YPG)    Total Defense (YPG).1  Complete List\n",
       "0                  NaN  1. New England Patriots          246.0\n",
       "1                  NaN      2. Baltimore Ravens          274.5\n",
       "2                  NaN       3. Atlanta Falcons          277.5\n",
       "3                  NaN         4. Chicago Bears          292.5\n",
       "4                  NaN      5. Los Angeles Rams          293.5"
      ]
     },
     "execution_count": 60,
     "metadata": {},
     "output_type": "execute_result"
    }
   ],
   "source": [
    "# PRO-TIP: if you want to instantiate a new df variable from a previous df or list of dfs, \n",
    "# making a copy of the df will save you from a headache\n",
    "\n",
    "offense = deepcopy(nfl[3])\n",
    "offense"
   ]
  },
  {
   "cell_type": "code",
   "execution_count": 62,
   "metadata": {
    "scrolled": true
   },
   "outputs": [
    {
     "data": {
      "text/html": [
       "<div>\n",
       "<style scoped>\n",
       "    .dataframe tbody tr th:only-of-type {\n",
       "        vertical-align: middle;\n",
       "    }\n",
       "\n",
       "    .dataframe tbody tr th {\n",
       "        vertical-align: top;\n",
       "    }\n",
       "\n",
       "    .dataframe thead th {\n",
       "        text-align: right;\n",
       "    }\n",
       "</style>\n",
       "<table border=\"1\" class=\"dataframe\">\n",
       "  <thead>\n",
       "    <tr style=\"text-align: right;\">\n",
       "      <th></th>\n",
       "      <th>Passing (YPG)</th>\n",
       "      <th>Passing (YPG).1</th>\n",
       "      <th>Complete List</th>\n",
       "    </tr>\n",
       "  </thead>\n",
       "  <tbody>\n",
       "    <tr>\n",
       "      <th>0</th>\n",
       "      <td>NaN</td>\n",
       "      <td>1. Kansas City Chiefs</td>\n",
       "      <td>405.5</td>\n",
       "    </tr>\n",
       "    <tr>\n",
       "      <th>1</th>\n",
       "      <td>NaN</td>\n",
       "      <td>2. Cincinnati Bengals</td>\n",
       "      <td>343.0</td>\n",
       "    </tr>\n",
       "    <tr>\n",
       "      <th>2</th>\n",
       "      <td>NaN</td>\n",
       "      <td>3. Dallas Cowboys</td>\n",
       "      <td>333.0</td>\n",
       "    </tr>\n",
       "    <tr>\n",
       "      <th>3</th>\n",
       "      <td>NaN</td>\n",
       "      <td>4. Baltimore Ravens</td>\n",
       "      <td>318.0</td>\n",
       "    </tr>\n",
       "    <tr>\n",
       "      <th>4</th>\n",
       "      <td>NaN</td>\n",
       "      <td>5. New England Patriots</td>\n",
       "      <td>310.5</td>\n",
       "    </tr>\n",
       "  </tbody>\n",
       "</table>\n",
       "</div>"
      ],
      "text/plain": [
       "   Passing (YPG)          Passing (YPG).1  Complete List\n",
       "0            NaN    1. Kansas City Chiefs          405.5\n",
       "1            NaN    2. Cincinnati Bengals          343.0\n",
       "2            NaN        3. Dallas Cowboys          333.0\n",
       "3            NaN      4. Baltimore Ravens          318.0\n",
       "4            NaN  5. New England Patriots          310.5"
      ]
     },
     "execution_count": 62,
     "metadata": {},
     "output_type": "execute_result"
    }
   ],
   "source": [
    "passing = nfl[1].copy()\n",
    "passing"
   ]
  },
  {
   "cell_type": "code",
   "execution_count": 63,
   "metadata": {},
   "outputs": [
    {
     "ename": "KeyError",
     "evalue": "\"['Unnamed: 2'] not found in axis\"",
     "output_type": "error",
     "traceback": [
      "\u001b[0;31m---------------------------------------------------------------------------\u001b[0m",
      "\u001b[0;31mKeyError\u001b[0m                                  Traceback (most recent call last)",
      "\u001b[0;32m<ipython-input-63-b725916d3e10>\u001b[0m in \u001b[0;36m<module>\u001b[0;34m\u001b[0m\n\u001b[1;32m      3\u001b[0m \u001b[0moffense\u001b[0m\u001b[0;34m.\u001b[0m\u001b[0miloc\u001b[0m\u001b[0;34m[\u001b[0m\u001b[0;36m0\u001b[0m\u001b[0;34m,\u001b[0m\u001b[0;36m0\u001b[0m\u001b[0;34m]\u001b[0m \u001b[0;34m=\u001b[0m \u001b[0mcell1\u001b[0m\u001b[0;34m\u001b[0m\u001b[0;34m\u001b[0m\u001b[0m\n\u001b[1;32m      4\u001b[0m \u001b[0moffense\u001b[0m\u001b[0;34m.\u001b[0m\u001b[0miloc\u001b[0m\u001b[0;34m[\u001b[0m\u001b[0;36m0\u001b[0m\u001b[0;34m,\u001b[0m\u001b[0;36m1\u001b[0m\u001b[0;34m]\u001b[0m \u001b[0;34m=\u001b[0m \u001b[0mcell2\u001b[0m\u001b[0;34m\u001b[0m\u001b[0;34m\u001b[0m\u001b[0m\n\u001b[0;32m----> 5\u001b[0;31m \u001b[0moffense\u001b[0m\u001b[0;34m.\u001b[0m\u001b[0mdrop\u001b[0m\u001b[0;34m(\u001b[0m\u001b[0;34m[\u001b[0m\u001b[0;34m'Unnamed: 2'\u001b[0m\u001b[0;34m]\u001b[0m\u001b[0;34m,\u001b[0m\u001b[0maxis\u001b[0m\u001b[0;34m=\u001b[0m\u001b[0;36m1\u001b[0m\u001b[0;34m,\u001b[0m\u001b[0minplace\u001b[0m\u001b[0;34m=\u001b[0m\u001b[0;32mTrue\u001b[0m\u001b[0;34m)\u001b[0m\u001b[0;34m\u001b[0m\u001b[0;34m\u001b[0m\u001b[0m\n\u001b[0m\u001b[1;32m      6\u001b[0m \u001b[0moffense\u001b[0m\u001b[0;34m.\u001b[0m\u001b[0mcolumns\u001b[0m \u001b[0;34m=\u001b[0m \u001b[0;34m[\u001b[0m\u001b[0;34m'team'\u001b[0m\u001b[0;34m,\u001b[0m \u001b[0;34m'total_offense_ypg'\u001b[0m\u001b[0;34m]\u001b[0m\u001b[0;34m\u001b[0m\u001b[0;34m\u001b[0m\u001b[0m\n\u001b[1;32m      7\u001b[0m \u001b[0moffense\u001b[0m\u001b[0;34m.\u001b[0m\u001b[0mteam\u001b[0m \u001b[0;34m=\u001b[0m \u001b[0moffense\u001b[0m\u001b[0;34m.\u001b[0m\u001b[0mteam\u001b[0m\u001b[0;34m.\u001b[0m\u001b[0mapply\u001b[0m\u001b[0;34m(\u001b[0m\u001b[0;32mlambda\u001b[0m \u001b[0mx\u001b[0m\u001b[0;34m:\u001b[0m \u001b[0mx\u001b[0m\u001b[0;34m.\u001b[0m\u001b[0msplit\u001b[0m\u001b[0;34m(\u001b[0m\u001b[0;34m'.\\xa0'\u001b[0m\u001b[0;34m)\u001b[0m\u001b[0;34m[\u001b[0m\u001b[0;36m1\u001b[0m\u001b[0;34m]\u001b[0m \u001b[0;32mif\u001b[0m \u001b[0;34m'.\\xa0'\u001b[0m \u001b[0;32min\u001b[0m \u001b[0mx\u001b[0m \u001b[0;32melse\u001b[0m \u001b[0mx\u001b[0m\u001b[0;34m.\u001b[0m\u001b[0msplit\u001b[0m\u001b[0;34m(\u001b[0m\u001b[0;34m'. '\u001b[0m\u001b[0;34m)\u001b[0m\u001b[0;34m[\u001b[0m\u001b[0;36m1\u001b[0m\u001b[0;34m]\u001b[0m\u001b[0;34m)\u001b[0m\u001b[0;34m\u001b[0m\u001b[0;34m\u001b[0m\u001b[0m\n",
      "\u001b[0;32m/anaconda3/lib/python3.7/site-packages/pandas/core/frame.py\u001b[0m in \u001b[0;36mdrop\u001b[0;34m(self, labels, axis, index, columns, level, inplace, errors)\u001b[0m\n\u001b[1;32m   3938\u001b[0m                                            \u001b[0mindex\u001b[0m\u001b[0;34m=\u001b[0m\u001b[0mindex\u001b[0m\u001b[0;34m,\u001b[0m \u001b[0mcolumns\u001b[0m\u001b[0;34m=\u001b[0m\u001b[0mcolumns\u001b[0m\u001b[0;34m,\u001b[0m\u001b[0;34m\u001b[0m\u001b[0;34m\u001b[0m\u001b[0m\n\u001b[1;32m   3939\u001b[0m                                            \u001b[0mlevel\u001b[0m\u001b[0;34m=\u001b[0m\u001b[0mlevel\u001b[0m\u001b[0;34m,\u001b[0m \u001b[0minplace\u001b[0m\u001b[0;34m=\u001b[0m\u001b[0minplace\u001b[0m\u001b[0;34m,\u001b[0m\u001b[0;34m\u001b[0m\u001b[0;34m\u001b[0m\u001b[0m\n\u001b[0;32m-> 3940\u001b[0;31m                                            errors=errors)\n\u001b[0m\u001b[1;32m   3941\u001b[0m \u001b[0;34m\u001b[0m\u001b[0m\n\u001b[1;32m   3942\u001b[0m     @rewrite_axis_style_signature('mapper', [('copy', True),\n",
      "\u001b[0;32m/anaconda3/lib/python3.7/site-packages/pandas/core/generic.py\u001b[0m in \u001b[0;36mdrop\u001b[0;34m(self, labels, axis, index, columns, level, inplace, errors)\u001b[0m\n\u001b[1;32m   3778\u001b[0m         \u001b[0;32mfor\u001b[0m \u001b[0maxis\u001b[0m\u001b[0;34m,\u001b[0m \u001b[0mlabels\u001b[0m \u001b[0;32min\u001b[0m \u001b[0maxes\u001b[0m\u001b[0;34m.\u001b[0m\u001b[0mitems\u001b[0m\u001b[0;34m(\u001b[0m\u001b[0;34m)\u001b[0m\u001b[0;34m:\u001b[0m\u001b[0;34m\u001b[0m\u001b[0;34m\u001b[0m\u001b[0m\n\u001b[1;32m   3779\u001b[0m             \u001b[0;32mif\u001b[0m \u001b[0mlabels\u001b[0m \u001b[0;32mis\u001b[0m \u001b[0;32mnot\u001b[0m \u001b[0;32mNone\u001b[0m\u001b[0;34m:\u001b[0m\u001b[0;34m\u001b[0m\u001b[0;34m\u001b[0m\u001b[0m\n\u001b[0;32m-> 3780\u001b[0;31m                 \u001b[0mobj\u001b[0m \u001b[0;34m=\u001b[0m \u001b[0mobj\u001b[0m\u001b[0;34m.\u001b[0m\u001b[0m_drop_axis\u001b[0m\u001b[0;34m(\u001b[0m\u001b[0mlabels\u001b[0m\u001b[0;34m,\u001b[0m \u001b[0maxis\u001b[0m\u001b[0;34m,\u001b[0m \u001b[0mlevel\u001b[0m\u001b[0;34m=\u001b[0m\u001b[0mlevel\u001b[0m\u001b[0;34m,\u001b[0m \u001b[0merrors\u001b[0m\u001b[0;34m=\u001b[0m\u001b[0merrors\u001b[0m\u001b[0;34m)\u001b[0m\u001b[0;34m\u001b[0m\u001b[0;34m\u001b[0m\u001b[0m\n\u001b[0m\u001b[1;32m   3781\u001b[0m \u001b[0;34m\u001b[0m\u001b[0m\n\u001b[1;32m   3782\u001b[0m         \u001b[0;32mif\u001b[0m \u001b[0minplace\u001b[0m\u001b[0;34m:\u001b[0m\u001b[0;34m\u001b[0m\u001b[0;34m\u001b[0m\u001b[0m\n",
      "\u001b[0;32m/anaconda3/lib/python3.7/site-packages/pandas/core/generic.py\u001b[0m in \u001b[0;36m_drop_axis\u001b[0;34m(self, labels, axis, level, errors)\u001b[0m\n\u001b[1;32m   3810\u001b[0m                 \u001b[0mnew_axis\u001b[0m \u001b[0;34m=\u001b[0m \u001b[0maxis\u001b[0m\u001b[0;34m.\u001b[0m\u001b[0mdrop\u001b[0m\u001b[0;34m(\u001b[0m\u001b[0mlabels\u001b[0m\u001b[0;34m,\u001b[0m \u001b[0mlevel\u001b[0m\u001b[0;34m=\u001b[0m\u001b[0mlevel\u001b[0m\u001b[0;34m,\u001b[0m \u001b[0merrors\u001b[0m\u001b[0;34m=\u001b[0m\u001b[0merrors\u001b[0m\u001b[0;34m)\u001b[0m\u001b[0;34m\u001b[0m\u001b[0;34m\u001b[0m\u001b[0m\n\u001b[1;32m   3811\u001b[0m             \u001b[0;32melse\u001b[0m\u001b[0;34m:\u001b[0m\u001b[0;34m\u001b[0m\u001b[0;34m\u001b[0m\u001b[0m\n\u001b[0;32m-> 3812\u001b[0;31m                 \u001b[0mnew_axis\u001b[0m \u001b[0;34m=\u001b[0m \u001b[0maxis\u001b[0m\u001b[0;34m.\u001b[0m\u001b[0mdrop\u001b[0m\u001b[0;34m(\u001b[0m\u001b[0mlabels\u001b[0m\u001b[0;34m,\u001b[0m \u001b[0merrors\u001b[0m\u001b[0;34m=\u001b[0m\u001b[0merrors\u001b[0m\u001b[0;34m)\u001b[0m\u001b[0;34m\u001b[0m\u001b[0;34m\u001b[0m\u001b[0m\n\u001b[0m\u001b[1;32m   3813\u001b[0m             \u001b[0mresult\u001b[0m \u001b[0;34m=\u001b[0m \u001b[0mself\u001b[0m\u001b[0;34m.\u001b[0m\u001b[0mreindex\u001b[0m\u001b[0;34m(\u001b[0m\u001b[0;34m**\u001b[0m\u001b[0;34m{\u001b[0m\u001b[0maxis_name\u001b[0m\u001b[0;34m:\u001b[0m \u001b[0mnew_axis\u001b[0m\u001b[0;34m}\u001b[0m\u001b[0;34m)\u001b[0m\u001b[0;34m\u001b[0m\u001b[0;34m\u001b[0m\u001b[0m\n\u001b[1;32m   3814\u001b[0m \u001b[0;34m\u001b[0m\u001b[0m\n",
      "\u001b[0;32m/anaconda3/lib/python3.7/site-packages/pandas/core/indexes/base.py\u001b[0m in \u001b[0;36mdrop\u001b[0;34m(self, labels, errors)\u001b[0m\n\u001b[1;32m   4963\u001b[0m             \u001b[0;32mif\u001b[0m \u001b[0merrors\u001b[0m \u001b[0;34m!=\u001b[0m \u001b[0;34m'ignore'\u001b[0m\u001b[0;34m:\u001b[0m\u001b[0;34m\u001b[0m\u001b[0;34m\u001b[0m\u001b[0m\n\u001b[1;32m   4964\u001b[0m                 raise KeyError(\n\u001b[0;32m-> 4965\u001b[0;31m                     '{} not found in axis'.format(labels[mask]))\n\u001b[0m\u001b[1;32m   4966\u001b[0m             \u001b[0mindexer\u001b[0m \u001b[0;34m=\u001b[0m \u001b[0mindexer\u001b[0m\u001b[0;34m[\u001b[0m\u001b[0;34m~\u001b[0m\u001b[0mmask\u001b[0m\u001b[0;34m]\u001b[0m\u001b[0;34m\u001b[0m\u001b[0;34m\u001b[0m\u001b[0m\n\u001b[1;32m   4967\u001b[0m         \u001b[0;32mreturn\u001b[0m \u001b[0mself\u001b[0m\u001b[0;34m.\u001b[0m\u001b[0mdelete\u001b[0m\u001b[0;34m(\u001b[0m\u001b[0mindexer\u001b[0m\u001b[0;34m)\u001b[0m\u001b[0;34m\u001b[0m\u001b[0;34m\u001b[0m\u001b[0m\n",
      "\u001b[0;31mKeyError\u001b[0m: \"['Unnamed: 2'] not found in axis\""
     ]
    }
   ],
   "source": [
    "cell1 = offense.iloc[0,1]\n",
    "cell2 = offense.iloc[0,2]\n",
    "offense.iloc[0,0] = cell1\n",
    "offense.iloc[0,1] = cell2\n",
    "offense.drop(['Unnamed: 2'],axis=1,inplace=True)\n",
    "offense.columns = ['team', 'total_offense_ypg']\n",
    "offense.team = offense.team.apply(lambda x: x.split('.\\xa0')[1] if '.\\xa0' in x else x.split('. ')[1])\n",
    "offense.total_offense_ypg = offense.total_offense_ypg.astype(float).astype(int)"
   ]
  },
  {
   "cell_type": "code",
   "execution_count": 64,
   "metadata": {},
   "outputs": [
    {
     "data": {
      "text/html": [
       "<div>\n",
       "<style scoped>\n",
       "    .dataframe tbody tr th:only-of-type {\n",
       "        vertical-align: middle;\n",
       "    }\n",
       "\n",
       "    .dataframe tbody tr th {\n",
       "        vertical-align: top;\n",
       "    }\n",
       "\n",
       "    .dataframe thead th {\n",
       "        text-align: right;\n",
       "    }\n",
       "</style>\n",
       "<table border=\"1\" class=\"dataframe\">\n",
       "  <thead>\n",
       "    <tr style=\"text-align: right;\">\n",
       "      <th></th>\n",
       "      <th>Total Defense (YPG)</th>\n",
       "      <th>Total Defense (YPG).1</th>\n",
       "      <th>Complete List</th>\n",
       "    </tr>\n",
       "  </thead>\n",
       "  <tbody>\n",
       "    <tr>\n",
       "      <th>0</th>\n",
       "      <td>1. New England Patriots</td>\n",
       "      <td>246</td>\n",
       "      <td>246.0</td>\n",
       "    </tr>\n",
       "    <tr>\n",
       "      <th>1</th>\n",
       "      <td>NaN</td>\n",
       "      <td>2. Baltimore Ravens</td>\n",
       "      <td>274.5</td>\n",
       "    </tr>\n",
       "    <tr>\n",
       "      <th>2</th>\n",
       "      <td>NaN</td>\n",
       "      <td>3. Atlanta Falcons</td>\n",
       "      <td>277.5</td>\n",
       "    </tr>\n",
       "    <tr>\n",
       "      <th>3</th>\n",
       "      <td>NaN</td>\n",
       "      <td>4. Chicago Bears</td>\n",
       "      <td>292.5</td>\n",
       "    </tr>\n",
       "    <tr>\n",
       "      <th>4</th>\n",
       "      <td>NaN</td>\n",
       "      <td>5. Los Angeles Rams</td>\n",
       "      <td>293.5</td>\n",
       "    </tr>\n",
       "  </tbody>\n",
       "</table>\n",
       "</div>"
      ],
      "text/plain": [
       "       Total Defense (YPG) Total Defense (YPG).1  Complete List\n",
       "0  1. New England Patriots                   246          246.0\n",
       "1                      NaN   2. Baltimore Ravens          274.5\n",
       "2                      NaN    3. Atlanta Falcons          277.5\n",
       "3                      NaN      4. Chicago Bears          292.5\n",
       "4                      NaN   5. Los Angeles Rams          293.5"
      ]
     },
     "execution_count": 64,
     "metadata": {},
     "output_type": "execute_result"
    }
   ],
   "source": [
    "offense"
   ]
  },
  {
   "cell_type": "code",
   "execution_count": 65,
   "metadata": {},
   "outputs": [],
   "source": [
    "def clean_data(data_list):\n",
    "    cleaned = []\n",
    "    data_copy = deepcopy(data_list)\n",
    "    for data in data_copy:\n",
    "        col_1, col_3 = data.columns[0], data.columns[-1]\n",
    "        cell1 = data.iloc[0,1]\n",
    "        cell2 = data.iloc[0,2]\n",
    "        data.iloc[0,0] = cell1\n",
    "        data.iloc[0,1] = cell2\n",
    "        data.drop([col_3],axis=1,inplace=True)\n",
    "        data.columns = ['team', col_1]\n",
    "        data['team'] = data['team'].apply(lambda x: x.split('.\\xa0')[1] if '.\\xa0' in x else x.split('. ')[1])\n",
    "        data.total_offense_ypg = data[col_1].astype(float).astype(int)\n",
    "        cleaned.append(data)\n",
    "    return cleaned"
   ]
  },
  {
   "cell_type": "code",
   "execution_count": 66,
   "metadata": {},
   "outputs": [],
   "source": [
    "tables_list = deepcopy(nfl[:6])"
   ]
  },
  {
   "cell_type": "code",
   "execution_count": 67,
   "metadata": {},
   "outputs": [
    {
     "data": {
      "text/html": [
       "<div>\n",
       "<style scoped>\n",
       "    .dataframe tbody tr th:only-of-type {\n",
       "        vertical-align: middle;\n",
       "    }\n",
       "\n",
       "    .dataframe tbody tr th {\n",
       "        vertical-align: top;\n",
       "    }\n",
       "\n",
       "    .dataframe thead th {\n",
       "        text-align: right;\n",
       "    }\n",
       "</style>\n",
       "<table border=\"1\" class=\"dataframe\">\n",
       "  <thead>\n",
       "    <tr style=\"text-align: right;\">\n",
       "      <th></th>\n",
       "      <th>Rushing (YPG)</th>\n",
       "      <th>Rushing (YPG).1</th>\n",
       "      <th>Complete List</th>\n",
       "    </tr>\n",
       "  </thead>\n",
       "  <tbody>\n",
       "    <tr>\n",
       "      <th>0</th>\n",
       "      <td>NaN</td>\n",
       "      <td>1. Baltimore Ravens</td>\n",
       "      <td>223.5</td>\n",
       "    </tr>\n",
       "    <tr>\n",
       "      <th>1</th>\n",
       "      <td>NaN</td>\n",
       "      <td>2. Indianapolis Colts</td>\n",
       "      <td>185.0</td>\n",
       "    </tr>\n",
       "    <tr>\n",
       "      <th>2</th>\n",
       "      <td>NaN</td>\n",
       "      <td>3. Minnesota Vikings</td>\n",
       "      <td>185.0</td>\n",
       "    </tr>\n",
       "    <tr>\n",
       "      <th>3</th>\n",
       "      <td>NaN</td>\n",
       "      <td>4. San Francisco 49ers</td>\n",
       "      <td>178.5</td>\n",
       "    </tr>\n",
       "    <tr>\n",
       "      <th>4</th>\n",
       "      <td>NaN</td>\n",
       "      <td>5. Houston Texans</td>\n",
       "      <td>153.0</td>\n",
       "    </tr>\n",
       "  </tbody>\n",
       "</table>\n",
       "</div>"
      ],
      "text/plain": [
       "   Rushing (YPG)         Rushing (YPG).1  Complete List\n",
       "0            NaN     1. Baltimore Ravens          223.5\n",
       "1            NaN   2. Indianapolis Colts          185.0\n",
       "2            NaN    3. Minnesota Vikings          185.0\n",
       "3            NaN  4. San Francisco 49ers          178.5\n",
       "4            NaN       5. Houston Texans          153.0"
      ]
     },
     "execution_count": 67,
     "metadata": {},
     "output_type": "execute_result"
    }
   ],
   "source": [
    "tables_list[2]"
   ]
  },
  {
   "cell_type": "code",
   "execution_count": 68,
   "metadata": {},
   "outputs": [
    {
     "ename": "TypeError",
     "evalue": "argument of type 'float' is not iterable",
     "output_type": "error",
     "traceback": [
      "\u001b[0;31m---------------------------------------------------------------------------\u001b[0m",
      "\u001b[0;31mTypeError\u001b[0m                                 Traceback (most recent call last)",
      "\u001b[0;32m<ipython-input-68-eeab0b0e65d6>\u001b[0m in \u001b[0;36m<module>\u001b[0;34m\u001b[0m\n\u001b[0;32m----> 1\u001b[0;31m \u001b[0mclean_tables\u001b[0m \u001b[0;34m=\u001b[0m \u001b[0mclean_data\u001b[0m\u001b[0;34m(\u001b[0m\u001b[0mtables_list\u001b[0m\u001b[0;34m)\u001b[0m\u001b[0;34m\u001b[0m\u001b[0;34m\u001b[0m\u001b[0m\n\u001b[0m",
      "\u001b[0;32m<ipython-input-65-b67e3aa34242>\u001b[0m in \u001b[0;36mclean_data\u001b[0;34m(data_list)\u001b[0m\n\u001b[1;32m     10\u001b[0m         \u001b[0mdata\u001b[0m\u001b[0;34m.\u001b[0m\u001b[0mdrop\u001b[0m\u001b[0;34m(\u001b[0m\u001b[0;34m[\u001b[0m\u001b[0mcol_3\u001b[0m\u001b[0;34m]\u001b[0m\u001b[0;34m,\u001b[0m\u001b[0maxis\u001b[0m\u001b[0;34m=\u001b[0m\u001b[0;36m1\u001b[0m\u001b[0;34m,\u001b[0m\u001b[0minplace\u001b[0m\u001b[0;34m=\u001b[0m\u001b[0;32mTrue\u001b[0m\u001b[0;34m)\u001b[0m\u001b[0;34m\u001b[0m\u001b[0;34m\u001b[0m\u001b[0m\n\u001b[1;32m     11\u001b[0m         \u001b[0mdata\u001b[0m\u001b[0;34m.\u001b[0m\u001b[0mcolumns\u001b[0m \u001b[0;34m=\u001b[0m \u001b[0;34m[\u001b[0m\u001b[0;34m'team'\u001b[0m\u001b[0;34m,\u001b[0m \u001b[0mcol_1\u001b[0m\u001b[0;34m]\u001b[0m\u001b[0;34m\u001b[0m\u001b[0;34m\u001b[0m\u001b[0m\n\u001b[0;32m---> 12\u001b[0;31m         \u001b[0mdata\u001b[0m\u001b[0;34m[\u001b[0m\u001b[0;34m'team'\u001b[0m\u001b[0;34m]\u001b[0m \u001b[0;34m=\u001b[0m \u001b[0mdata\u001b[0m\u001b[0;34m[\u001b[0m\u001b[0;34m'team'\u001b[0m\u001b[0;34m]\u001b[0m\u001b[0;34m.\u001b[0m\u001b[0mapply\u001b[0m\u001b[0;34m(\u001b[0m\u001b[0;32mlambda\u001b[0m \u001b[0mx\u001b[0m\u001b[0;34m:\u001b[0m \u001b[0mx\u001b[0m\u001b[0;34m.\u001b[0m\u001b[0msplit\u001b[0m\u001b[0;34m(\u001b[0m\u001b[0;34m'.\\xa0'\u001b[0m\u001b[0;34m)\u001b[0m\u001b[0;34m[\u001b[0m\u001b[0;36m1\u001b[0m\u001b[0;34m]\u001b[0m \u001b[0;32mif\u001b[0m \u001b[0;34m'.\\xa0'\u001b[0m \u001b[0;32min\u001b[0m \u001b[0mx\u001b[0m \u001b[0;32melse\u001b[0m \u001b[0mx\u001b[0m\u001b[0;34m.\u001b[0m\u001b[0msplit\u001b[0m\u001b[0;34m(\u001b[0m\u001b[0;34m'. '\u001b[0m\u001b[0;34m)\u001b[0m\u001b[0;34m[\u001b[0m\u001b[0;36m1\u001b[0m\u001b[0;34m]\u001b[0m\u001b[0;34m)\u001b[0m\u001b[0;34m\u001b[0m\u001b[0;34m\u001b[0m\u001b[0m\n\u001b[0m\u001b[1;32m     13\u001b[0m         \u001b[0mdata\u001b[0m\u001b[0;34m.\u001b[0m\u001b[0mtotal_offense_ypg\u001b[0m \u001b[0;34m=\u001b[0m \u001b[0mdata\u001b[0m\u001b[0;34m[\u001b[0m\u001b[0mcol_1\u001b[0m\u001b[0;34m]\u001b[0m\u001b[0;34m.\u001b[0m\u001b[0mastype\u001b[0m\u001b[0;34m(\u001b[0m\u001b[0mfloat\u001b[0m\u001b[0;34m)\u001b[0m\u001b[0;34m.\u001b[0m\u001b[0mastype\u001b[0m\u001b[0;34m(\u001b[0m\u001b[0mint\u001b[0m\u001b[0;34m)\u001b[0m\u001b[0;34m\u001b[0m\u001b[0;34m\u001b[0m\u001b[0m\n\u001b[1;32m     14\u001b[0m         \u001b[0mcleaned\u001b[0m\u001b[0;34m.\u001b[0m\u001b[0mappend\u001b[0m\u001b[0;34m(\u001b[0m\u001b[0mdata\u001b[0m\u001b[0;34m)\u001b[0m\u001b[0;34m\u001b[0m\u001b[0;34m\u001b[0m\u001b[0m\n",
      "\u001b[0;32m/anaconda3/lib/python3.7/site-packages/pandas/core/series.py\u001b[0m in \u001b[0;36mapply\u001b[0;34m(self, func, convert_dtype, args, **kwds)\u001b[0m\n\u001b[1;32m   3589\u001b[0m             \u001b[0;32melse\u001b[0m\u001b[0;34m:\u001b[0m\u001b[0;34m\u001b[0m\u001b[0;34m\u001b[0m\u001b[0m\n\u001b[1;32m   3590\u001b[0m                 \u001b[0mvalues\u001b[0m \u001b[0;34m=\u001b[0m \u001b[0mself\u001b[0m\u001b[0;34m.\u001b[0m\u001b[0mastype\u001b[0m\u001b[0;34m(\u001b[0m\u001b[0mobject\u001b[0m\u001b[0;34m)\u001b[0m\u001b[0;34m.\u001b[0m\u001b[0mvalues\u001b[0m\u001b[0;34m\u001b[0m\u001b[0;34m\u001b[0m\u001b[0m\n\u001b[0;32m-> 3591\u001b[0;31m                 \u001b[0mmapped\u001b[0m \u001b[0;34m=\u001b[0m \u001b[0mlib\u001b[0m\u001b[0;34m.\u001b[0m\u001b[0mmap_infer\u001b[0m\u001b[0;34m(\u001b[0m\u001b[0mvalues\u001b[0m\u001b[0;34m,\u001b[0m \u001b[0mf\u001b[0m\u001b[0;34m,\u001b[0m \u001b[0mconvert\u001b[0m\u001b[0;34m=\u001b[0m\u001b[0mconvert_dtype\u001b[0m\u001b[0;34m)\u001b[0m\u001b[0;34m\u001b[0m\u001b[0;34m\u001b[0m\u001b[0m\n\u001b[0m\u001b[1;32m   3592\u001b[0m \u001b[0;34m\u001b[0m\u001b[0m\n\u001b[1;32m   3593\u001b[0m         \u001b[0;32mif\u001b[0m \u001b[0mlen\u001b[0m\u001b[0;34m(\u001b[0m\u001b[0mmapped\u001b[0m\u001b[0;34m)\u001b[0m \u001b[0;32mand\u001b[0m \u001b[0misinstance\u001b[0m\u001b[0;34m(\u001b[0m\u001b[0mmapped\u001b[0m\u001b[0;34m[\u001b[0m\u001b[0;36m0\u001b[0m\u001b[0;34m]\u001b[0m\u001b[0;34m,\u001b[0m \u001b[0mSeries\u001b[0m\u001b[0;34m)\u001b[0m\u001b[0;34m:\u001b[0m\u001b[0;34m\u001b[0m\u001b[0;34m\u001b[0m\u001b[0m\n",
      "\u001b[0;32mpandas/_libs/lib.pyx\u001b[0m in \u001b[0;36mpandas._libs.lib.map_infer\u001b[0;34m()\u001b[0m\n",
      "\u001b[0;32m<ipython-input-65-b67e3aa34242>\u001b[0m in \u001b[0;36m<lambda>\u001b[0;34m(x)\u001b[0m\n\u001b[1;32m     10\u001b[0m         \u001b[0mdata\u001b[0m\u001b[0;34m.\u001b[0m\u001b[0mdrop\u001b[0m\u001b[0;34m(\u001b[0m\u001b[0;34m[\u001b[0m\u001b[0mcol_3\u001b[0m\u001b[0;34m]\u001b[0m\u001b[0;34m,\u001b[0m\u001b[0maxis\u001b[0m\u001b[0;34m=\u001b[0m\u001b[0;36m1\u001b[0m\u001b[0;34m,\u001b[0m\u001b[0minplace\u001b[0m\u001b[0;34m=\u001b[0m\u001b[0;32mTrue\u001b[0m\u001b[0;34m)\u001b[0m\u001b[0;34m\u001b[0m\u001b[0;34m\u001b[0m\u001b[0m\n\u001b[1;32m     11\u001b[0m         \u001b[0mdata\u001b[0m\u001b[0;34m.\u001b[0m\u001b[0mcolumns\u001b[0m \u001b[0;34m=\u001b[0m \u001b[0;34m[\u001b[0m\u001b[0;34m'team'\u001b[0m\u001b[0;34m,\u001b[0m \u001b[0mcol_1\u001b[0m\u001b[0;34m]\u001b[0m\u001b[0;34m\u001b[0m\u001b[0;34m\u001b[0m\u001b[0m\n\u001b[0;32m---> 12\u001b[0;31m         \u001b[0mdata\u001b[0m\u001b[0;34m[\u001b[0m\u001b[0;34m'team'\u001b[0m\u001b[0;34m]\u001b[0m \u001b[0;34m=\u001b[0m \u001b[0mdata\u001b[0m\u001b[0;34m[\u001b[0m\u001b[0;34m'team'\u001b[0m\u001b[0;34m]\u001b[0m\u001b[0;34m.\u001b[0m\u001b[0mapply\u001b[0m\u001b[0;34m(\u001b[0m\u001b[0;32mlambda\u001b[0m \u001b[0mx\u001b[0m\u001b[0;34m:\u001b[0m \u001b[0mx\u001b[0m\u001b[0;34m.\u001b[0m\u001b[0msplit\u001b[0m\u001b[0;34m(\u001b[0m\u001b[0;34m'.\\xa0'\u001b[0m\u001b[0;34m)\u001b[0m\u001b[0;34m[\u001b[0m\u001b[0;36m1\u001b[0m\u001b[0;34m]\u001b[0m \u001b[0;32mif\u001b[0m \u001b[0;34m'.\\xa0'\u001b[0m \u001b[0;32min\u001b[0m \u001b[0mx\u001b[0m \u001b[0;32melse\u001b[0m \u001b[0mx\u001b[0m\u001b[0;34m.\u001b[0m\u001b[0msplit\u001b[0m\u001b[0;34m(\u001b[0m\u001b[0;34m'. '\u001b[0m\u001b[0;34m)\u001b[0m\u001b[0;34m[\u001b[0m\u001b[0;36m1\u001b[0m\u001b[0;34m]\u001b[0m\u001b[0;34m)\u001b[0m\u001b[0;34m\u001b[0m\u001b[0;34m\u001b[0m\u001b[0m\n\u001b[0m\u001b[1;32m     13\u001b[0m         \u001b[0mdata\u001b[0m\u001b[0;34m.\u001b[0m\u001b[0mtotal_offense_ypg\u001b[0m \u001b[0;34m=\u001b[0m \u001b[0mdata\u001b[0m\u001b[0;34m[\u001b[0m\u001b[0mcol_1\u001b[0m\u001b[0;34m]\u001b[0m\u001b[0;34m.\u001b[0m\u001b[0mastype\u001b[0m\u001b[0;34m(\u001b[0m\u001b[0mfloat\u001b[0m\u001b[0;34m)\u001b[0m\u001b[0;34m.\u001b[0m\u001b[0mastype\u001b[0m\u001b[0;34m(\u001b[0m\u001b[0mint\u001b[0m\u001b[0;34m)\u001b[0m\u001b[0;34m\u001b[0m\u001b[0;34m\u001b[0m\u001b[0m\n\u001b[1;32m     14\u001b[0m         \u001b[0mcleaned\u001b[0m\u001b[0;34m.\u001b[0m\u001b[0mappend\u001b[0m\u001b[0;34m(\u001b[0m\u001b[0mdata\u001b[0m\u001b[0;34m)\u001b[0m\u001b[0;34m\u001b[0m\u001b[0;34m\u001b[0m\u001b[0m\n",
      "\u001b[0;31mTypeError\u001b[0m: argument of type 'float' is not iterable"
     ]
    }
   ],
   "source": [
    "clean_tables = clean_data(tables_list)"
   ]
  },
  {
   "cell_type": "code",
   "execution_count": 69,
   "metadata": {},
   "outputs": [
    {
     "ename": "NameError",
     "evalue": "name 'clean_tables' is not defined",
     "output_type": "error",
     "traceback": [
      "\u001b[0;31m---------------------------------------------------------------------------\u001b[0m",
      "\u001b[0;31mNameError\u001b[0m                                 Traceback (most recent call last)",
      "\u001b[0;32m<ipython-input-69-0b1fb1eacedc>\u001b[0m in \u001b[0;36m<module>\u001b[0;34m\u001b[0m\n\u001b[0;32m----> 1\u001b[0;31m \u001b[0mclean_tables\u001b[0m\u001b[0;34m[\u001b[0m\u001b[0;36m0\u001b[0m\u001b[0;34m]\u001b[0m\u001b[0;34m\u001b[0m\u001b[0;34m\u001b[0m\u001b[0m\n\u001b[0m",
      "\u001b[0;31mNameError\u001b[0m: name 'clean_tables' is not defined"
     ]
    }
   ],
   "source": [
    "clean_tables[0]"
   ]
  },
  {
   "cell_type": "code",
   "execution_count": 70,
   "metadata": {},
   "outputs": [
    {
     "ename": "NameError",
     "evalue": "name 'clean_tables' is not defined",
     "output_type": "error",
     "traceback": [
      "\u001b[0;31m---------------------------------------------------------------------------\u001b[0m",
      "\u001b[0;31mNameError\u001b[0m                                 Traceback (most recent call last)",
      "\u001b[0;32m<ipython-input-70-c3910fa2d9d8>\u001b[0m in \u001b[0;36m<module>\u001b[0;34m\u001b[0m\n\u001b[0;32m----> 1\u001b[0;31m \u001b[0mclean_tables\u001b[0m\u001b[0;34m[\u001b[0m\u001b[0;36m3\u001b[0m\u001b[0;34m]\u001b[0m\u001b[0;34m\u001b[0m\u001b[0;34m\u001b[0m\u001b[0m\n\u001b[0m",
      "\u001b[0;31mNameError\u001b[0m: name 'clean_tables' is not defined"
     ]
    }
   ],
   "source": [
    "clean_tables[3]"
   ]
  },
  {
   "cell_type": "markdown",
   "metadata": {},
   "source": [
    "### The best example of when Selenium is supreme:\n",
    "\n",
    "When the page is written in JavaScript"
   ]
  },
  {
   "cell_type": "code",
   "execution_count": 71,
   "metadata": {},
   "outputs": [],
   "source": [
    "html = requests.get('http://www.tennisabstract.com/cgi-bin/player.cgi?p=RogerFederer')\n",
    "bs = BeautifulSoup(html.content, 'lxml')\n",
    "table = bs.table\n",
    "\n",
    "# table = bs.find(lambda tag: tag.name=='table' ) \n",
    "# rows = table.findAll(lambda tag: tag.name=='tr')"
   ]
  },
  {
   "cell_type": "code",
   "execution_count": 72,
   "metadata": {},
   "outputs": [
    {
     "data": {
      "text/plain": [
       "<html><head>\n",
       "<title>Tennis Abstract: Roger Federer ATP Match Results, Splits, and Analysis</title>\n",
       "<link href=\"http://www.minorleaguesplits.com/tennisabstract/blue/style.css\" rel=\"stylesheet\" type=\"text/css\"/>\n",
       "<script src=\"http://www.minorleaguesplits.com/tennisabstract/jquery-1.7.1-min.js\" type=\"text/javascript\"></script>\n",
       "<script src=\"http://www.minorleaguesplits.com/tennisabstract/jquery.tablesorter.js\" type=\"text/javascript\"></script>\n",
       "<script src=\"http://www.minorleaguesplits.com/tennisabstract/cgi-bin/frags/RogerFederer.js\" type=\"text/javascript\"></script>\n",
       "<script language=\"JavaScript\">\n",
       "var currentTime = new Date();\n",
       "var month = currentTime.getMonth() + 1;\n",
       "var day = currentTime.getDate();\n",
       "var year = currentTime.getFullYear().toString();\n",
       "var mm, dd;\n",
       "if (month < 10) {mm = '0' + month.toString();}\n",
       "else {mm = month.toString();}\n",
       "if (day < 10) {dd = '0' + day.toString();}\n",
       "else {dd = day.toString();}\n",
       "var today = year + mm + dd;\n",
       "var one_day=1000*60*60*24;\n",
       "var nameparam = 'RogerFederer';\n",
       "\n",
       "\n",
       "\n",
       "\n",
       "\n",
       "\n",
       "var fullname = 'Roger Federer';\n",
       "var lastname = 'Federer';\n",
       "var currentrank = 3;\n",
       "var peakrank = 1;\n",
       "var peakfirst = 20040202;\n",
       "var peaklast = 20180618;\n",
       "var dob = 19810808;\n",
       "var ht = 185;\n",
       "var hand = 'R';\n",
       "var backhand = '1';\n",
       "var country = 'SUI';\n",
       "var shortlist = 0;\n",
       "var careerjs = 0;\n",
       "var active = 1;\n",
       "var lastdate = 0;\n",
       "var twitter = 'rogerfederer';\n",
       "var current_dubs = \"UNR\";\n",
       "var peak_dubs = 24;\n",
       "var peakfirst_dubs = 20030609;\n",
       "var liverank = 5;\n",
       "var chartagg = 0;\n",
       "var photog = 'sirobi';\n",
       "var photog_credit = 'si.robi';\n",
       "var photog_link = 'https://www.flickr.com/photos/sirobi';\n",
       "var itf_id = '10019424';\n",
       "var atp_id = 'roger-federer/f324';\n",
       "var dc_id = '800202678';\n",
       "var wiki_id = 'Roger_Federer';\n",
       "\n",
       "\n",
       "var fourspaces = \"\\u00a0\\u00a0\\u00a0\\u00a0\";\n",
       "                  \n",
       "function make(tag, attr, cont) {\n",
       "    if (arguments.length == 2 && (attr instanceof Array || typeof attr == \"string\")) {\n",
       "        cont = attr;\n",
       "        attributes = null;\n",
       "        }\n",
       "    var open = \"<\" + tag;\n",
       "    var close = \"</\" + tag + \">\";\n",
       "    if (attr) {\n",
       "\tfor(var name in attr) {\n",
       "            attx = \" \" + name + '=\"' + attr[name] + '\"';\n",
       "\t    open = open.concat(attx);\n",
       "            }\n",
       "        }\n",
       "    open = open.concat(\">\");\n",
       "    if (cont instanceof Array) {\n",
       "\tvar content = cont.join(\"\");\n",
       "\t}\n",
       "    else {\n",
       "\tvar content = cont;\n",
       "\t} \n",
       "    var elem = open + content + close;\n",
       "    return elem;\n",
       "    }\n",
       "\n",
       "function sortRev(a,b) {return b - a;}\n",
       "\n",
       "var rmonths = {'Jan': '01',\n",
       "                'Feb': '02',\n",
       "                'Mar': '03',\n",
       "                'Apr': '04',\n",
       "                'May': '05',\n",
       "                'Jun': '06',\n",
       "                'Jul': '07',\n",
       "                'Aug': '08',\n",
       "                'Sep': '09',\n",
       "                'Oct': '10',\n",
       "                'Nov': '11',\n",
       "                'Dec': '12'\n",
       "                };\n",
       "\n",
       "var months = {'01': 'Jan',\n",
       "                '02': 'Feb',\n",
       "                '03': 'Mar',\n",
       "                '04': 'Apr',\n",
       "                '05': 'May',\n",
       "                '06': 'Jun',\n",
       "                '07': 'Jul',\n",
       "                '08': 'Aug',\n",
       "                '09': 'Sep',\n",
       "                '10': 'Oct',\n",
       "                '11': 'Nov',\n",
       "                '12': 'Dec'\n",
       "                };                        \n",
       "\n",
       "var bhdict = {'1': 'one', '2': 'two'};\n",
       "\n",
       "function insertPictureBio() {\n",
       "    var plname = '<span style=\"font-size:18px\"><b>' + fullname + ' [' + country + ']</b></span>';\n",
       "    if (typeof dob === 'undefined') {var birthdate = '';}\n",
       "    else {\n",
       "        var bd = dob.toString();\n",
       "        var birthdate = 'Date of birth: ' + bd.slice(6) + '-' + months[bd.slice(4, 6)] + '-' + bd.slice(0, 4);\n",
       "        }\n",
       "\n",
       "    var pic_src = 'http://www.tennisabstract.com/photos/' + fullname.toLowerCase().replace(/ /g, \"_\") + '-' + photog + '.jpg'\n",
       "    // background-color:d3d3d3; \n",
       "    var biotable = '<p id=\"biog\"><table style=\"border-spacing:0\"><tr><td><img src=\"' + pic_src + '\" height=\"225\" width=\"150\"></td>'\n",
       "    biotable = biotable + '<td>&nbsp;&nbsp;</td><td style=\"vertical-align:top\">'\n",
       "    biotable = biotable + '<table cellpadding=2 cellspacing=1><tr><td>' + plname + fourspaces + fourspaces + '</td></tr>';  \n",
       "\n",
       "    if (typeof twitter != 'undefined' && twitter != \"\") {\n",
       "        var tline = '<a href=\"https://twitter.com/' + twitter + '\" target=\"_blank\">@' + twitter + '</a>';\n",
       "        biotable = biotable + '<tr><td>' + tline + '</td></tr>';\n",
       "        }\n",
       "    else {\n",
       "        biotable = biotable + '<tr><td>&nbsp;</td></tr>'; \n",
       "        }\n",
       "\n",
       "    biotable = biotable + '<tr><td>' + birthdate + '</td></tr>';\n",
       "    var handed;\n",
       "    if (hand == 'R') {handed = 'Plays: Right-handed';}\n",
       "    else if (hand == 'L') {handed = 'Plays: Left-handed';}\n",
       "    else {handed = '';}\n",
       "    if (typeof backhand != 'undefined' && backhand != '') {handed = handed.slice(0,-7) + ' (' + bhdict[backhand] + '-handed backhand)';}\n",
       "    if (handed != '') {\n",
       "        biotable = biotable + '<tr><td>' + handed + '</td></tr>'; \n",
       "        }\n",
       "\n",
       "    if (currentrank == '') {var crank = '';}\n",
       "    else {var crank = 'Current rank: <b>'+currentrank.toString()+'</b>'}; \n",
       "    //if (typeof liverank != 'undefined' && liverank != '') {var lrank = '&nbsp;&nbsp;&nbsp;<a target=\"_blank\" href=\"http://live-tennis.eu/\"><i>Live: ' + liverank.toString() + '</i></a>';}\n",
       "    //else {var lrank = '';} \n",
       "    var lrank = '';\n",
       "    if (crank != '') {\n",
       "        biotable = biotable + '<tr><td>' + crank + lrank + '</td></tr>'; \n",
       "        }  \n",
       "\n",
       "    if (peakrank != 'UNR') {var prank = 'Peak rank: <b>' + peakrank.toString()+'</b>';}\n",
       "    else {var prank = '';}\n",
       "    if (peakfirst != '') {\n",
       "    \tvar pf = peakfirst.toString();\n",
       "    \tprank = prank + ' (' + pf.slice(6) + '-' + months[pf.slice(4, 6)] + '-' + pf.slice(0, 4) + ')';\n",
       "    \t}\n",
       "    if (prank != '') {\n",
       "        biotable = biotable + '<tr><td>' + prank + '</td></tr>'; \n",
       "        } \n",
       "        \n",
       "    if (peak_dubs == \"\" || peakfirst_dubs == \"\") {\n",
       "        var drank = '&nbsp;';\n",
       "        }\n",
       "    else if (typeof current_dubs === 'undefined' || current_dubs == \"\" || current_dubs == \"UNR\") {\n",
       "        if (!(typeof peak_dubs === 'undefined' || peak_dubs == \"\")) {\n",
       "            var drank = \"Doubles peak: <b>\" + peak_dubs.toString() + '</b>'\n",
       "            var pfd = peakfirst_dubs.toString();\n",
       "            drank = drank + ' (' + pfd.slice(6) + '-' + months[pfd.slice(4, 6)] + '-' + pfd.slice(0, 4) + ')';\n",
       "            }\n",
       "        else {drank = \"&nbsp;\";}\n",
       "        }\n",
       "    else {\n",
       "        var drank = \"Doubles rank: <b>\" + current_dubs.toString() + '</b>&nbsp;|&nbsp;';\n",
       "        drank = drank + 'Peak: <b>' + peak_dubs.toString() + '</b>'\n",
       "        }\n",
       "    biotable = biotable + '<tr><td>' + drank + '</td></tr>'; \n",
       "        \n",
       "    var profiles = '';\n",
       "    if (typeof atp_id != 'undefined' && atp_id != \"\") {\n",
       "        var atp_stem = \"http://www.atpworldtour.com/en/players/\";\n",
       "        profiles = profiles + '<a href=\"' + atp_stem + atp_id + '/overview\" target=\"_blank\" title=\"Profile at atpworldtour.com\">ATP</a> | ';\n",
       "        }   \n",
       "    if (typeof itf_id != 'undefined' && itf_id != \"\") {\n",
       "        var itf_stem = \"http://www.itftennis.com/procircuit/players/player/profile.aspx?playerid=\";\n",
       "        profiles = profiles + '<a href=\"' + itf_stem + itf_id + '\" target=\"_blank\" title=\"Profile at the ITF website\">ITF</a> | ';\n",
       "        }\n",
       "    if (typeof dc_id != 'undefined' && dc_id != \"\") {\n",
       "        var dc_stem = \"http://www.daviscup.com/en/players/player.aspx?id=\";\n",
       "        profiles = profiles + '<a href=\"' + dc_stem + dc_id + '\" target=\"_blank\" title=\"Profile at Davis Cup website\">DC</a> | ';\n",
       "        }\n",
       "    if (typeof wiki_id != 'undefined' && wiki_id != \"\") {\n",
       "        var wiki_stem = \"https://en.wikipedia.org/wiki/\";\n",
       "        profiles = profiles + '<a href=\"' + wiki_stem + wiki_id + '\" target=\"_blank\" title=\"Profile at Wikipedia\">Wiki</a> | '  ;\n",
       "        }\n",
       "        \n",
       "    if (profiles != '') {\n",
       "        biotable = biotable + '<tr><td>Profiles: ' + profiles.slice(0,-3) + '</td><td>&nbsp;</td></tr>';\n",
       "        } \n",
       "    else {\n",
       "        biotable = biotable + '<tr><td>&nbsp;</td></tr>'; \n",
       "        } \n",
       "\n",
       "    biotable = biotable + '<tr><td>&nbsp;</td></tr>';\n",
       "    biotable = biotable + '<tr><td>' + '<i>Photo: <a target=\"_blank\" href=\"' + photog_link + '\">' + photog_credit + '</a></i></td></tr>';\n",
       "\n",
       "    $(\"#bio\").html(biotable + '</table></td><td>&nbsp;&nbsp;</td></tr></table></p>');\n",
       "    }\n",
       "\n",
       "function insertBio() {\n",
       "    var plname = '<span style=\"font-size:18px\"><b>' + fullname + ' [' + country + ']</b></span>';\n",
       "    if (typeof dob === 'undefined') {var birthdate = '';}\n",
       "    else {\n",
       "        var bd = dob.toString();\n",
       "        var birthdate = 'Date of birth: ' + bd.slice(6) + '-' + months[bd.slice(4, 6)] + '-' + bd.slice(0, 4);\n",
       "        }\n",
       "    var handed;\n",
       "    if (hand == 'R') {handed = 'Plays: Right-handed';}\n",
       "    else if (hand == 'L') {handed = 'Plays: Left-handed';}\n",
       "    else {handed = '';}\n",
       "    if (typeof backhand != 'undefined' && backhand != '') {handed = handed.slice(0,-7) + ' (' + bhdict[backhand] + '-handed backhand)';}\n",
       "    if (currentrank == '') {var crank = '';}\n",
       "    else {var crank = 'Current rank: <b>'+currentrank.toString()+'</b>'}; \n",
       "    // if (typeof liverank != 'undefined' && liverank != '') {var lrank = '&nbsp;&nbsp;&nbsp;<a target=\"_blank\" href=\"http://live-tennis.eu/\"><i>Live: ' + liverank.toString() + '</i></a>';}\n",
       "    // else {var lrank = '';}\n",
       "    var lrank = '';\n",
       "    if (peakrank != 'UNR') {var prank = 'Peak rank: <b>' + peakrank.toString()+'</b>';}\n",
       "    else {var prank = '';}\n",
       "    if (peakfirst != '') {\n",
       "    \tvar pf = peakfirst.toString();\n",
       "    \tprank = prank + ' (' + pf.slice(6) + '-' + months[pf.slice(4, 6)] + '-' + pf.slice(0, 4) + ')';\n",
       "    \t}\n",
       "    //if (typeof twitter != 'undefined' && twitter != \"\") {var tline = 'Twitter: <a href=\"https://twitter.com/' + twitter + '\" target=\"_blank\">@' + twitter + '</a>';}\n",
       "    if (typeof twitter != 'undefined' && twitter != \"\") {var tline = '<a href=\"https://twitter.com/' + twitter + '\" target=\"_blank\">@' + twitter + '</a>';}\n",
       "    else {var tline = '';}\n",
       "    var biotable = '<p id=\"biog\"><table cellpadding=1 cellspacing=1><tr><td>' + plname + fourspaces + fourspaces + '</td><td>' + tline + '</td></tr>';\n",
       "    if (birthdate != '') {var rowtwo = '<tr><td>' + birthdate + fourspaces + fourspaces + '</td><td>' + handed + '</td></tr>';}\n",
       "    else {var rowtwo = '<tr><td>' + handed + '</td><td>&nbsp;</td></tr>';}\n",
       "    if (crank != '') {var rowthree = '<tr><td>' + crank + lrank + '</td><td>' + prank + '</td></tr>';}\n",
       "    else {var rowthree = '<tr><td>' + prank + '</td><td>&nbsp;</td></tr>';}\n",
       "    \n",
       "    var profiles = '';\n",
       "    if (typeof atp_id != 'undefined' && atp_id != \"\") {\n",
       "        var atp_stem = \"http://www.atpworldtour.com/en/players/\";\n",
       "        profiles = profiles + '<a href=\"' + atp_stem + atp_id + '/overview\" target=\"_blank\" title=\"Profile at atpworldtour.com\">ATP</a> | ';\n",
       "        }   \n",
       "    if (typeof itf_id != 'undefined' && itf_id != \"\") {\n",
       "        var itf_stem = \"http://www.itftennis.com/procircuit/players/player/profile.aspx?playerid=\";\n",
       "        profiles = profiles + '<a href=\"' + itf_stem + itf_id + '\" target=\"_blank\" title=\"Profile at the ITF website\">ITF</a> | ';\n",
       "        }\n",
       "    if (typeof dc_id != 'undefined' && dc_id != \"\") {\n",
       "        var dc_stem = \"http://www.daviscup.com/en/players/player.aspx?id=\";\n",
       "        profiles = profiles + '<a href=\"' + dc_stem + dc_id + '\" target=\"_blank\" title=\"Profile at Davis Cup website\">DC</a> | ';\n",
       "        }\n",
       "    if (typeof wiki_id != 'undefined' && wiki_id != \"\") {\n",
       "        var wiki_stem = \"https://en.wikipedia.org/wiki/\";\n",
       "        profiles = profiles + '<a href=\"' + wiki_stem + wiki_id + '\" target=\"_blank\" title=\"Profile at Wikipedia\">Wiki</a> | '  ;\n",
       "        }\n",
       "        \n",
       "    if (profiles != '') {\n",
       "        var profile_row = '<tr><td>Profiles: ' + profiles.slice(0,-3) + '</td><td>&nbsp;</td></tr>';\n",
       "        } \n",
       "    else {var profile_row = '<tr><td>&nbsp;</td><td>&nbsp;</td></tr>';}      \n",
       "\n",
       "    $(\"#bio\").html(biotable + rowtwo + rowthree + profile_row + '</table></p>');\n",
       "    }    \n",
       "\n",
       "$(document).ready(function() { \n",
       "\n",
       "    if (typeof photog == 'undefined' || photog == '') {\n",
       "        insertBio();\n",
       "        }\n",
       "    else {\n",
       "        insertPictureBio();\n",
       "        }\n",
       "        \n",
       "    $(\"#main\").html(player_frag)\n",
       "    $(\"#menu\").html(frag_menu)\n",
       "    \n",
       "    $(\"#recent-results\").attr('border', 0).attr('cellspacing', 0).attr('cellpadding', 4);\n",
       "    $(\"#recent-results\").tablesorter( {headers: {0: {sorter:false}, 1: {sorter:false}, 2: {sorter:false}, 3: {sorter:false},\n",
       "                                                 4: {sorter:false}, 5: {sorter:false}, 6: {sorter:false}, 7: {sorter:false},\n",
       "                                                8: {sorter:false}, 9: {sorter:false}, 10: {sorter:false}, 11: {sorter:false},\n",
       "                                                12: {sorter:false}, 13: {sorter:false}, 14: {sorter:false}, 15: {sorter:false},\n",
       "                                                16: {sorter:false}, 17: {sorter:false}, 18: {sorter:false}, 19: {sorter:false},\n",
       "                                                20: {sorter:false}, 21: {sorter:false}, 22: {sorter:false}, 23: {sorter:false},\n",
       "                                                24: {sorter:false}, 25: {sorter:false}, 26: {sorter:false}, 27: {sorter:false}\n",
       "                                    }}\n",
       "                                   );\n",
       "                                   \n",
       "    $(\"#recent-events\").attr('border', 0).attr('cellspacing', 0).attr('cellpadding', 4);\n",
       "    $(\"#recent-events\").tablesorter( {headers: {0: {sorter:false}, 1: {sorter:false}, 2: {sorter:false}, 3: {sorter:false},\n",
       "                                                 4: {sorter:false}, 5: {sorter:false}, 6: {sorter:false}, 7: {sorter:false},\n",
       "                                                8: {sorter:false}, 9: {sorter:false}, 10: {sorter:false}, 11: {sorter:false},\n",
       "                                                12: {sorter:false}, 13: {sorter:false}, 14: {sorter:false}, 15: {sorter:false},\n",
       "                                                16: {sorter:false}, 17: {sorter:false}, 18: {sorter:false}, 19: {sorter:false},\n",
       "                                                20: {sorter:false}, 21: {sorter:false}, 22: {sorter:false}, 23: {sorter:false},\n",
       "                                                24: {sorter:false}, 25: {sorter:false}, 26: {sorter:false}, 27: {sorter:false}\n",
       "                                    }}\n",
       "                                   );                                   \n",
       "\n",
       "    $(\"#recent-finals\").attr('border', 0).attr('cellspacing', 0).attr('cellpadding', 4);\n",
       "    $(\"#recent-finals\").tablesorter( {headers: {0: {sorter:false}, 1: {sorter:false}, 2: {sorter:false}, 3: {sorter:false},\n",
       "                                                 4: {sorter:false}, 5: {sorter:false}, 6: {sorter:false}, 7: {sorter:false},\n",
       "                                                8: {sorter:false}, 9: {sorter:false}, 10: {sorter:false}, 11: {sorter:false},\n",
       "                                                12: {sorter:false}, 13: {sorter:false}, 14: {sorter:false}, 15: {sorter:false},\n",
       "                                                16: {sorter:false}, 17: {sorter:false}, 18: {sorter:false}, 19: {sorter:false},\n",
       "                                                20: {sorter:false}, 21: {sorter:false}, 22: {sorter:false}, 23: {sorter:false},\n",
       "                                                24: {sorter:false}, 25: {sorter:false}, 26: {sorter:false}, 27: {sorter:false}\n",
       "                                    }}\n",
       "                                   );\n",
       "                                   \n",
       "    $(\"#tour-years\").attr('border', 0).attr('cellspacing', 0).attr('cellpadding', 4);\n",
       "    $(\"#tour-years\").tablesorter( {headers: {0: {sorter:false}, 1: {sorter:false}, 2: {sorter:false}, 3: {sorter:false},\n",
       "                                                 4: {sorter:false}, 5: {sorter:false}, 6: {sorter:false}, 7: {sorter:false},\n",
       "                                                8: {sorter:false}, 9: {sorter:false}, 10: {sorter:false}, 11: {sorter:false},\n",
       "                                                12: {sorter:false}, 13: {sorter:false}, 14: {sorter:false}, 15: {sorter:false},\n",
       "                                                16: {sorter:false}, 17: {sorter:false}, 18: {sorter:false}, 19: {sorter:false},\n",
       "                                                20: {sorter:false}, 21: {sorter:false}, 22: {sorter:false}, 23: {sorter:false},\n",
       "                                                24: {sorter:false}, 25: {sorter:false}, 26: {sorter:false}, 27: {sorter:false}\n",
       "                                    }}\n",
       "                                   );\n",
       "                                   \n",
       "    $(\"#chall-years\").attr('border', 0).attr('cellspacing', 0).attr('cellpadding', 4);\n",
       "    $(\"#chall-years\").tablesorter( {headers: {0: {sorter:false}, 1: {sorter:false}, 2: {sorter:false}, 3: {sorter:false},\n",
       "                                                 4: {sorter:false}, 5: {sorter:false}, 6: {sorter:false}, 7: {sorter:false},\n",
       "                                                8: {sorter:false}, 9: {sorter:false}, 10: {sorter:false}, 11: {sorter:false},\n",
       "                                                12: {sorter:false}, 13: {sorter:false}, 14: {sorter:false}, 15: {sorter:false},\n",
       "                                                16: {sorter:false}, 17: {sorter:false}, 18: {sorter:false}, 19: {sorter:false},\n",
       "                                                20: {sorter:false}, 21: {sorter:false}, 22: {sorter:false}, 23: {sorter:false},\n",
       "                                                24: {sorter:false}, 25: {sorter:false}, 26: {sorter:false}, 27: {sorter:false}\n",
       "                                    }}\n",
       "                                   );\n",
       "                                   \n",
       "    $(\"#career-splits\").attr('border', 0).attr('cellspacing', 0).attr('cellpadding', 4);\n",
       "    $(\"#career-splits\").tablesorter( {headers: {0: {sorter:false}, 1: {sorter:false}, 2: {sorter:false}, 3: {sorter:false},\n",
       "                                                 4: {sorter:false}, 5: {sorter:false}, 6: {sorter:false}, 7: {sorter:false},\n",
       "                                                8: {sorter:false}, 9: {sorter:false}, 10: {sorter:false}, 11: {sorter:false},\n",
       "                                                12: {sorter:false}, 13: {sorter:false}, 14: {sorter:false}, 15: {sorter:false},\n",
       "                                                16: {sorter:false}, 17: {sorter:false}, 18: {sorter:false}, 19: {sorter:false},\n",
       "                                                20: {sorter:false}, 21: {sorter:false}, 22: {sorter:false}, 23: {sorter:false},\n",
       "                                                24: {sorter:false}, 25: {sorter:false}, 26: {sorter:false}, 27: {sorter:false}\n",
       "                                    }}\n",
       "                                   );\n",
       "                                   \n",
       "    $(\"#last52-splits\").attr('border', 0).attr('cellspacing', 0).attr('cellpadding', 4);\n",
       "    $(\"#last52-splits\").tablesorter( {headers: {0: {sorter:false}, 1: {sorter:false}, 2: {sorter:false}, 3: {sorter:false},\n",
       "                                                 4: {sorter:false}, 5: {sorter:false}, 6: {sorter:false}, 7: {sorter:false},\n",
       "                                                8: {sorter:false}, 9: {sorter:false}, 10: {sorter:false}, 11: {sorter:false},\n",
       "                                                12: {sorter:false}, 13: {sorter:false}, 14: {sorter:false}, 15: {sorter:false},\n",
       "                                                16: {sorter:false}, 17: {sorter:false}, 18: {sorter:false}, 19: {sorter:false},\n",
       "                                                20: {sorter:false}, 21: {sorter:false}, 22: {sorter:false}, 23: {sorter:false},\n",
       "                                                24: {sorter:false}, 25: {sorter:false}, 26: {sorter:false}, 27: {sorter:false}\n",
       "                                    }}\n",
       "                                   );\n",
       "                                   \n",
       "    $(\"#news-analysis\").attr('border', 0).attr('cellspacing', 0).attr('cellpadding', 4);\n",
       "    $(\"#news-analysis\").tablesorter( {headers: {0: {sorter:false}, 1: {sorter:false}, 2: {sorter:false}, 3: {sorter:false},\n",
       "                                                 4: {sorter:false}, 5: {sorter:false}, 6: {sorter:false}, 7: {sorter:false},\n",
       "                                                8: {sorter:false}, 9: {sorter:false}, 10: {sorter:false}, 11: {sorter:false},\n",
       "                                                12: {sorter:false}, 13: {sorter:false}, 14: {sorter:false}, 15: {sorter:false},\n",
       "                                                16: {sorter:false}, 17: {sorter:false}, 18: {sorter:false}, 19: {sorter:false},\n",
       "                                                20: {sorter:false}, 21: {sorter:false}, 22: {sorter:false}, 23: {sorter:false},\n",
       "                                                24: {sorter:false}, 25: {sorter:false}, 26: {sorter:false}, 27: {sorter:false}\n",
       "                                    }}\n",
       "                                   );\n",
       "                                   \n",
       "    $(\"#mcp-serve\").attr('border', 0).attr('cellspacing', 0).attr('cellpadding', 4);\n",
       "    $(\"#mcp-serve\").tablesorter( {headers: {0: {sorter:false}, 1: {sorter:false}, 2: {sorter:false}, 3: {sorter:false},\n",
       "                                                 4: {sorter:false}, 5: {sorter:false}, 6: {sorter:false}, 7: {sorter:false},\n",
       "                                                8: {sorter:false}, 9: {sorter:false}, 10: {sorter:false}, 11: {sorter:false},\n",
       "                                                12: {sorter:false}, 13: {sorter:false}, 14: {sorter:false}, 15: {sorter:false},\n",
       "                                                16: {sorter:false}, 17: {sorter:false}, 18: {sorter:false}, 19: {sorter:false},\n",
       "                                                20: {sorter:false}, 21: {sorter:false}, 22: {sorter:false}, 23: {sorter:false},\n",
       "                                                24: {sorter:false}, 25: {sorter:false}, 26: {sorter:false}, 27: {sorter:false}\n",
       "                                    }}\n",
       "                                   );\n",
       "                                   \n",
       "    $(\"#mcp-return\").attr('border', 0).attr('cellspacing', 0).attr('cellpadding', 4);\n",
       "    $(\"#mcp-return\").tablesorter( {headers: {0: {sorter:false}, 1: {sorter:false}, 2: {sorter:false}, 3: {sorter:false},\n",
       "                                                 4: {sorter:false}, 5: {sorter:false}, 6: {sorter:false}, 7: {sorter:false},\n",
       "                                                8: {sorter:false}, 9: {sorter:false}, 10: {sorter:false}, 11: {sorter:false},\n",
       "                                                12: {sorter:false}, 13: {sorter:false}, 14: {sorter:false}, 15: {sorter:false},\n",
       "                                                16: {sorter:false}, 17: {sorter:false}, 18: {sorter:false}, 19: {sorter:false},\n",
       "                                                20: {sorter:false}, 21: {sorter:false}, 22: {sorter:false}, 23: {sorter:false},\n",
       "                                                24: {sorter:false}, 25: {sorter:false}, 26: {sorter:false}, 27: {sorter:false}\n",
       "                                    }}\n",
       "                                   );\n",
       "                                   \n",
       "    $(\"#mcp-rally\").attr('border', 0).attr('cellspacing', 0).attr('cellpadding', 4);\n",
       "    $(\"#mcp-rally\").tablesorter( {headers: {0: {sorter:false}, 1: {sorter:false}, 2: {sorter:false}, 3: {sorter:false},\n",
       "                                                 4: {sorter:false}, 5: {sorter:false}, 6: {sorter:false}, 7: {sorter:false},\n",
       "                                                8: {sorter:false}, 9: {sorter:false}, 10: {sorter:false}, 11: {sorter:false},\n",
       "                                                12: {sorter:false}, 13: {sorter:false}, 14: {sorter:false}, 15: {sorter:false},\n",
       "                                                16: {sorter:false}, 17: {sorter:false}, 18: {sorter:false}, 19: {sorter:false},\n",
       "                                                20: {sorter:false}, 21: {sorter:false}, 22: {sorter:false}, 23: {sorter:false},\n",
       "                                                24: {sorter:false}, 25: {sorter:false}, 26: {sorter:false}, 27: {sorter:false}\n",
       "                                    }}\n",
       "                                   );\n",
       "\n",
       "    $(\"#mcp-tactics\").attr('border', 0).attr('cellspacing', 0).attr('cellpadding', 4);\n",
       "    $(\"#mcp-tactics\").tablesorter( {headers: {0: {sorter:false}, 1: {sorter:false}, 2: {sorter:false}, 3: {sorter:false},\n",
       "                                                 4: {sorter:false}, 5: {sorter:false}, 6: {sorter:false}, 7: {sorter:false},\n",
       "                                                8: {sorter:false}, 9: {sorter:false}, 10: {sorter:false}, 11: {sorter:false},\n",
       "                                                12: {sorter:false}, 13: {sorter:false}, 14: {sorter:false}, 15: {sorter:false},\n",
       "                                                16: {sorter:false}, 17: {sorter:false}, 18: {sorter:false}, 19: {sorter:false},\n",
       "                                                20: {sorter:false}, 21: {sorter:false}, 22: {sorter:false}, 23: {sorter:false},\n",
       "                                                24: {sorter:false}, 25: {sorter:false}, 26: {sorter:false}, 27: {sorter:false}\n",
       "                                    }}\n",
       "                                   );\n",
       "                                   \n",
       "    $(\"#head-to-heads\").attr('border', 0).attr('cellspacing', 0).attr('cellpadding', 4);\n",
       "    $(\"#head-to-heads\").tablesorter( {headers: {0: {sorter:false}, 1: {sorter:false}, 2: {sorter:false}, 3: {sorter:false},\n",
       "                                                 4: {sorter:false}, 5: {sorter:false}, 6: {sorter:false}, 7: {sorter:false},\n",
       "                                                8: {sorter:false}, 9: {sorter:false}, 10: {sorter:false}, 11: {sorter:false},\n",
       "                                                12: {sorter:false}, 13: {sorter:false}, 14: {sorter:false}, 15: {sorter:false},\n",
       "                                                16: {sorter:false}, 17: {sorter:false}, 18: {sorter:false}, 19: {sorter:false},\n",
       "                                                20: {sorter:false}, 21: {sorter:false}, 22: {sorter:false}, 23: {sorter:false},\n",
       "                                                24: {sorter:false}, 25: {sorter:false}, 26: {sorter:false}, 27: {sorter:false}\n",
       "                                    }}\n",
       "                                   );\n",
       "                                   \n",
       "    $(\"#tour-results\").attr('border', 0).attr('cellspacing', 0).attr('cellpadding', 4);\n",
       "    $(\"#tour-results\").tablesorter( {headers: {0: {sorter:false}, 1: {sorter:false}, 2: {sorter:false}, 3: {sorter:false},\n",
       "                                                 4: {sorter:false}, 5: {sorter:false}, 6: {sorter:false}, 7: {sorter:false},\n",
       "                                                8: {sorter:false}, 9: {sorter:false}, 10: {sorter:false}, 11: {sorter:false},\n",
       "                                                12: {sorter:false}, 13: {sorter:false}, 14: {sorter:false}, 15: {sorter:false},\n",
       "                                                16: {sorter:false}, 17: {sorter:false}, 18: {sorter:false}, 19: {sorter:false},\n",
       "                                                20: {sorter:false}, 21: {sorter:false}, 22: {sorter:false}, 23: {sorter:false},\n",
       "                                                24: {sorter:false}, 25: {sorter:false}, 26: {sorter:false}, 27: {sorter:false}\n",
       "                                    }}\n",
       "                                   );\n",
       "                                   \n",
       "    $(\"#match-results\").attr('border', 0).attr('cellspacing', 0).attr('cellpadding', 4);\n",
       "    $(\"#match-results\").tablesorter( {headers: {0: {sorter:false}, 1: {sorter:false}, 2: {sorter:false}, 3: {sorter:false},\n",
       "                                                 4: {sorter:false}, 5: {sorter:false}, 6: {sorter:false}, 7: {sorter:false},\n",
       "                                                8: {sorter:false}, 9: {sorter:false}, 10: {sorter:false}, 11: {sorter:false},\n",
       "                                                12: {sorter:false}, 13: {sorter:false}, 14: {sorter:false}, 15: {sorter:false},\n",
       "                                                16: {sorter:false}, 17: {sorter:false}, 18: {sorter:false}, 19: {sorter:false},\n",
       "                                                20: {sorter:false}, 21: {sorter:false}, 22: {sorter:false}, 23: {sorter:false},\n",
       "                                                24: {sorter:false}, 25: {sorter:false}, 26: {sorter:false}, 27: {sorter:false}\n",
       "                                    }}\n",
       "                                   );\n",
       "                                   \n",
       "    $(\"#career-splits-chall\").attr('border', 0).attr('cellspacing', 0).attr('cellpadding', 4);\n",
       "    $(\"#career-splits-chall\").tablesorter( {headers: {0: {sorter:false}, 1: {sorter:false}, 2: {sorter:false}, 3: {sorter:false},\n",
       "                                                 4: {sorter:false}, 5: {sorter:false}, 6: {sorter:false}, 7: {sorter:false},\n",
       "                                                8: {sorter:false}, 9: {sorter:false}, 10: {sorter:false}, 11: {sorter:false},\n",
       "                                                12: {sorter:false}, 13: {sorter:false}, 14: {sorter:false}, 15: {sorter:false},\n",
       "                                                16: {sorter:false}, 17: {sorter:false}, 18: {sorter:false}, 19: {sorter:false},\n",
       "                                                20: {sorter:false}, 21: {sorter:false}, 22: {sorter:false}, 23: {sorter:false},\n",
       "                                                24: {sorter:false}, 25: {sorter:false}, 26: {sorter:false}, 27: {sorter:false}\n",
       "                                    }}\n",
       "                                   );\n",
       "                                   \n",
       "    $(\"#last52-splits-chall\").attr('border', 0).attr('cellspacing', 0).attr('cellpadding', 4);\n",
       "    $(\"#last52-splits-chall\").tablesorter( {headers: {0: {sorter:false}, 1: {sorter:false}, 2: {sorter:false}, 3: {sorter:false},\n",
       "                                                 4: {sorter:false}, 5: {sorter:false}, 6: {sorter:false}, 7: {sorter:false},\n",
       "                                                8: {sorter:false}, 9: {sorter:false}, 10: {sorter:false}, 11: {sorter:false},\n",
       "                                                12: {sorter:false}, 13: {sorter:false}, 14: {sorter:false}, 15: {sorter:false},\n",
       "                                                16: {sorter:false}, 17: {sorter:false}, 18: {sorter:false}, 19: {sorter:false},\n",
       "                                                20: {sorter:false}, 21: {sorter:false}, 22: {sorter:false}, 23: {sorter:false},\n",
       "                                                24: {sorter:false}, 25: {sorter:false}, 26: {sorter:false}, 27: {sorter:false}\n",
       "                                    }}\n",
       "                                   );\n",
       "                                   \n",
       "    $(\"#year-end-rankings\").attr('border', 0).attr('cellspacing', 0).attr('cellpadding', 4);\n",
       "    $(\"#year-end-rankings\").tablesorter( {headers: {0: {sorter:false}, 1: {sorter:false}, 2: {sorter:false}, 3: {sorter:false},\n",
       "                                                 4: {sorter:false}, 5: {sorter:false}, 6: {sorter:false}, 7: {sorter:false},\n",
       "                                                8: {sorter:false}, 9: {sorter:false}, 10: {sorter:false}, 11: {sorter:false},\n",
       "                                                12: {sorter:false}, 13: {sorter:false}, 14: {sorter:false}, 15: {sorter:false},\n",
       "                                                16: {sorter:false}, 17: {sorter:false}, 18: {sorter:false}, 19: {sorter:false},\n",
       "                                                20: {sorter:false}, 21: {sorter:false}, 22: {sorter:false}, 23: {sorter:false},\n",
       "                                                24: {sorter:false}, 25: {sorter:false}, 26: {sorter:false}, 27: {sorter:false}\n",
       "                                    }}\n",
       "                                   );\n",
       "                                   \n",
       "    $(\"#titles-finals\").attr('border', 0).attr('cellspacing', 0).attr('cellpadding', 4);\n",
       "    $(\"#titles-finals\").tablesorter( {headers: {0: {sorter:false}, 1: {sorter:false}, 2: {sorter:false}, 3: {sorter:false},\n",
       "                                                 4: {sorter:false}, 5: {sorter:false}, 6: {sorter:false}, 7: {sorter:false},\n",
       "                                                8: {sorter:false}, 9: {sorter:false}, 10: {sorter:false}, 11: {sorter:false},\n",
       "                                                12: {sorter:false}, 13: {sorter:false}, 14: {sorter:false}, 15: {sorter:false},\n",
       "                                                16: {sorter:false}, 17: {sorter:false}, 18: {sorter:false}, 19: {sorter:false},\n",
       "                                                20: {sorter:false}, 21: {sorter:false}, 22: {sorter:false}, 23: {sorter:false},\n",
       "                                                24: {sorter:false}, 25: {sorter:false}, 26: {sorter:false}, 27: {sorter:false}\n",
       "                                    }}\n",
       "                                   );\n",
       "                                   \n",
       "    $(\"#pbp-points\").attr('border', 0).attr('cellspacing', 0).attr('cellpadding', 4);\n",
       "    $(\"#pbp-points\").tablesorter( {headers: {0: {sorter:false}, 1: {sorter:false}, 2: {sorter:false}, 3: {sorter:false},\n",
       "                                                 4: {sorter:false}, 5: {sorter:false}, 6: {sorter:false}, 7: {sorter:false},\n",
       "                                                8: {sorter:false}, 9: {sorter:false}, 10: {sorter:false}, 11: {sorter:false},\n",
       "                                                12: {sorter:false}, 13: {sorter:false}, 14: {sorter:false}, 15: {sorter:false},\n",
       "                                                16: {sorter:false}, 17: {sorter:false}, 18: {sorter:false}, 19: {sorter:false},\n",
       "                                                20: {sorter:false}, 21: {sorter:false}, 22: {sorter:false}, 23: {sorter:false},\n",
       "                                                24: {sorter:false}, 25: {sorter:false}, 26: {sorter:false}, 27: {sorter:false}\n",
       "                                    }}\n",
       "                                   );\n",
       "                                   \n",
       "    $(\"#pbp-games\").attr('border', 0).attr('cellspacing', 0).attr('cellpadding', 4);\n",
       "    $(\"#pbp-games\").tablesorter( {headers: {0: {sorter:false}, 1: {sorter:false}, 2: {sorter:false}, 3: {sorter:false},\n",
       "                                                 4: {sorter:false}, 5: {sorter:false}, 6: {sorter:false}, 7: {sorter:false},\n",
       "                                                8: {sorter:false}, 9: {sorter:false}, 10: {sorter:false}, 11: {sorter:false},\n",
       "                                                12: {sorter:false}, 13: {sorter:false}, 14: {sorter:false}, 15: {sorter:false},\n",
       "                                                16: {sorter:false}, 17: {sorter:false}, 18: {sorter:false}, 19: {sorter:false},\n",
       "                                                20: {sorter:false}, 21: {sorter:false}, 22: {sorter:false}, 23: {sorter:false},\n",
       "                                                24: {sorter:false}, 25: {sorter:false}, 26: {sorter:false}, 27: {sorter:false}\n",
       "                                    }}\n",
       "                                   );\n",
       "                                   \n",
       "    $(\"#pbp-stats\").attr('border', 0).attr('cellspacing', 0).attr('cellpadding', 4);\n",
       "    $(\"#pbp-stats\").tablesorter( {headers: {0: {sorter:false}, 1: {sorter:false}, 2: {sorter:false}, 3: {sorter:false},\n",
       "                                                 4: {sorter:false}, 5: {sorter:false}, 6: {sorter:false}, 7: {sorter:false},\n",
       "                                                8: {sorter:false}, 9: {sorter:false}, 10: {sorter:false}, 11: {sorter:false},\n",
       "                                                12: {sorter:false}, 13: {sorter:false}, 14: {sorter:false}, 15: {sorter:false},\n",
       "                                                16: {sorter:false}, 17: {sorter:false}, 18: {sorter:false}, 19: {sorter:false},\n",
       "                                                20: {sorter:false}, 21: {sorter:false}, 22: {sorter:false}, 23: {sorter:false},\n",
       "                                                24: {sorter:false}, 25: {sorter:false}, 26: {sorter:false}, 27: {sorter:false}\n",
       "                                    }}\n",
       "                                   );\n",
       "                                   \n",
       "    $(\"#serve-speed\").attr('border', 0).attr('cellspacing', 0).attr('cellpadding', 4);\n",
       "    $(\"#serve-speed\").tablesorter( {headers: {0: {sorter:false}, 1: {sorter:false}, 2: {sorter:false}, 3: {sorter:false},\n",
       "                                                 4: {sorter:false}, 5: {sorter:false}, 6: {sorter:false}, 7: {sorter:false},\n",
       "                                                8: {sorter:false}, 9: {sorter:false}, 10: {sorter:false}, 11: {sorter:false},\n",
       "                                                12: {sorter:false}, 13: {sorter:false}, 14: {sorter:false}, 15: {sorter:false},\n",
       "                                                16: {sorter:false}, 17: {sorter:false}, 18: {sorter:false}, 19: {sorter:false},\n",
       "                                                20: {sorter:false}, 21: {sorter:false}, 22: {sorter:false}, 23: {sorter:false},\n",
       "                                                24: {sorter:false}, 25: {sorter:false}, 26: {sorter:false}, 27: {sorter:false}\n",
       "                                    }}\n",
       "                                   );\n",
       "                                   \n",
       "    $(\"#winners-errors\").attr('border', 0).attr('cellspacing', 0).attr('cellpadding', 4);\n",
       "    $(\"#winners-errors\").tablesorter( {headers: {0: {sorter:false}, 1: {sorter:false}, 2: {sorter:false}, 3: {sorter:false},\n",
       "                                                 4: {sorter:false}, 5: {sorter:false}, 6: {sorter:false}, 7: {sorter:false},\n",
       "                                                8: {sorter:false}, 9: {sorter:false}, 10: {sorter:false}, 11: {sorter:false},\n",
       "                                                12: {sorter:false}, 13: {sorter:false}, 14: {sorter:false}, 15: {sorter:false},\n",
       "                                                16: {sorter:false}, 17: {sorter:false}, 18: {sorter:false}, 19: {sorter:false},\n",
       "                                                20: {sorter:false}, 21: {sorter:false}, 22: {sorter:false}, 23: {sorter:false},\n",
       "                                                24: {sorter:false}, 25: {sorter:false}, 26: {sorter:false}, 27: {sorter:false}\n",
       "                                    }}\n",
       "                                   );\n",
       "                                   \n",
       "    $.getScript(\"http://www.minorleaguesplits.com/tennisabstract/jquery.ui.core.js\", function() {});\n",
       "    $.getScript(\"http://www.minorleaguesplits.com/tennisabstract/jquery.ui.position.js\", function() {});\n",
       "    $.getScript(\"http://www.minorleaguesplits.com/tennisabstract/jquery.ui.widget.js\", function() {});\n",
       "    $.getScript(\"http://www.minorleaguesplits.com/tennisabstract/cgi-bin/jsplayers/mwplayerlist.js\", function() {}); \n",
       "    $.getScript(\"http://www.minorleaguesplits.com/tennisabstract/jquery.ui.autocomplete.js\", function() {});    \n",
       "    $('#playersearch').append($('<input>').attr('id', 'tags'));\n",
       "\n",
       "    var searchbox = \"Player Search\";\t\t\n",
       "    $(\"#tags\").val(searchbox);\n",
       "    $(\"#tags\").focus(function() {\n",
       "        if ($(this).val() == searchbox) {$(this).val(\"\");}\n",
       "        $( \"#tags\" ).autocomplete({\n",
       "                source: playerlist,\n",
       "                minLength: 2,\n",
       "                select: function(e, ui) {\n",
       "                    var playerselect = ui.item.value;\n",
       "                    var player = playerselect.slice(4);\n",
       "                    var mw = playerselect.slice(1,2);\n",
       "                    if (mw == 'M') {\n",
       "                        var playerurl = 'http://www.tennisabstract.com/cgi-bin/player.cgi?p=' + player.replace(/ /g, '');\n",
       "                        }\n",
       "                    else {\n",
       "                        var playerurl = 'http://www.tennisabstract.com/cgi-bin/wplayer.cgi?p=' + player.replace(/ /g, '');\n",
       "                        }                        \n",
       "                    window.open(playerurl, \"_self\");\n",
       "                    }\n",
       "            });\n",
       "        }); \n",
       "    })\n",
       "\n",
       "</script>\n",
       "<style type=\"text/css\">\n",
       "u {    \n",
       "    border-bottom: 1px dotted #000;\n",
       "    text-decoration: none;\n",
       "}\n",
       "</style>\n",
       "</head>\n",
       "<body>\n",
       "<table width=\"1240px\">\n",
       "<tr>\n",
       "<td align=\"left\"> </td>\n",
       "<td align=\"right\">\n",
       "<a href=\"http://www.tennisabstract.com/blog\">HeavyTopspin.com</a> | <a href=\"https://twitter.com/tennisabstract\">Twitter</a>\n",
       "</td>\n",
       "</tr>\n",
       "</table>\n",
       "<div id=\"header\">\n",
       "<table width=\"1240px\">\n",
       "<tr>\n",
       "<td align=\"left\" class=\"headline\">\n",
       "<h1><span class=\"blackheader\">\n",
       "<a href=\"http://www.tennisabstract.com\">tennis<span style=\"color: blue\">abstract</span>.com</a></span></h1></td>\n",
       "<td align=\"right\" id=\"playersearch\" style=\"vertical-align:top\"> </td>\n",
       "</tr>\n",
       "<tr><td> </td><td> </td>\n",
       "</tr>\n",
       "<tr>\n",
       "<td align=\"left\" style=\"vertical-align:top\"><span id=\"bio\"> </span>\n",
       "</td>\n",
       "<td align=\"right\" id=\"menu\" style=\"vertical-align:top\"> </td>\n",
       "</tr>\n",
       "</table>\n",
       "</div>\n",
       "<div id=\"main\">\n",
       "</div>\n",
       "</body>\n",
       "</html>"
      ]
     },
     "execution_count": 72,
     "metadata": {},
     "output_type": "execute_result"
    }
   ],
   "source": [
    "bs"
   ]
  },
  {
   "cell_type": "code",
   "execution_count": 73,
   "metadata": {
    "scrolled": true
   },
   "outputs": [
    {
     "data": {
      "text/plain": [
       "<table width=\"1240px\">\n",
       "<tr>\n",
       "<td align=\"left\"> </td>\n",
       "<td align=\"right\">\n",
       "<a href=\"http://www.tennisabstract.com/blog\">HeavyTopspin.com</a> | <a href=\"https://twitter.com/tennisabstract\">Twitter</a>\n",
       "</td>\n",
       "</tr>\n",
       "</table>"
      ]
     },
     "execution_count": 73,
     "metadata": {},
     "output_type": "execute_result"
    }
   ],
   "source": [
    "table"
   ]
  },
  {
   "cell_type": "code",
   "execution_count": 74,
   "metadata": {},
   "outputs": [],
   "source": [
    "url = \"http://www.tennisabstract.com/cgi-bin/player.cgi?p=RogerFederer\"\n",
    "driver = webdriver.Chrome()"
   ]
  },
  {
   "cell_type": "code",
   "execution_count": 76,
   "metadata": {},
   "outputs": [],
   "source": [
    "driver.get(url)"
   ]
  },
  {
   "cell_type": "code",
   "execution_count": 77,
   "metadata": {},
   "outputs": [],
   "source": [
    "table = driver.find_element_by_id(\"recent-results\")"
   ]
  },
  {
   "cell_type": "code",
   "execution_count": 78,
   "metadata": {},
   "outputs": [],
   "source": [
    "body = table.find_element_by_css_selector('tbody')"
   ]
  },
  {
   "cell_type": "code",
   "execution_count": 79,
   "metadata": {},
   "outputs": [],
   "source": [
    "# Table rows usually have the css tag 'tr'\n",
    "rows = body.find_elements_by_css_selector('tr')"
   ]
  },
  {
   "cell_type": "code",
   "execution_count": 80,
   "metadata": {},
   "outputs": [
    {
     "data": {
      "text/plain": [
       "25"
      ]
     },
     "execution_count": 80,
     "metadata": {},
     "output_type": "execute_result"
    }
   ],
   "source": [
    "len(rows)"
   ]
  },
  {
   "cell_type": "code",
   "execution_count": 81,
   "metadata": {},
   "outputs": [
    {
     "data": {
      "text/plain": [
       "'<td>26-Aug-2019</td><td><a href=\"http://www.tennisabstract.com/cgi-bin/tourney.cgi?t=2019US_Open\">US Open</a></td><td>Hard</td><td>QF</td><td align=\"right\">3</td><td align=\"right\">78</td><td><a href=\"http://www.tennisabstract.com/cgi-bin/player.cgi?p=GrigorDimitrov\">Grigor Dimitrov</a> [BUL] d. (3)<b>Federer</b></td><td>3-6 6-4 3-6 6-4 6-2</td><td align=\"right\">0.91</td><td align=\"right\">4.2%</td><td align=\"right\">0.7%</td><td align=\"right\">61.1%</td><td align=\"right\">73.9%</td><td align=\"right\">50.0%</td><td align=\"right\">10/15</td><td align=\"right\">3:12</td>'"
      ]
     },
     "execution_count": 81,
     "metadata": {},
     "output_type": "execute_result"
    }
   ],
   "source": [
    "rows[0].get_attribute('innerHTML')"
   ]
  },
  {
   "cell_type": "code",
   "execution_count": 82,
   "metadata": {},
   "outputs": [],
   "source": [
    "row_data = rows[0].find_elements_by_css_selector('td')"
   ]
  },
  {
   "cell_type": "code",
   "execution_count": 83,
   "metadata": {},
   "outputs": [
    {
     "name": "stdout",
     "output_type": "stream",
     "text": [
      "26-Aug-2019\n",
      "US Open\n",
      "Hard\n",
      "QF\n",
      "3\n",
      "78\n",
      "Grigor Dimitrov [BUL] d. (3)Federer\n",
      "3-6 6-4 3-6 6-4 6-2\n",
      "0.91\n",
      "4.2%\n",
      "0.7%\n",
      "61.1%\n",
      "73.9%\n",
      "50.0%\n",
      "10/15\n",
      "3:12\n"
     ]
    }
   ],
   "source": [
    "for e in row_data: \n",
    "    print(e.text)"
   ]
  },
  {
   "cell_type": "code",
   "execution_count": 84,
   "metadata": {},
   "outputs": [],
   "source": [
    "data_list = []\n",
    "for r in rows: \n",
    "    row_list = []\n",
    "    row_data = r.find_elements_by_css_selector('td')\n",
    "    for d in row_data: \n",
    "        row_list.append(d.text)\n",
    "    data_list.append(row_list)"
   ]
  },
  {
   "cell_type": "code",
   "execution_count": 85,
   "metadata": {},
   "outputs": [
    {
     "data": {
      "text/plain": [
       "['01-Jul-2019',\n",
       " 'Wimbledon',\n",
       " 'Grass',\n",
       " 'R16',\n",
       " '3',\n",
       " '20',\n",
       " '(2)Federer d. (17)Matteo Berrettini [ITA]',\n",
       " '6-1 6-2 6-2',\n",
       " '2.77',\n",
       " '8.2%',\n",
       " '1.6%',\n",
       " '68.9%',\n",
       " '88.1%',\n",
       " '68.4%',\n",
       " '1/1',\n",
       " '1:14']"
      ]
     },
     "execution_count": 85,
     "metadata": {},
     "output_type": "execute_result"
    }
   ],
   "source": [
    "data_list[10]"
   ]
  },
  {
   "cell_type": "code",
   "execution_count": 86,
   "metadata": {},
   "outputs": [
    {
     "data": {
      "text/plain": [
       "16"
      ]
     },
     "execution_count": 86,
     "metadata": {},
     "output_type": "execute_result"
    }
   ],
   "source": [
    "len(data_list[10])"
   ]
  },
  {
   "cell_type": "code",
   "execution_count": 87,
   "metadata": {},
   "outputs": [
    {
     "data": {
      "text/plain": [
       "'Date Tournament Surface Rd Rk vRk Score DR A% DF% 1stIn 1st% 2nd% BPSvd Time'"
      ]
     },
     "execution_count": 87,
     "metadata": {},
     "output_type": "execute_result"
    }
   ],
   "source": [
    "headers = table.find_element_by_css_selector('thead')\n",
    "headers.text"
   ]
  },
  {
   "cell_type": "code",
   "execution_count": 88,
   "metadata": {},
   "outputs": [
    {
     "name": "stdout",
     "output_type": "stream",
     "text": [
      "['Date', 'Tournament', 'Surface', 'Rd', 'Rk', 'vRk', 'Score', 'DR', 'A%', 'DF%', '1stIn', '1st%', '2nd%', 'BPSvd', 'Time']\n"
     ]
    }
   ],
   "source": [
    "columns = headers.text.split(' ')\n",
    "print(columns)"
   ]
  },
  {
   "cell_type": "code",
   "execution_count": 89,
   "metadata": {},
   "outputs": [
    {
     "name": "stdout",
     "output_type": "stream",
     "text": [
      "Number of columns:     15\n",
      "\n",
      "Number of data points: 16\n"
     ]
    }
   ],
   "source": [
    "print('Number of columns:     '+ str(len(columns)))\n",
    "print()\n",
    "print('Number of data points: '+ str(len(data_list[0])))"
   ]
  },
  {
   "cell_type": "code",
   "execution_count": 90,
   "metadata": {},
   "outputs": [],
   "source": [
    "columns = ['Date','Tournament','Surface','Rd','Rk','vRk', \n",
    "           'Opponent','Score','DR','A%','DF%','1stIn',\n",
    "           '1st%','2nd%','BPSvd','Time']"
   ]
  },
  {
   "cell_type": "code",
   "execution_count": 91,
   "metadata": {},
   "outputs": [
    {
     "name": "stdout",
     "output_type": "stream",
     "text": [
      "['26-Aug-2019', 'US Open', 'Hard', 'QF', '3', '78', 'Grigor Dimitrov [BUL] d. (3)Federer', '3-6 6-4 3-6 6-4 6-2', '0.91', '4.2%', '0.7%', '61.1%', '73.9%', '50.0%', '10/15', '3:12']\n"
     ]
    }
   ],
   "source": [
    "print(data_list[0])"
   ]
  },
  {
   "cell_type": "code",
   "execution_count": 92,
   "metadata": {},
   "outputs": [],
   "source": [
    "federer_h2h = pd.DataFrame(data_list[1:], columns=columns)"
   ]
  },
  {
   "cell_type": "code",
   "execution_count": 93,
   "metadata": {},
   "outputs": [
    {
     "data": {
      "text/html": [
       "<div>\n",
       "<style scoped>\n",
       "    .dataframe tbody tr th:only-of-type {\n",
       "        vertical-align: middle;\n",
       "    }\n",
       "\n",
       "    .dataframe tbody tr th {\n",
       "        vertical-align: top;\n",
       "    }\n",
       "\n",
       "    .dataframe thead th {\n",
       "        text-align: right;\n",
       "    }\n",
       "</style>\n",
       "<table border=\"1\" class=\"dataframe\">\n",
       "  <thead>\n",
       "    <tr style=\"text-align: right;\">\n",
       "      <th></th>\n",
       "      <th>Date</th>\n",
       "      <th>Tournament</th>\n",
       "      <th>Surface</th>\n",
       "      <th>Rd</th>\n",
       "      <th>Rk</th>\n",
       "      <th>vRk</th>\n",
       "      <th>Opponent</th>\n",
       "      <th>Score</th>\n",
       "      <th>DR</th>\n",
       "      <th>A%</th>\n",
       "      <th>DF%</th>\n",
       "      <th>1stIn</th>\n",
       "      <th>1st%</th>\n",
       "      <th>2nd%</th>\n",
       "      <th>BPSvd</th>\n",
       "      <th>Time</th>\n",
       "    </tr>\n",
       "  </thead>\n",
       "  <tbody>\n",
       "    <tr>\n",
       "      <th>0</th>\n",
       "      <td>26-Aug-2019</td>\n",
       "      <td>US Open</td>\n",
       "      <td>Hard</td>\n",
       "      <td>R16</td>\n",
       "      <td>3</td>\n",
       "      <td>15</td>\n",
       "      <td>(3)Federer d. (15)David Goffin [BEL]</td>\n",
       "      <td>6-2 6-2 6-0</td>\n",
       "      <td>2.18</td>\n",
       "      <td>16.1%</td>\n",
       "      <td>4.8%</td>\n",
       "      <td>67.7%</td>\n",
       "      <td>83.3%</td>\n",
       "      <td>40.0%</td>\n",
       "      <td>5/7</td>\n",
       "      <td>1:19</td>\n",
       "    </tr>\n",
       "    <tr>\n",
       "      <th>1</th>\n",
       "      <td>26-Aug-2019</td>\n",
       "      <td>US Open</td>\n",
       "      <td>Hard</td>\n",
       "      <td>R32</td>\n",
       "      <td>3</td>\n",
       "      <td>58</td>\n",
       "      <td>(3)Federer d. Daniel Evans [GBR]</td>\n",
       "      <td>6-2 6-2 6-1</td>\n",
       "      <td>2.60</td>\n",
       "      <td>16.4%</td>\n",
       "      <td>1.6%</td>\n",
       "      <td>65.6%</td>\n",
       "      <td>80.0%</td>\n",
       "      <td>71.4%</td>\n",
       "      <td>1/2</td>\n",
       "      <td>1:20</td>\n",
       "    </tr>\n",
       "    <tr>\n",
       "      <th>2</th>\n",
       "      <td>26-Aug-2019</td>\n",
       "      <td>US Open</td>\n",
       "      <td>Hard</td>\n",
       "      <td>R64</td>\n",
       "      <td>3</td>\n",
       "      <td>99</td>\n",
       "      <td>(3)Federer d. Damir Dzumhur [BIH]</td>\n",
       "      <td>3-6 6-2 6-3 6-4</td>\n",
       "      <td>1.20</td>\n",
       "      <td>13.4%</td>\n",
       "      <td>3.4%</td>\n",
       "      <td>68.9%</td>\n",
       "      <td>76.8%</td>\n",
       "      <td>43.2%</td>\n",
       "      <td>6/8</td>\n",
       "      <td>2:22</td>\n",
       "    </tr>\n",
       "    <tr>\n",
       "      <th>3</th>\n",
       "      <td>26-Aug-2019</td>\n",
       "      <td>US Open</td>\n",
       "      <td>Hard</td>\n",
       "      <td>R128</td>\n",
       "      <td>3</td>\n",
       "      <td>190</td>\n",
       "      <td>(3)Federer d. Sumit Nagal [IND]</td>\n",
       "      <td>4-6 6-1 6-2 6-4</td>\n",
       "      <td>1.21</td>\n",
       "      <td>9.1%</td>\n",
       "      <td>5.3%</td>\n",
       "      <td>60.6%</td>\n",
       "      <td>71.3%</td>\n",
       "      <td>48.1%</td>\n",
       "      <td>10/13</td>\n",
       "      <td>2:30</td>\n",
       "    </tr>\n",
       "    <tr>\n",
       "      <th>4</th>\n",
       "      <td>12-Aug-2019</td>\n",
       "      <td>Cincinnati Masters</td>\n",
       "      <td>Hard</td>\n",
       "      <td>R16</td>\n",
       "      <td>3</td>\n",
       "      <td>70</td>\n",
       "      <td>(Q)Andrey Rublev [RUS] d. (3)Federer</td>\n",
       "      <td>6-3 6-4</td>\n",
       "      <td>0.68</td>\n",
       "      <td>10.2%</td>\n",
       "      <td>4.1%</td>\n",
       "      <td>65.3%</td>\n",
       "      <td>62.5%</td>\n",
       "      <td>52.9%</td>\n",
       "      <td>1/4</td>\n",
       "      <td>1:01</td>\n",
       "    </tr>\n",
       "  </tbody>\n",
       "</table>\n",
       "</div>"
      ],
      "text/plain": [
       "          Date          Tournament Surface    Rd Rk  vRk  \\\n",
       "0  26-Aug-2019             US Open    Hard   R16  3   15   \n",
       "1  26-Aug-2019             US Open    Hard   R32  3   58   \n",
       "2  26-Aug-2019             US Open    Hard   R64  3   99   \n",
       "3  26-Aug-2019             US Open    Hard  R128  3  190   \n",
       "4  12-Aug-2019  Cincinnati Masters    Hard   R16  3   70   \n",
       "\n",
       "                               Opponent            Score    DR     A%   DF%  \\\n",
       "0  (3)Federer d. (15)David Goffin [BEL]      6-2 6-2 6-0  2.18  16.1%  4.8%   \n",
       "1      (3)Federer d. Daniel Evans [GBR]      6-2 6-2 6-1  2.60  16.4%  1.6%   \n",
       "2     (3)Federer d. Damir Dzumhur [BIH]  3-6 6-2 6-3 6-4  1.20  13.4%  3.4%   \n",
       "3       (3)Federer d. Sumit Nagal [IND]  4-6 6-1 6-2 6-4  1.21   9.1%  5.3%   \n",
       "4  (Q)Andrey Rublev [RUS] d. (3)Federer          6-3 6-4  0.68  10.2%  4.1%   \n",
       "\n",
       "   1stIn   1st%   2nd%  BPSvd  Time  \n",
       "0  67.7%  83.3%  40.0%    5/7  1:19  \n",
       "1  65.6%  80.0%  71.4%    1/2  1:20  \n",
       "2  68.9%  76.8%  43.2%    6/8  2:22  \n",
       "3  60.6%  71.3%  48.1%  10/13  2:30  \n",
       "4  65.3%  62.5%  52.9%    1/4  1:01  "
      ]
     },
     "execution_count": 93,
     "metadata": {},
     "output_type": "execute_result"
    }
   ],
   "source": [
    "federer_h2h.head()"
   ]
  },
  {
   "cell_type": "markdown",
   "metadata": {},
   "source": [
    "- A slightly different approach:"
   ]
  },
  {
   "cell_type": "code",
   "execution_count": 94,
   "metadata": {},
   "outputs": [
    {
     "data": {
      "text/plain": [
       "16"
      ]
     },
     "execution_count": 94,
     "metadata": {},
     "output_type": "execute_result"
    }
   ],
   "source": [
    "header = table.find_element_by_css_selector('thead')\n",
    "\n",
    "header_elements = header.find_elements_by_css_selector('th')\n",
    "\n",
    "len(header_elements)"
   ]
  },
  {
   "cell_type": "code",
   "execution_count": 95,
   "metadata": {},
   "outputs": [
    {
     "name": "stdout",
     "output_type": "stream",
     "text": [
      "['Date', 'Tournament', 'Surface', 'Rd', 'Rk', 'vRk', '', 'Score', 'DR', 'A%', 'DF%', '1stIn', '1st%', '2nd%', 'BPSvd', 'Time']\n"
     ]
    }
   ],
   "source": [
    "headers = []\n",
    "\n",
    "for x in header_elements: \n",
    "    headers.append(x.text)\n",
    "print(headers)"
   ]
  },
  {
   "cell_type": "markdown",
   "metadata": {},
   "source": [
    "## Some other neat stuff:"
   ]
  },
  {
   "cell_type": "code",
   "execution_count": null,
   "metadata": {},
   "outputs": [],
   "source": [
    "# Let's take a screenshot! \n",
    "\n",
    "driver.get('https://www.nytimes.com')\n",
    "\n",
    "driver.get_screenshot_as_file('ny_times_front_pg.png')\n",
    "\n",
    "driver.quit()"
   ]
  },
  {
   "cell_type": "code",
   "execution_count": null,
   "metadata": {},
   "outputs": [],
   "source": [
    "# The .get_attribute() method is your friend\n",
    "# Example code (don't run this):\n",
    "\n",
    "# element.get_attribute(\"attribute name\")\n",
    "\n",
    "# attribute_value = WebDriverWait(driver, 20).until(EC.presence_of_element_located((By.ID,\n",
    "#                                                                 \"id_name_here\"))).get_attribute(\"attribute_name_here\")"
   ]
  },
  {
   "cell_type": "markdown",
   "metadata": {},
   "source": [
    "# Example of \"complete\" scraper:\n",
    "\n",
    "- Including an example of `.get_attribute()`"
   ]
  },
  {
   "cell_type": "code",
   "execution_count": null,
   "metadata": {},
   "outputs": [],
   "source": [
    "topic_url_dict = {'15': 'arts', '16':'sports', '24':'sci-tech', '14': 'business',\n",
    "                  '17': 'international', '13': 'authority'}\n",
    "\n",
    "topic_codes = list(topic_url_dict.keys())\n",
    "\n",
    "driver = webdriver.Chrome()"
   ]
  },
  {
   "cell_type": "code",
   "execution_count": null,
   "metadata": {},
   "outputs": [],
   "source": [
    "# Before creating a scraper, examine user interface structure:\n",
    "# Can we scroll through articles? Do we need to get the article links first?\n",
    "\n",
    "driver.get('http://www.satirewire.com/')"
   ]
  },
  {
   "cell_type": "code",
   "execution_count": null,
   "metadata": {},
   "outputs": [],
   "source": [
    "# <-- STEP 1 -->\n",
    "# Create a function to scrape the links of articles:\n",
    "\n",
    "def scrape_links_satirewire(topic_codes):\n",
    "    \n",
    "    base_url = \"http://www.satirewire.com/content1/?cat=\"\n",
    "    link_list = []\n",
    "    \n",
    "    for code in topic_codes: \n",
    "        url = base_url + code \n",
    "        topic = topic_url_dict[code]\n",
    "        driver.get(url)\n",
    "        time.sleep(1.18)\n",
    "        last_page = driver.find_element_by_class_name('pages').text\n",
    "        last_page_value = int(last_page.split(' of ', 1)[1])\n",
    "        link_objects1 = driver.find_elements_by_class_name('morelink')\n",
    "        print('Scraping ', len(link_objects1), topic.upper(), ' article links')\n",
    "        for link in link_objects1:\n",
    "            if '#' not in link.get_attribute('href'):\n",
    "                link_list.append((link.get_attribute('href'), topic))\n",
    "            else:\n",
    "                pass       \n",
    "        for x in range(2, (last_page_value + 1)):\n",
    "            driver.get(url + '&paged=' + str(x))\n",
    "            time.sleep(1.08)\n",
    "            link_objects1 = driver.find_elements_by_class_name('morelink')\n",
    "            print('Scraping ', len(link_objects1), topic.upper(), ' article links')\n",
    "\n",
    "            for link in link_objects1:\n",
    "                if '#' not in link.get_attribute('href'):\n",
    "                    link_list.append((link.get_attribute('href'), topic))\n",
    "                else:\n",
    "                    pass                        \n",
    "    df = pd.DataFrame()\n",
    "    df['urls'] = [x[0] for x in link_list]\n",
    "    df['topics'] = [x[1] for x in link_list]\n",
    "    df = df.drop_duplicates(subset='urls')\n",
    "    set_satirewire_urls = [(df['urls'][i], df['topics'][i]) for i in list(df.index)]\n",
    "    \n",
    "    print('-----------------------------------')\n",
    "    print('Total of', len(set_satirewire_urls), 'urls to scrape for articles')\n",
    "    print('-----------------------------------')\n",
    "    return set_satirewire_urls                  "
   ]
  },
  {
   "cell_type": "code",
   "execution_count": null,
   "metadata": {},
   "outputs": [],
   "source": [
    "# <-- STEP 2 -->\n",
    "# Create a helper function to clean up the article's text:\n",
    "\n",
    "def clean_up_satirewire(dirty_string):\n",
    "    \n",
    "    body_clean1 = re.sub(r\"\\s+\", \" \", dirty_string)\n",
    "    body_squeaky = body_clean1.split('Copyright ©', 1)[0]\n",
    "    sep1 = '(SatireWire) — '\n",
    "    sep2 = '(SatireWire.com) — '\n",
    "    sep3 = '(SatireWire.com) – '\n",
    "    if sep1 in body_squeaky:\n",
    "        clean = body_squeaky.split(sep1, 1)[1]\n",
    "    elif sep2 in body_squeaky:\n",
    "        clean = body_squeaky.split(sep2, 1)[1]\n",
    "    elif sep3 in body_squeaky:\n",
    "        clean = body_squeaky.split(sep3, 1)[1]\n",
    "    else:\n",
    "        clean = body_squeaky\n",
    "    return clean "
   ]
  },
  {
   "cell_type": "code",
   "execution_count": null,
   "metadata": {},
   "outputs": [],
   "source": [
    "print('Are these to \"dash\" characters equal to each other? Answer: ' + str(bool('—'=='–')))"
   ]
  },
  {
   "cell_type": "code",
   "execution_count": null,
   "metadata": {},
   "outputs": [],
   "source": [
    "# <-- STEP 3 -->\n",
    "# Create a helper function to scrape individual article content:\n",
    "\n",
    "def scrape_one_article(url, topic, ind, all_urls, all_dates, all_titles, \n",
    "                       all_lengths, all_topics1, body_contents, source_id):\n",
    "    try:\n",
    "        driver.get(url)\n",
    "        time.sleep(1.1)\n",
    "        body = driver.find_element_by_class_name('entry').text\n",
    "        length = round(len(body) /5/ 250, 1)\n",
    "        \n",
    "        if length >= .5:\n",
    "            if url not in all_urls:                \n",
    "                date = driver.find_element_by_class_name('entry-date').text\n",
    "                date = pd.to_datetime(date).date().strftime('%Y-%m-%d')\n",
    "                title = driver.find_element_by_tag_name('h2').text\n",
    "                body_squeaky = clean_up_satirewire(body)\n",
    "                \n",
    "                all_urls.append(url)\n",
    "                body_contents.append(body_squeaky)\n",
    "                all_dates.append(date)\n",
    "                all_titles.append(title)\n",
    "                all_lengths.append(length)\n",
    "                all_topics1.append(topic)\n",
    "\n",
    "#           --- ADDING CATEGORIES AT A LATER TIME FOR TOPIC MODELING ---\n",
    "#                 category_dict = find_categories(content, categories)\n",
    "#                 all_topics1.append(category_dict[0])\n",
    "#                 all_topics2.append(category_dict[1])\n",
    "#                 all_topics3.append(category_dict[2])\n",
    "#                 all_topics4.append(category_dict[3])\n",
    "#                 all_topics5.append(category_dict[4])\n",
    "\n",
    "            else:\n",
    "                print(\"Duplicate link not added\", ind)\n",
    "                pass\n",
    "        else:\n",
    "            print('Not worthy of scraping article #', ind)\n",
    "            pass\n",
    "    except Exception as e:\n",
    "        print('Nothing to scrape for link #', str(ind) , e)\n",
    "        pass"
   ]
  },
  {
   "cell_type": "code",
   "execution_count": null,
   "metadata": {},
   "outputs": [],
   "source": [
    "# <-- STEP 4 -->\n",
    "# Scrape each article's content and populate a dataframe\n",
    "\n",
    "def scrape_satirewire_articles(urls_list):\n",
    "    ind = 1\n",
    "    body_contents = []\n",
    "    all_urls = []\n",
    "    all_dates = []\n",
    "    all_titles = []\n",
    "    all_lengths = []\n",
    "    all_topics1 = []\n",
    "    author = 'Author not specified'\n",
    "    source_id = 'SatireWire'\n",
    "    \n",
    "#     all_topics2 = []\n",
    "#     all_topics3 = []\n",
    "#     all_topics4 = []\n",
    "#     all_topics5 = []\n",
    "    \n",
    "    for url, topic in urls_list:\n",
    "        print('Working on #' + str(ind) + ' of '+ str(len(urls_list)) +' links')\n",
    "        print()\n",
    "        scrape_one_article(url, topic, ind, all_urls, all_dates, all_titles, \n",
    "                           all_lengths, all_topics1, body_contents, source_id)\n",
    "        ind += 1    \n",
    "\n",
    "    df = pd.DataFrame()\n",
    "    df['body_content'] = body_contents\n",
    "    df['url'] = all_urls\n",
    "    df['date'] = all_dates\n",
    "    df['title'] = all_titles\n",
    "    df['length'] = all_lengths\n",
    "    df['topic_1'] = all_topics1\n",
    "    df['author'] = author\n",
    "    df['source_id'] = source_id\n",
    "    df['satire_or_not'] = 'satire'\n",
    "    df['label'] = 1\n",
    "\n",
    "# ADDING CATEGORIES AT A LATER TIME FOR TOPIC MODELING    \n",
    "#     df['topic_1'] = all_topics1\n",
    "#     df['topic_2'] = all_topics2\n",
    "#     df['topic_3'] = all_topics3\n",
    "#     df['topic_4'] = all_topics4\n",
    "#     df['topic_5'] = all_topics5\n",
    "\n",
    "    df = df.drop_duplicates()\n",
    "    df.index = range(len(df.index))\n",
    "\n",
    "    return df"
   ]
  },
  {
   "cell_type": "code",
   "execution_count": null,
   "metadata": {},
   "outputs": [],
   "source": [
    "# # Complete scraping function\n",
    "\n",
    "def scrape_satirewire():\n",
    "    \n",
    "    start = time.time()\n",
    "    \n",
    "    satirewire_urls = scrape_links_satirewire(['16'])    # <--- FOR TESTING/DEMONSTRATION PURPOSES\n",
    "#     satirewore_urls = scrape_links_satirewire(topic_codes)\n",
    "\n",
    "    satirewire_df = scrape_satirewire_articles(satirewire_urls)\n",
    "    print('The satire scraper took ', str(time.time() - start), 'seconds.')  # <---   Can remove before uploading to AWS\n",
    "\n",
    "    return satirewire_df"
   ]
  },
  {
   "cell_type": "code",
   "execution_count": null,
   "metadata": {
    "scrolled": true
   },
   "outputs": [],
   "source": [
    "satire = scrape_satirewire()"
   ]
  },
  {
   "cell_type": "code",
   "execution_count": null,
   "metadata": {
    "scrolled": true
   },
   "outputs": [],
   "source": [
    "satire.tail()"
   ]
  },
  {
   "cell_type": "code",
   "execution_count": null,
   "metadata": {},
   "outputs": [],
   "source": [
    "satire.body_content[30]"
   ]
  },
  {
   "cell_type": "code",
   "execution_count": null,
   "metadata": {},
   "outputs": [],
   "source": []
  }
 ],
 "metadata": {
  "kernelspec": {
   "display_name": "Python 3",
   "language": "python",
   "name": "python3"
  },
  "language_info": {
   "codemirror_mode": {
    "name": "ipython",
    "version": 3
   },
   "file_extension": ".py",
   "mimetype": "text/x-python",
   "name": "python",
   "nbconvert_exporter": "python",
   "pygments_lexer": "ipython3",
   "version": "3.7.3"
  },
  "toc": {
   "base_numbering": 1,
   "nav_menu": {},
   "number_sections": true,
   "sideBar": true,
   "skip_h1_title": false,
   "title_cell": "Table of Contents",
   "title_sidebar": "Contents",
   "toc_cell": false,
   "toc_position": {},
   "toc_section_display": true,
   "toc_window_display": false
  }
 },
 "nbformat": 4,
 "nbformat_minor": 2
}
